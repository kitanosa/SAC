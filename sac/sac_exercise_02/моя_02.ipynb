{
 "cells": [
  {
   "cell_type": "markdown",
   "metadata": {},
   "source": [
    "<h1 style='color: green'>Задание 1 вариант А</h1>"
   ]
  },
  {
   "cell_type": "code",
   "execution_count": 12,
   "metadata": {},
   "outputs": [],
   "source": [
    "# Дихотомия\n",
    "# Смысл: делим отрезок пополам до тех пор пока значение функции от середины отрезка не будем меньше епсилон\n",
    "# Берем середину отрезка median. Если (1) значение функции в этой точке меньше eps то нашли\n",
    "def dichotomy(fun, a, b, eps=1e-5):\n",
    "    if fun(x=a)*fun(x=b) > 0: # на этом отрезке нет корня\n",
    "        return None # ничего не возвращает\n",
    "    median = (a+b)/2.0\n",
    "    if abs(fun(x=median).n()) < eps: # (1). .n() выведет приближенное значение. Аргументом для данной функции является количество битов точности)\n",
    "        return median\n",
    "    if fun(x=median)*fun(x=a) < 0: # возвращаем метод от левой половины графика\n",
    "        return dichotomy(fun, a, median)\n",
    "    else:\n",
    "        return dichotomy(fun, median, b)# возвращаем метод от правой половины графика"
   ]
  },
  {
   "cell_type": "code",
   "execution_count": 47,
   "metadata": {},
   "outputs": [],
   "source": [
    "# Ньютон (метод касательных)\n",
    "# проводим касательную к графику. Потом от точки пересечения касательной с OX проводим снова касательную. И так до тех пор пор не будет разность иксов eps \n",
    "def newton(fun, a, b, eps=1e-5):\n",
    "    x1 = a# промежуток на котором есть пересечение с осью координат\n",
    "    x2 = (a + b) / 2\n",
    "    df = fun.derivative()# производная\n",
    "    while abs(x2 - x1) >= eps:\n",
    "        x1 = x2\n",
    "        x2 = x1 - fun(x=x1)/df(x=x1)# точка пересечения касательной с осью oX\n",
    "    if abs(fun(x=x1)) <= 1e-3:\n",
    "        return x1\n",
    "    else:\n",
    "        return None"
   ]
  },
  {
   "cell_type": "code",
   "execution_count": 66,
   "metadata": {},
   "outputs": [],
   "source": [
    "sage: PolynomialRing?"
   ]
  },
  {
   "cell_type": "code",
   "execution_count": 63,
   "metadata": {},
   "outputs": [],
   "source": [
    "#значения которые будут доступны для интерактивного взаимодействия\n",
    "a = (0, 5, 1) # от 0 до 5 с шагом 1\n",
    "b = (0, 5, 1)"
   ]
  },
  {
   "cell_type": "code",
   "execution_count": 65,
   "metadata": {
    "scrolled": true
   },
   "outputs": [
    {
     "data": {
      "application/vnd.jupyter.widget-view+json": {
       "model_id": "a34e488761494c20a0582b92d9b9ddeb",
       "version_major": 2,
       "version_minor": 0
      },
      "text/plain": [
       "Interactive function <function funcs_interact at 0x6fff2c6725f0> with 2 widgets\n",
       "  a: IntSlider(value=2, descri…"
      ]
     },
     "metadata": {},
     "output_type": "display_data"
    }
   ],
   "source": [
    "#декоратор для интерактивного взаимодействия, включающий вызов функций из пред. шагов\n",
    "@interact\n",
    "def funcs_interact(a=a, b=b):\n",
    "    #некоторые нужные константы\n",
    "    xmin = -2\n",
    "    xmax = 8\n",
    "    ymin = -5\n",
    "    ymax = 7\n",
    "    eps = 1e-5\n",
    "    \n",
    "    \n",
    "    #сама функция\n",
    "    f(x) = x^3 - 9*x^2 + 23*x - 15\n",
    "    \n",
    "    #значения корней полученных методом дихотомии. Массивы\n",
    "    dich = [dichotomy(f, a, b, eps)]*3\n",
    "\n",
    "    \n",
    "    #значения корней полученных методом Ньютона\n",
    "    newt = [newton(f, a, b, eps)]*3\n",
    "\n",
    "    \n",
    "    \n",
    "    #первые три графика методом дихотомии\n",
    "    gr = [plot(f, (x, xmin, xmax), ymin=ymin, ymax=ymax, aspect_ratio=1, color='green')]*3 # aspect_ratio=1 делает единичные отрезки равной длины по высоте и длине\n",
    "    #вторая строчка графиком методом Ньютона\n",
    "    gr.extend([plot(f, (x, xmin, xmax), ymin=ymin, ymax=ymax, aspect_ratio=1,  color='yellow')]*3) # extend добавляет несколько элементов в конец списка gr\n",
    "    for i in range(len(gr)): # отрисовка точек\n",
    "        if i <= 2 and dich[i] is not None: # \n",
    "            gr[i] += point((float(dich[i]), 0), color='red', aspect_ratio=1, size=30)\n",
    "        if i > 2 and newt[i-3] is not None:\n",
    "            gr[i] += point((float(newt[i-3]), 0), color='red', aspect_ratio=1, size=30)\n",
    "    \n",
    "    #вывод массива графиков на один холст\n",
    "    graphics_array([[gr[0], gr[1], gr[2]], [gr[3], gr[4], gr[5]]]).show(frame=True)\n",
    "    \n",
    "    #Печать на экран значений корней\n",
    "    my_str = \"Корни полученные методом дихотомии: \"\n",
    "    for d in dich:\n",
    "        if d is not None:\n",
    "            my_str += \"{0:.1}\".format(d) + \" \"\n",
    "    my_str += \"\\nКорни полученные методом Ньютона: \"\n",
    "    for n in newt:\n",
    "        if n is not None:\n",
    "            my_str += str(round(float(n))) + \" \"\n",
    "    print(my_str)"
   ]
  },
  {
   "cell_type": "code",
   "execution_count": 51,
   "metadata": {},
   "outputs": [
    {
     "data": {
      "text/plain": [
       "[x == 1, x == 5, x == 3]"
      ]
     },
     "execution_count": 51,
     "metadata": {},
     "output_type": "execute_result"
    }
   ],
   "source": [
    "#результат полученный функцией solve\n",
    "f(x) = x^3 - 9*x^2 + 23*x - 15\n",
    "solve([f(x) == 0], x)"
   ]
  },
  {
   "cell_type": "markdown",
   "metadata": {},
   "source": [
    "<h1 style='color: green'>Задание 2 вариант 1</h1>"
   ]
  },
  {
   "cell_type": "code",
   "execution_count": 82,
   "metadata": {},
   "outputs": [
    {
     "data": {
      "text/html": [
       "<html><script type=\"math/tex; mode=display\">\\newcommand{\\Bold}[1]{\\mathbf{#1}}\\verb|R|\\phantom{\\verb!x!}\\verb|=| \\Bold{Q}[x]</script></html>"
      ],
      "text/latex": [
       "\\begin{math}\n",
       "\\newcommand{\\Bold}[1]{\\mathbf{#1}}\\verb|R|\\phantom{\\verb!x!}\\verb|=| \\Bold{Q}[x]\n",
       "\\end{math}"
      ],
      "text/plain": [
       "'R = ' Univariate Polynomial Ring in x over Rational Field"
      ]
     },
     "metadata": {},
     "output_type": "display_data"
    },
    {
     "name": "stdout",
     "output_type": "stream",
     "text": [
      "НОД = x - 1\n"
     ]
    }
   ],
   "source": [
    "# Полученный НОД при помощи стандартной функции gcd. Полином - многочлен от нескольких переменных\n",
    "# Чтобы корректно работать с полиномами необходимо задать кольцо. Кольцо - алгебраическая структура, в которой определены операция обратимого сложения и операция умножения, по свойствам похожие на соответствующие операции над числами. Оно помогает давать ответы в тех случаях когда программа сама этого не может сделать с базовыми функциями\n",
    "\n",
    "R.<x> = PolynomialRing(QQ)#  кольцо PolynomialRing рациональных чисел QQ\n",
    "show(\"R = \", R)\n",
    "f = x^4 - 4*x^3 + 7*x^2 - 5*x + 1\n",
    "g = x^5 - x^4 - x^3 + x^2 + 5*x - 5\n",
    "res_gcd = gcd(f, g)\n",
    "print(\"НОД =\", str(res_gcd))"
   ]
  },
  {
   "cell_type": "code",
   "execution_count": 72,
   "metadata": {},
   "outputs": [],
   "source": [
    "#функция вычисления коэффициентов тождества Безу и gcd(a,b)\n",
    "# Соотноше́ние Безу́ — представление наибольшего общего делителя целых чисел в виде их линейной комбинации с целыми коэффициентами"
   ]
  },
  {
   "cell_type": "code",
   "execution_count": 7,
   "metadata": {},
   "outputs": [],
   "source": [
    "# для вычисления коэффициентов безу воспользуемся расширенным Алгоритмом Евклида \n",
    "def bezout(a, b):\n",
    "    x, xx, y, yy = 1, 0, 0, 1\n",
    "    while b:\n",
    "        q, r = a // b, a % b # a, b целые числа, не равные одновременно нулю. r -  это остаток от деления предпредыдущего числа на предыдущее\n",
    "        a = b\n",
    "        b = r\n",
    "        x, xx = xx, x - xx*q # посредством этой формулы из википедии получаем коэффициенты\n",
    "        y, yy = yy, y - yy*q\n",
    "    return (x, y, a)"
   ]
  },
  {
   "cell_type": "code",
   "execution_count": 77,
   "metadata": {},
   "outputs": [
    {
     "data": {
      "text/html": [
       "<html><script type=\"math/tex; mode=display\">\\newcommand{\\Bold}[1]{\\mathbf{#1}}\\left(-\\frac{16}{21} x^{3} - \\frac{128}{441} x^{2} + \\frac{656}{441} x + \\frac{1264}{441}, \\frac{16}{21} x^{2} - \\frac{880}{441} x + \\frac{640}{441}, \\frac{1936}{441} x - \\frac{1936}{441}\\right)</script></html>"
      ],
      "text/latex": [
       "\\begin{math}\n",
       "\\newcommand{\\Bold}[1]{\\mathbf{#1}}\\left(-\\frac{16}{21} x^{3} - \\frac{128}{441} x^{2} + \\frac{656}{441} x + \\frac{1264}{441}, \\frac{16}{21} x^{2} - \\frac{880}{441} x + \\frac{640}{441}, \\frac{1936}{441} x - \\frac{1936}{441}\\right)\n",
       "\\end{math}"
      ],
      "text/plain": [
       "(-16/21*x^3 - 128/441*x^2 + 656/441*x + 1264/441,\n",
       " 16/21*x^2 - 880/441*x + 640/441,\n",
       " 1936/441*x - 1936/441)"
      ]
     },
     "metadata": {},
     "output_type": "display_data"
    }
   ],
   "source": [
    "#получаем результат в виде tuple трех элементов u, v, gcd(a,b)\n",
    "bez = bezout(f, g)\n",
    "show(bez)"
   ]
  },
  {
   "cell_type": "code",
   "execution_count": 9,
   "metadata": {},
   "outputs": [
    {
     "name": "stdout",
     "output_type": "stream",
     "text": [
      "НОД = 1936/441*x - 1936/441\n"
     ]
    }
   ],
   "source": [
    "#полученный gcd(a, b) - левая часть тождества\n",
    "print(\"НОД =\", f*bez[0]+bez[1]*g)"
   ]
  },
  {
   "cell_type": "code",
   "execution_count": 10,
   "metadata": {},
   "outputs": [
    {
     "name": "stdout",
     "output_type": "stream",
     "text": [
      "НОД = 1936/441*x - 1936/441\n"
     ]
    }
   ],
   "source": [
    "#полученный gcd(a,b) - правая часть тождества\n",
    "print(\"НОД =\", bez[2])"
   ]
  },
  {
   "cell_type": "code",
   "execution_count": 11,
   "metadata": {},
   "outputs": [
    {
     "name": "stdout",
     "output_type": "stream",
     "text": [
      "Получено верное тождество\n"
     ]
    }
   ],
   "source": [
    "#проверка тождества Безу f*u + v*g = gcd(f, g)\n",
    "if (f*bez[0]+bez[1]*g) - bez[2] == 0:\n",
    "    print(\"Получено верное тождество\")\n",
    "else:\n",
    "    print(\"Получено неверное тождество\")"
   ]
  },
  {
   "cell_type": "markdown",
   "metadata": {},
   "source": [
    "**Полученный gcd при помощи тождества Безу равен gcd полученному при помощи функции gcd, умноженному на константу C=1936/441**"
   ]
  }
 ],
 "metadata": {
  "kernelspec": {
   "display_name": "SageMath 9.2",
   "language": "sage",
   "name": "sagemath"
  },
  "language_info": {
   "codemirror_mode": {
    "name": "ipython",
    "version": 3
   },
   "file_extension": ".py",
   "mimetype": "text/x-python",
   "name": "python",
   "nbconvert_exporter": "python",
   "pygments_lexer": "ipython3",
   "version": "3.7.7"
  }
 },
 "nbformat": 4,
 "nbformat_minor": 4
}
