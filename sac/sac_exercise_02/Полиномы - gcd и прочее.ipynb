{
 "cells": [
  {
   "cell_type": "markdown",
   "metadata": {},
   "source": [
    "<h1>Кольца</h1>\n",
    "Чтобы корректно работать с полиномами (да и с символьными выражениями тоже)<br>\n",
    "необходимо задать кольцо.<br>\n",
    "Кольцо - алгебраическая структура, в которой определены операция обратимого сложения и операция умножения, по свойствам похожие на соответствующие операции над числами.<br>\n",
    "...(см. далее в учебниках по матану)<br>\n",
    "Если совсем упрощенно, то это множество чисел, при котором закреплены операции сложения и умножения.<br>\n",
    "Результатом выполнения этих операций над числами из этого выбранного множества будут являться элементы этого множества (свойство замыкания).\n",
    "<br>\n",
    "И еще к этому добавляются некоторые свойства. Такие как наличие единичного элемента, наличие нейтрального элемента и пр."
   ]
  },
  {
   "cell_type": "markdown",
   "metadata": {},
   "source": [
    "<h2>Зачем нужны кольца</h2>\n",
    "В рамках работы в Sage же кольца необходимо задавать, чтобы получать ожидаемый результат.<br>\n",
    "Рассмотрим пример:"
   ]
  },
  {
   "cell_type": "code",
   "execution_count": 13,
   "metadata": {},
   "outputs": [
    {
     "data": {
      "text/plain": [
       "x^2 - 2"
      ]
     },
     "execution_count": 13,
     "metadata": {},
     "output_type": "execute_result"
    }
   ],
   "source": [
    "factor(x^2-2)"
   ]
  },
  {
   "cell_type": "markdown",
   "metadata": {},
   "source": [
    "Полином $x^2 - 2 $ вполне разложим на множители: $(x - \\sqrt{2})\\cdot (x + \\sqrt(2))$<br>\n",
    "Но получен ответ, что разложения нет.<br>\n",
    "Это случилось потому, что по умолчанию было взято кольцо целых чисел $\\mathbb{Z}$ для коэффициентов полинома."
   ]
  },
  {
   "cell_type": "markdown",
   "metadata": {},
   "source": [
    "Теперь, не углубляясь пока в тонкости использования, объявим кольцо действительных чисел и пересчитаем разложение на множители"
   ]
  },
  {
   "cell_type": "code",
   "execution_count": 14,
   "metadata": {},
   "outputs": [],
   "source": [
    "myPRing.<x> = PolynomialRing(RR)"
   ]
  },
  {
   "cell_type": "code",
   "execution_count": 15,
   "metadata": {},
   "outputs": [
    {
     "data": {
      "text/plain": [
       "(x - 1.41421356237310) * (x + 1.41421356237310)"
      ]
     },
     "execution_count": 15,
     "metadata": {},
     "output_type": "execute_result"
    }
   ],
   "source": [
    "factor(x^2-2)"
   ]
  },
  {
   "cell_type": "markdown",
   "metadata": {},
   "source": [
    "Видим, что теперь результат соответствует ожиданиям."
   ]
  },
  {
   "cell_type": "markdown",
   "metadata": {},
   "source": []
  },
  {
   "cell_type": "markdown",
   "metadata": {},
   "source": [
    "<h2>Объявление и использование</h2>"
   ]
  },
  {
   "cell_type": "markdown",
   "metadata": {},
   "source": [
    "Кольца:<br>\n",
    "+ ZZ - ℤ, кольцо целых чисел;<br>\n",
    "+ QQ - ℚ, кольцо рациональных чисел;<br>\n",
    "+ RR - ℝ, кольцо действительных чисел;<br>\n",
    "+ CC - ℂ, кольцо комплексных чисел;<br>"
   ]
  },
  {
   "cell_type": "markdown",
   "metadata": {},
   "source": [
    "Можно задавать кольца через сокращения, можно через имена.<br>\n",
    "Например, следующие конструкции дадут в итоге один и тот же результат:\n",
    "+ $R3.<x,y,z> = PolynomialRing(QQ)$\n",
    "+ $R3.<x,y,z> = QQ[\"x, y, z\"]$\n",
    "+ $R3.<x,y,z> = QQ[]$\n",
    "+ $R3.<x,y,z> = RationalField()[]$"
   ]
  },
  {
   "cell_type": "code",
   "execution_count": 18,
   "metadata": {},
   "outputs": [
    {
     "data": {
      "text/html": [
       "<html><script type=\"math/tex; mode=display\">\\newcommand{\\Bold}[1]{\\mathbf{#1}}\\Bold{Q}[x, y, z]</script></html>"
      ],
      "text/plain": [
       "Multivariate Polynomial Ring in x, y, z over Rational Field"
      ]
     },
     "metadata": {},
     "output_type": "display_data"
    },
    {
     "data": {
      "text/plain": [
       "x^2 - 2"
      ]
     },
     "execution_count": 18,
     "metadata": {},
     "output_type": "execute_result"
    }
   ],
   "source": [
    "R3.<x,y,z> = PolynomialRing(QQ)\n",
    "show(R3)\n",
    "factor(x^2-2)"
   ]
  },
  {
   "cell_type": "code",
   "execution_count": 20,
   "metadata": {},
   "outputs": [
    {
     "data": {
      "text/html": [
       "<html><script type=\"math/tex; mode=display\">\\newcommand{\\Bold}[1]{\\mathbf{#1}}\\Bold{Q}[x, y, z]</script></html>"
      ],
      "text/plain": [
       "Multivariate Polynomial Ring in x, y, z over Rational Field"
      ]
     },
     "metadata": {},
     "output_type": "display_data"
    },
    {
     "data": {
      "text/plain": [
       "x^2 - 2"
      ]
     },
     "execution_count": 20,
     "metadata": {},
     "output_type": "execute_result"
    }
   ],
   "source": [
    "R3.<x,y,z> = QQ[\"x, y, z\"]\n",
    "show(R3)\n",
    "factor(x^2-2)"
   ]
  },
  {
   "cell_type": "code",
   "execution_count": 21,
   "metadata": {},
   "outputs": [
    {
     "data": {
      "text/html": [
       "<html><script type=\"math/tex; mode=display\">\\newcommand{\\Bold}[1]{\\mathbf{#1}}\\Bold{Q}[x, y, z]</script></html>"
      ],
      "text/plain": [
       "Multivariate Polynomial Ring in x, y, z over Rational Field"
      ]
     },
     "metadata": {},
     "output_type": "display_data"
    },
    {
     "data": {
      "text/plain": [
       "x^2 - 2"
      ]
     },
     "execution_count": 21,
     "metadata": {},
     "output_type": "execute_result"
    }
   ],
   "source": [
    "R3.<x,y,z> = QQ[]\n",
    "show(R3)\n",
    "factor(x^2-2)"
   ]
  },
  {
   "cell_type": "code",
   "execution_count": 22,
   "metadata": {},
   "outputs": [
    {
     "data": {
      "text/html": [
       "<html><script type=\"math/tex; mode=display\">\\newcommand{\\Bold}[1]{\\mathbf{#1}}\\Bold{Q}[x, y, z]</script></html>"
      ],
      "text/plain": [
       "Multivariate Polynomial Ring in x, y, z over Rational Field"
      ]
     },
     "metadata": {},
     "output_type": "display_data"
    },
    {
     "data": {
      "text/plain": [
       "x^2 - 2"
      ]
     },
     "execution_count": 22,
     "metadata": {},
     "output_type": "execute_result"
    }
   ],
   "source": [
    "R3.<x,y,z> = RationalField()[]\n",
    "show(R3)\n",
    "factor(x^2-2)"
   ]
  },
  {
   "cell_type": "markdown",
   "metadata": {},
   "source": [
    "Посмотреть, как подобные конструкции переводятся на язык Python, можно с помощью функции $preparse$:"
   ]
  },
  {
   "cell_type": "code",
   "execution_count": 27,
   "metadata": {},
   "outputs": [
    {
     "data": {
      "text/plain": [
       "\"R3 = QQ['x, y, z']; (x, y, z,) = R3._first_ngens(3)\""
      ]
     },
     "execution_count": 27,
     "metadata": {},
     "output_type": "execute_result"
    }
   ],
   "source": [
    "preparse(\"R3.<x,y,z> = QQ[]\")"
   ]
  },
  {
   "cell_type": "code",
   "execution_count": 32,
   "metadata": {},
   "outputs": [
    {
     "data": {
      "text/plain": [
       "'x = R3.gen(0)'"
      ]
     },
     "execution_count": 32,
     "metadata": {},
     "output_type": "execute_result"
    }
   ],
   "source": [
    "preparse(\"x = R3.0\")"
   ]
  },
  {
   "cell_type": "markdown",
   "metadata": {},
   "source": [
    "В примерах выше $R3$ - это любое имя.<br>\n",
    "В угловых скобках перечисляем переменные - имена, по которым к этим переменным будем и обращаться.<br>\n",
    "Т.е. отдельно их создавать или объявлять не нужно.<br><br>\n",
    "\n",
    "Если же используется инструкция без угловых скобок:\n",
    "$R3 = QQ['x, y, z']$<br>\n",
    "то необходимо отдельно и объявить сами переменные (указатели на них, по факту).<br>\n",
    "Конечный вариант использования:"
   ]
  },
  {
   "cell_type": "code",
   "execution_count": 30,
   "metadata": {},
   "outputs": [
    {
     "data": {
      "text/html": [
       "<html><script type=\"math/tex; mode=display\">\\newcommand{\\Bold}[1]{\\mathbf{#1}}\\verb|Пример|\\phantom{\\verb!x!}\\verb|использования|\\phantom{\\verb!x!}\\verb|колец.|</script></html>"
      ],
      "text/plain": [
       "'Пример использования колец.'"
      ]
     },
     "metadata": {},
     "output_type": "display_data"
    },
    {
     "data": {
      "text/html": [
       "<html><script type=\"math/tex; mode=display\">\\newcommand{\\Bold}[1]{\\mathbf{#1}}\\verb|Для|\\phantom{\\verb!x!}\\verb|f|\\phantom{\\verb!x!}\\verb|=| x^{6} + 4 x^{4} y^{2} + 4 x^{2} y^{4}</script></html>"
      ],
      "text/plain": [
       "'Для f = ' x^6 + 4*x^4*y^2 + 4*x^2*y^4"
      ]
     },
     "metadata": {},
     "output_type": "display_data"
    },
    {
     "data": {
      "text/html": [
       "<html><script type=\"math/tex; mode=display\">\\newcommand{\\Bold}[1]{\\mathbf{#1}}\\phantom{\\verb!x!}\\verb|и|\\phantom{\\verb!x!}\\verb|g|\\phantom{\\verb!x!}\\verb|=| x^{2} y^{2}</script></html>"
      ],
      "text/plain": [
       "' и g = ' x^2*y^2"
      ]
     },
     "metadata": {},
     "output_type": "display_data"
    },
    {
     "data": {
      "text/html": [
       "<html><script type=\"math/tex; mode=display\">\\newcommand{\\Bold}[1]{\\mathbf{#1}}\\verb|НОД|\\phantom{\\verb!x!}\\verb|=| x^{2}</script></html>"
      ],
      "text/plain": [
       "'НОД = ' x^2"
      ]
     },
     "metadata": {},
     "output_type": "display_data"
    }
   ],
   "source": [
    "show('Пример использования колец.')\n",
    "R3 = QQ['x, y, z']\n",
    "(x, y, z,) = R3._first_ngens(3)\n",
    "f = (x^3 + 2*y^2*x)^2\n",
    "g = x^2*y^2\n",
    "res = gcd(f, g)\n",
    "show('Для f = ', f)\n",
    "show(' и g = ', g)\n",
    "show(\"НОД = \", res)"
   ]
  },
  {
   "cell_type": "code",
   "execution_count": 33,
   "metadata": {},
   "outputs": [
    {
     "data": {
      "text/html": [
       "<html><script type=\"math/tex; mode=display\">\\newcommand{\\Bold}[1]{\\mathbf{#1}}\\verb|или|\\phantom{\\verb!x!}\\verb|так:|</script></html>"
      ],
      "text/plain": [
       "'или так:'"
      ]
     },
     "metadata": {},
     "output_type": "display_data"
    },
    {
     "data": {
      "text/html": [
       "<html><script type=\"math/tex; mode=display\">\\newcommand{\\Bold}[1]{\\mathbf{#1}}\\verb|Для|\\phantom{\\verb!x!}\\verb|f|\\phantom{\\verb!x!}\\verb|=| x_{8}^{6} + 4 x_{8}^{4} y^{2} + 4 x_{8}^{2} y^{4}</script></html>"
      ],
      "text/plain": [
       "'Для f = ' x_8^6 + 4*x_8^4*y^2 + 4*x_8^2*y^4"
      ]
     },
     "metadata": {},
     "output_type": "display_data"
    },
    {
     "data": {
      "text/html": [
       "<html><script type=\"math/tex; mode=display\">\\newcommand{\\Bold}[1]{\\mathbf{#1}}\\phantom{\\verb!x!}\\verb|и|\\phantom{\\verb!x!}\\verb|g|\\phantom{\\verb!x!}\\verb|=| x_{8}^{2} y^{2}</script></html>"
      ],
      "text/plain": [
       "' и g = ' x_8^2*y^2"
      ]
     },
     "metadata": {},
     "output_type": "display_data"
    },
    {
     "data": {
      "text/html": [
       "<html><script type=\"math/tex; mode=display\">\\newcommand{\\Bold}[1]{\\mathbf{#1}}\\verb|НОД|\\phantom{\\verb!x!}\\verb|=| x_{8}^{2}</script></html>"
      ],
      "text/plain": [
       "'НОД = ' x_8^2"
      ]
     },
     "metadata": {},
     "output_type": "display_data"
    }
   ],
   "source": [
    "show(\"или так:\")\n",
    "R3 = QQ['x_8, y, z']\n",
    "x = R3.gen(0)\n",
    "y = R3.gen(1)\n",
    "f = (x^3 + 2*y^2*x)^2\n",
    "g = x^2*y^2\n",
    "res = gcd(f, g)\n",
    "show('Для f = ', f)\n",
    "show(' и g = ', g)\n",
    "show(\"НОД = \", res)"
   ]
  },
  {
   "cell_type": "markdown",
   "metadata": {},
   "source": [
    "Можно обратить внимание, что при задании имен переменных в ковычках, можно так же задать и расширенное отображение переменной - то, как она будет выводиться при помощи, например, команды $show$"
   ]
  },
  {
   "cell_type": "markdown",
   "metadata": {},
   "source": [
    "Можно также сразу получить кольцо и образующую следующим\n",
    "способом:<br>\n",
    "* $R, t = QQ[\"t\"].objgen()$\n",
    "* $R, (x, y) = PolynomialRing(RationalField(),'x, y').objgens()$\n",
    "* $t = QQ[\"t\"].gen()$\n",
    "* $R, t = objgen(QQ[\"t\"])$\n",
    "* $t = gen(QQ[\"t\"])$\n",
    "* $R.<t> = objgen(QQ[’t’])$\n",
    "* $R.<t>= RationalField()[]$"
   ]
  },
  {
   "cell_type": "markdown",
   "metadata": {},
   "source": [
    "Подробнее см. в документации.<br>\n",
    "+ Sage Tutorial - Basic Rings https://doc.sagemath.org/html/en/tutorial/tour_rings.html\n",
    "+ Sage Tutorial - Polynomial https://doc.sagemath.org/html/en/tutorial/tour_polynomial.html\n",
    "+ Sage Tutorial - Matrix spaces https://doc.sagemath.org/html/en/tutorial/tour_linalg.html#matrix-spaces"
   ]
  },
  {
   "cell_type": "markdown",
   "metadata": {},
   "source": [
    "<h1>Элементарные операции с полиномами</h1>"
   ]
  },
  {
   "cell_type": "markdown",
   "metadata": {},
   "source": [
    "Выполним теперь элементарные символьные вычисления с\n",
    "многочленами:"
   ]
  },
  {
   "cell_type": "code",
   "execution_count": 103,
   "metadata": {},
   "outputs": [
    {
     "data": {
      "text/plain": [
       "t^2 + 3.00000000000000*t + 2.00000000000000"
      ]
     },
     "execution_count": 103,
     "metadata": {},
     "output_type": "execute_result"
    }
   ],
   "source": [
    "R.<t> = RR[\"t\"]\n",
    "poly = (t+1) * (t+2)\n",
    "poly"
   ]
  },
  {
   "cell_type": "code",
   "execution_count": 104,
   "metadata": {},
   "outputs": [
    {
     "data": {
      "text/plain": [
       "True"
      ]
     },
     "execution_count": 104,
     "metadata": {},
     "output_type": "execute_result"
    }
   ],
   "source": [
    "poly in R"
   ]
  },
  {
   "cell_type": "code",
   "execution_count": 105,
   "metadata": {},
   "outputs": [
    {
     "data": {
      "text/plain": [
       "4.00000000000000*t^14 + 12.0000000000000*t^9 - 3.15789473684211*t^7 + 9.00000000000000*t^4 - 4.73684210526316*t^2 + 0.623268698060942"
      ]
     },
     "execution_count": 105,
     "metadata": {},
     "output_type": "execute_result"
    }
   ],
   "source": [
    "f = 2*t^7 + 3*t^2 - 15/19\n",
    "f^2"
   ]
  },
  {
   "cell_type": "markdown",
   "metadata": {},
   "source": [
    "Посмотрим полный список методов у полинома:"
   ]
  },
  {
   "cell_type": "code",
   "execution_count": 106,
   "metadata": {},
   "outputs": [
    {
     "name": "stdout",
     "output_type": "stream",
     "text": [
      "abs\n",
      "adams_operator\n",
      "add_bigoh\n",
      "additive_order\n",
      "all_roots_in_interval\n",
      "any_root\n",
      "args\n",
      "base_extend\n",
      "base_ring\n",
      "cartesian_product\n",
      "category\n",
      "change_ring\n",
      "change_variable_name\n",
      "coefficients\n",
      "complex_roots\n",
      "compose_power\n",
      "compose_trunc\n",
      "composed_op\n",
      "constant_coefficient\n",
      "content_ideal\n",
      "cyclotomic_part\n",
      "degree\n",
      "denominator\n",
      "derivative\n",
      "dict\n",
      "diff\n",
      "differentiate\n",
      "discriminant\n",
      "dispersion\n",
      "dispersion_set\n",
      "divides\n",
      "dump\n",
      "dumps\n",
      "euclidean_degree\n",
      "exponents\n",
      "factor\n",
      "gcd\n",
      "gradient\n",
      "hamming_weight\n",
      "has_cyclotomic_factor\n",
      "homogenize\n",
      "integral\n",
      "inverse_mod\n",
      "inverse_of_unit\n",
      "inverse_series_trunc\n",
      "is_constant\n",
      "is_cyclotomic\n",
      "is_cyclotomic_product\n",
      "is_gen\n",
      "is_homogeneous\n",
      "is_idempotent\n",
      "is_irreducible\n",
      "is_monic\n",
      "is_monomial\n",
      "is_nilpotent\n",
      "is_one\n",
      "is_prime\n",
      "is_primitive\n",
      "is_real_rooted\n",
      "is_square\n",
      "is_squarefree\n",
      "is_term\n",
      "is_unit\n",
      "is_weil_polynomial\n",
      "is_zero\n",
      "lc\n",
      "lcm\n",
      "leading_coefficient\n",
      "list\n",
      "lm\n",
      "lt\n",
      "map_coefficients\n",
      "mod\n",
      "monic\n",
      "monomial_coefficient\n",
      "monomials\n",
      "multiplication_trunc\n",
      "multiplicative_order\n",
      "n\n",
      "newton_raphson\n",
      "newton_slopes\n",
      "norm\n",
      "nth_root\n",
      "number_of_real_roots\n",
      "number_of_roots_in_interval\n",
      "number_of_terms\n",
      "numerator\n",
      "numerical_approx\n",
      "ord\n",
      "order\n",
      "padded_list\n",
      "parent\n",
      "plot\n",
      "polynomial\n",
      "power_trunc\n",
      "powers\n",
      "prec\n",
      "pseudo_quo_rem\n",
      "quo_rem\n",
      "radical\n",
      "rational_reconstruct\n",
      "real_roots\n",
      "reciprocal_transform\n",
      "rename\n",
      "reset_name\n",
      "resultant\n",
      "reverse\n",
      "revert_series\n",
      "root_field\n",
      "roots\n",
      "save\n",
      "shift\n",
      "specialization\n",
      "splitting_field\n",
      "sqrt\n",
      "square\n",
      "squarefree_decomposition\n",
      "squarefree_part\n",
      "subs\n",
      "substitute\n",
      "sylvester_matrix\n",
      "symmetric_power\n",
      "trace_polynomial\n",
      "truncate\n",
      "truncate_abs\n",
      "valuation\n",
      "variable_name\n",
      "variables\n",
      "xgcd\n"
     ]
    }
   ],
   "source": [
    "for function_name in dir(f):\n",
    "    if function_name[0] != '_':\n",
    "        print(function_name)"
   ]
  },
  {
   "cell_type": "code",
   "execution_count": 107,
   "metadata": {},
   "outputs": [
    {
     "data": {
      "text/plain": [
       "Real Field with 53 bits of precision"
      ]
     },
     "execution_count": 107,
     "metadata": {},
     "output_type": "execute_result"
    }
   ],
   "source": [
    "f.base_ring()"
   ]
  },
  {
   "cell_type": "code",
   "execution_count": 108,
   "metadata": {},
   "outputs": [
    {
     "data": {
      "text/html": [
       "<html><script type=\"math/tex; mode=display\">\\newcommand{\\Bold}[1]{\\mathbf{#1}}2.00000000000000 t^{7} + 0.000000000000000 t^{6} + 0.000000000000000 t^{5} + 0.000000000000000 t^{4} + 0.000000000000000 t^{3} + 3.00000000000000 t^{2} + 0.000000000000000 t - 0.789473684210526</script></html>"
      ],
      "text/plain": [
       "2.00000000000000*t^7 + 3.00000000000000*t^2 - 0.789473684210526"
      ]
     },
     "metadata": {},
     "output_type": "display_data"
    }
   ],
   "source": [
    "show(f)"
   ]
  },
  {
   "cell_type": "code",
   "execution_count": 109,
   "metadata": {},
   "outputs": [
    {
     "data": {
      "text/plain": [
       "[-0.789473684210526, 3.00000000000000, 2.00000000000000]"
      ]
     },
     "execution_count": 109,
     "metadata": {},
     "output_type": "execute_result"
    }
   ],
   "source": [
    "f.coefficients()"
   ]
  },
  {
   "cell_type": "code",
   "execution_count": 111,
   "metadata": {},
   "outputs": [
    {
     "data": {
      "text/plain": [
       "7"
      ]
     },
     "execution_count": 111,
     "metadata": {},
     "output_type": "execute_result"
    }
   ],
   "source": [
    "f.degree()  # степень полинома"
   ]
  },
  {
   "cell_type": "code",
   "execution_count": 114,
   "metadata": {},
   "outputs": [
    {
     "data": {
      "text/plain": [
       "2*t^7 + 3*t^2 - 15/19"
      ]
     },
     "execution_count": 114,
     "metadata": {},
     "output_type": "execute_result"
    }
   ],
   "source": [
    "f.change_ring(QQ)  # сменить кольцо -- возвращает полином с переданным кольцом"
   ]
  },
  {
   "cell_type": "code",
   "execution_count": 113,
   "metadata": {},
   "outputs": [
    {
     "data": {
      "text/plain": [
       "{0: -0.789473684210526, 2: 3.00000000000000, 7: 2.00000000000000}"
      ]
     },
     "execution_count": 113,
     "metadata": {},
     "output_type": "execute_result"
    }
   ],
   "source": [
    "f.dict()  # {степень: коэф., ...}"
   ]
  },
  {
   "cell_type": "code",
   "execution_count": 110,
   "metadata": {},
   "outputs": [
    {
     "data": {
      "text/plain": [
       "[(-1.02350587390361, 1), (-0.519590210671517, 1), (0.507336638497988, 1)]"
      ]
     },
     "execution_count": 110,
     "metadata": {},
     "output_type": "execute_result"
    }
   ],
   "source": [
    "f.roots()"
   ]
  },
  {
   "cell_type": "code",
   "execution_count": null,
   "metadata": {},
   "outputs": [],
   "source": []
  },
  {
   "cell_type": "markdown",
   "metadata": {},
   "source": [
    "<h1>Алгоритм Евклида - НОД</h1>"
   ]
  },
  {
   "cell_type": "markdown",
   "metadata": {},
   "source": [
    "<h2>Простейший пример</h2>"
   ]
  },
  {
   "cell_type": "code",
   "execution_count": 1,
   "metadata": {},
   "outputs": [
    {
     "data": {
      "text/html": [
       "<html><script type=\"math/tex; mode=display\">\\newcommand{\\Bold}[1]{\\mathbf{#1}}\\verb|R2|\\phantom{\\verb!x!}\\verb|=| \\Bold{R}[x, y]</script></html>"
      ],
      "text/latex": [
       "\\begin{math}\n",
       "\\newcommand{\\Bold}[1]{\\mathbf{#1}}\\verb|R2|\\phantom{\\verb!x!}\\verb|=| \\Bold{R}[x, y]\n",
       "\\end{math}"
      ],
      "text/plain": [
       "'R2 =' Multivariate Polynomial Ring in x, y over Real Field with 53 bits of precision"
      ]
     },
     "metadata": {},
     "output_type": "display_data"
    },
    {
     "data": {
      "text/html": [
       "<html><script type=\"math/tex; mode=display\">\\newcommand{\\Bold}[1]{\\mathbf{#1}}\\verb|Для|\\phantom{\\verb!x!}\\verb|f|\\phantom{\\verb!x!}\\verb|=| x^{6} + 4.00000000000000 x^{4} y^{2} + 4.00000000000000 x^{2} y^{4}</script></html>"
      ],
      "text/latex": [
       "\\begin{math}\n",
       "\\newcommand{\\Bold}[1]{\\mathbf{#1}}\\verb|Для|\\phantom{\\verb!x!}\\verb|f|\\phantom{\\verb!x!}\\verb|=| x^{6} + 4.00000000000000 x^{4} y^{2} + 4.00000000000000 x^{2} y^{4}\n",
       "\\end{math}"
      ],
      "text/plain": [
       "'Для f = ' x^6 + 4.00000000000000*x^4*y^2 + 4.00000000000000*x^2*y^4"
      ]
     },
     "metadata": {},
     "output_type": "display_data"
    },
    {
     "data": {
      "text/html": [
       "<html><script type=\"math/tex; mode=display\">\\newcommand{\\Bold}[1]{\\mathbf{#1}}\\phantom{\\verb!x!}\\verb|и|\\phantom{\\verb!x!}\\verb|g|\\phantom{\\verb!x!}\\verb|=| x^{2} y^{2}</script></html>"
      ],
      "text/latex": [
       "\\begin{math}\n",
       "\\newcommand{\\Bold}[1]{\\mathbf{#1}}\\phantom{\\verb!x!}\\verb|и|\\phantom{\\verb!x!}\\verb|g|\\phantom{\\verb!x!}\\verb|=| x^{2} y^{2}\n",
       "\\end{math}"
      ],
      "text/plain": [
       "' и g = ' x^2*y^2"
      ]
     },
     "metadata": {},
     "output_type": "display_data"
    },
    {
     "data": {
      "text/html": [
       "<html><script type=\"math/tex; mode=display\">\\newcommand{\\Bold}[1]{\\mathbf{#1}}\\verb|НОД|\\phantom{\\verb!x!}\\verb|=| x^{2}</script></html>"
      ],
      "text/latex": [
       "\\begin{math}\n",
       "\\newcommand{\\Bold}[1]{\\mathbf{#1}}\\verb|НОД|\\phantom{\\verb!x!}\\verb|=| x^{2}\n",
       "\\end{math}"
      ],
      "text/plain": [
       "'НОД = ' x^2"
      ]
     },
     "metadata": {},
     "output_type": "display_data"
    }
   ],
   "source": [
    "R2.<x, y> = RR[\"x, y\"]\n",
    "show(\"R2 =\", R2)\n",
    "f = (x^3 + 2*y^2*x)^2\n",
    "g = x^2*y^2\n",
    "res = gcd(f, g)\n",
    "show('Для f = ', f)\n",
    "show(' и g = ', g)\n",
    "show(\"НОД = \", res)"
   ]
  },
  {
   "cell_type": "markdown",
   "metadata": {},
   "source": [
    "<h2>Соотношение Безу</h2>\n",
    "<br>\n",
    "По заданию нужно также найти представление для найденного НОД'а (d):<br>\n",
    "$d = f\\cdot u + g\\cdot v$<br>\n",
    "Вышеуказанное представление является соотношением Безу:<br>\n",
    "\"<br>\n",
    "Пусть $a, b$ — целые числа, хотя бы одно из которых не ноль. <br>\n",
    "Тогда существуют такие целые числа $x,y$, что выполняется соотношение<br>\n",
    "$НОД{\\displaystyle (a,b)=x\\cdot a+y\\cdot b}(a, b) = x \\cdot a + y \\cdot b$\n",
    "<br>\"\n"
   ]
  },
  {
   "cell_type": "markdown",
   "metadata": {},
   "source": [
    "Для нахождения коэффициентов Безу можно использовать расширенный алгоритм Евклида нахождения НОД и представить остатки в виде линейных комбинаций a и b.<br>\n",
    "Шаги алгоритма записываются в следующем виде:<br>\n",
    "${\\displaystyle r_{1}=a-bq_{0},}{\\displaystyle r_{1}=a-bq_{0},}$<br>\n",
    "${\\displaystyle r_{2}=b-r_{1}q_{1}=b-(a-bq_{0})q_{1}=b(1+q_{0}q_{1})-aq_{1},}$<br>\n",
    "${\\displaystyle r_{3}=r_{1}-r_{2}q_{2}=(a-bq_{0})-(b(1+q_{0}q_{1})-aq_{1})q_{2}=a(1+q_{1}q_{2})-b(q_{0}+q_{2}+q_{0}q_{1}q_{2}),}$<br>\n",
    "<br>\n",
    "$\\dots$\n",
    "<br>\n",
    "${\\displaystyle r_{n}=r_{n-2}-r_{n-1}q_{n-1}=\\dots =ax+by.}{\\displaystyle r_{n}=r_{n-2}-r_{n-1}q_{n-1}=\\dots =ax+by.}$"
   ]
  },
  {
   "cell_type": "markdown",
   "metadata": {},
   "source": [
    "<h2>Алгоритм Евклида</h2>\n",
    "<br>\n",
    "Пусть $a$ и $b$ — целые числа, не равные одновременно нулю, и последовательность чисел\n",
    "$$a>b>r_{1}>r_{2}>r_{3}>r_{4}>\\ \\dots \\ >r_{n}$$\n",
    "определена тем, что каждое $r_{k}$ — это остаток от деления предпредыдущего числа на предыдущее, а предпоследнее делится на последнее нацело, то есть:\n",
    "\n",
    "$a=bq_{0}+r_{1},$<br>\n",
    "$b=r_{1}q_{1}+r_{2},$<br>\n",
    "$r_{1}=r_{2}q_{2}+r_{3},$<br>\n",
    "$\\cdots $<br>\n",
    "$r_{k-2}=r_{k-1}q_{k-1}+r_{k},$<br>\n",
    "$\\cdots $<br>\n",
    "$r_{n-2}=r_{n-1}q_{n-1}+r_{n},$<br>\n",
    "$r_{n-1}=r_{n}q_{n}.$<br>\n",
    "<br>\n",
    "Тогда $НОД(a, b)$, наибольший общий делитель $a$ и $b$, равен $r_n$, последнему ненулевому члену этой последовательности."
   ]
  },
  {
   "cell_type": "code",
   "execution_count": null,
   "metadata": {},
   "outputs": [],
   "source": []
  },
  {
   "cell_type": "markdown",
   "metadata": {},
   "source": [
    "<h2>Расширенный алгоритм Евклида и соотношение Безу</h2>\n",
    "<br>\n",
    "Формулы для $r_{i}$ могут быть переписаны следующим образом:<br>\n",
    "$r_{1}=a+b(-q_{0})$<br>\n",
    "$r_{2}=b-r_{1}q_{1}=a(-q_{1})+b(1+q_{1}q_{0})$<br>\n",
    "$\\vdots$<br>\n",
    "$НОД (a,b)=r_{n}=as+bt$<br>\n",
    "Здесь s и t целые. Это представление наибольшего общего делителя называется соотношением Безу, а числа s и t — коэффициентами Безу."
   ]
  },
  {
   "cell_type": "code",
   "execution_count": 99,
   "metadata": {},
   "outputs": [],
   "source": [
    "def bezout(a, b):\n",
    "    '''An implementation of extended Euclidean algorithm.\n",
    "    Returns integer x, y and gcd(a, b) for Bezout equation:\n",
    "        ax + by = gcd(a, b).\n",
    "    '''\n",
    "    x, xx, y, yy = 1, 0, 0, 1\n",
    "    while b:\n",
    "        q = a // b\n",
    "        c = b\n",
    "        b = a % c\n",
    "        a = c\n",
    "        # a, b = b, a % b\n",
    "        x, xx = xx, x - xx*q\n",
    "        y, yy = yy, y - yy*q\n",
    "    return (x, y, a)"
   ]
  },
  {
   "cell_type": "markdown",
   "metadata": {},
   "source": [
    "Выше - код из вики-учебника по расширенному алгоритму Евклида.<br>\n",
    "Вполне рабочий, но не для полиномов. Для полиномов не хватает деления без остатка. И получения остатка."
   ]
  },
  {
   "cell_type": "code",
   "execution_count": 92,
   "metadata": {},
   "outputs": [
    {
     "data": {
      "text/plain": [
       "0.500000000000000*x^6 + 2.00000000000000*x^4*y^2 + 2.00000000000000*x^2*y^4"
      ]
     },
     "execution_count": 92,
     "metadata": {},
     "output_type": "execute_result"
    }
   ],
   "source": [
    "f2"
   ]
  },
  {
   "cell_type": "code",
   "execution_count": 95,
   "metadata": {},
   "outputs": [
    {
     "data": {
      "text/html": [
       "<html><script type=\"math/tex; mode=display\">\\newcommand{\\Bold}[1]{\\mathbf{#1}}0.500000000000000 x^{6} + 2.00000000000000 x^{4} y^{2} + 2.00000000000000 x^{2} y^{4}</script></html>"
      ],
      "text/plain": [
       "0.500000000000000*x^6 + 2.00000000000000*x^4*y^2 + 2.00000000000000*x^2*y^4"
      ]
     },
     "metadata": {},
     "output_type": "display_data"
    },
    {
     "data": {
      "text/html": [
       "<html><script type=\"math/tex; mode=display\">\\newcommand{\\Bold}[1]{\\mathbf{#1}}x^{6} + 4.00000000000000 x^{4} y^{2} + 4.00000000000000 x^{2} y^{4}</script></html>"
      ],
      "text/plain": [
       "x^6 + 4.00000000000000*x^4*y^2 + 4.00000000000000*x^2*y^4"
      ]
     },
     "metadata": {},
     "output_type": "display_data"
    }
   ],
   "source": []
  },
  {
   "cell_type": "code",
   "execution_count": 100,
   "metadata": {},
   "outputs": [
    {
     "data": {
      "text/html": [
       "<html><script type=\"math/tex; mode=display\">\\newcommand{\\Bold}[1]{\\mathbf{#1}}\\verb|R2|\\phantom{\\verb!x!}\\verb|=| \\Bold{Q}[x, y]</script></html>"
      ],
      "text/plain": [
       "'R2 =' Multivariate Polynomial Ring in x, y over Rational Field"
      ]
     },
     "metadata": {},
     "output_type": "display_data"
    },
    {
     "ename": "KeyboardInterrupt",
     "evalue": "",
     "output_type": "error",
     "traceback": [
      "\u001b[0;31m---------------------------------------------------------------------------\u001b[0m",
      "\u001b[0;31mKeyboardInterrupt\u001b[0m                         Traceback (most recent call last)",
      "\u001b[0;32m<ipython-input-100-a7f714c3a083>\u001b[0m in \u001b[0;36m<module>\u001b[0;34m()\u001b[0m\n\u001b[1;32m      3\u001b[0m \u001b[0mf\u001b[0m \u001b[0;34m=\u001b[0m \u001b[0;34m(\u001b[0m\u001b[0mx\u001b[0m\u001b[0;34m**\u001b[0m\u001b[0mInteger\u001b[0m\u001b[0;34m(\u001b[0m\u001b[0;36m3\u001b[0m\u001b[0;34m)\u001b[0m \u001b[0;34m+\u001b[0m \u001b[0mInteger\u001b[0m\u001b[0;34m(\u001b[0m\u001b[0;36m2\u001b[0m\u001b[0;34m)\u001b[0m\u001b[0;34m*\u001b[0m\u001b[0my\u001b[0m\u001b[0;34m**\u001b[0m\u001b[0mInteger\u001b[0m\u001b[0;34m(\u001b[0m\u001b[0;36m2\u001b[0m\u001b[0;34m)\u001b[0m\u001b[0;34m*\u001b[0m\u001b[0mx\u001b[0m\u001b[0;34m)\u001b[0m\u001b[0;34m**\u001b[0m\u001b[0mInteger\u001b[0m\u001b[0;34m(\u001b[0m\u001b[0;36m2\u001b[0m\u001b[0;34m)\u001b[0m\u001b[0;34m\u001b[0m\u001b[0;34m\u001b[0m\u001b[0m\n\u001b[1;32m      4\u001b[0m \u001b[0mg\u001b[0m \u001b[0;34m=\u001b[0m \u001b[0mx\u001b[0m\u001b[0;34m**\u001b[0m\u001b[0mInteger\u001b[0m\u001b[0;34m(\u001b[0m\u001b[0;36m2\u001b[0m\u001b[0;34m)\u001b[0m\u001b[0;34m*\u001b[0m\u001b[0my\u001b[0m\u001b[0;34m**\u001b[0m\u001b[0mInteger\u001b[0m\u001b[0;34m(\u001b[0m\u001b[0;36m2\u001b[0m\u001b[0;34m)\u001b[0m\u001b[0;34m\u001b[0m\u001b[0;34m\u001b[0m\u001b[0m\n\u001b[0;32m----> 5\u001b[0;31m \u001b[0mres\u001b[0m \u001b[0;34m=\u001b[0m \u001b[0mbezout\u001b[0m\u001b[0;34m(\u001b[0m\u001b[0mf\u001b[0m\u001b[0;34m,\u001b[0m \u001b[0mg\u001b[0m\u001b[0;34m)\u001b[0m\u001b[0;34m\u001b[0m\u001b[0;34m\u001b[0m\u001b[0m\n\u001b[0m\u001b[1;32m      6\u001b[0m \u001b[0mshow\u001b[0m\u001b[0;34m(\u001b[0m\u001b[0;34m'Для f = '\u001b[0m\u001b[0;34m,\u001b[0m \u001b[0mf\u001b[0m\u001b[0;34m)\u001b[0m\u001b[0;34m\u001b[0m\u001b[0;34m\u001b[0m\u001b[0m\n\u001b[1;32m      7\u001b[0m \u001b[0mshow\u001b[0m\u001b[0;34m(\u001b[0m\u001b[0;34m' и g = '\u001b[0m\u001b[0;34m,\u001b[0m \u001b[0mg\u001b[0m\u001b[0;34m)\u001b[0m\u001b[0;34m\u001b[0m\u001b[0;34m\u001b[0m\u001b[0m\n",
      "\u001b[0;32m<ipython-input-99-b3786dbd88a0>\u001b[0m in \u001b[0;36mbezout\u001b[0;34m(a, b)\u001b[0m\n\u001b[1;32m      8\u001b[0m         \u001b[0mq\u001b[0m \u001b[0;34m=\u001b[0m \u001b[0ma\u001b[0m \u001b[0;34m//\u001b[0m \u001b[0mb\u001b[0m\u001b[0;34m\u001b[0m\u001b[0;34m\u001b[0m\u001b[0m\n\u001b[1;32m      9\u001b[0m         \u001b[0mc\u001b[0m \u001b[0;34m=\u001b[0m \u001b[0mb\u001b[0m\u001b[0;34m\u001b[0m\u001b[0;34m\u001b[0m\u001b[0m\n\u001b[0;32m---> 10\u001b[0;31m         \u001b[0mb\u001b[0m \u001b[0;34m=\u001b[0m \u001b[0ma\u001b[0m \u001b[0;34m%\u001b[0m \u001b[0mc\u001b[0m\u001b[0;34m\u001b[0m\u001b[0;34m\u001b[0m\u001b[0m\n\u001b[0m\u001b[1;32m     11\u001b[0m         \u001b[0ma\u001b[0m \u001b[0;34m=\u001b[0m \u001b[0mc\u001b[0m\u001b[0;34m\u001b[0m\u001b[0;34m\u001b[0m\u001b[0m\n\u001b[1;32m     12\u001b[0m         \u001b[0;31m# a, b = b, a % b\u001b[0m\u001b[0;34m\u001b[0m\u001b[0;34m\u001b[0m\u001b[0;34m\u001b[0m\u001b[0m\n",
      "\u001b[0;32msrc/cysignals/signals.pyx\u001b[0m in \u001b[0;36mcysignals.signals.python_check_interrupt\u001b[0;34m()\u001b[0m\n",
      "\u001b[0;31mKeyboardInterrupt\u001b[0m: "
     ]
    }
   ],
   "source": [
    "R2.<x, y> = QQ[\"x, y\"]\n",
    "show(\"R2 =\", R2)\n",
    "f = (x^3 + 2*y^2*x)^2\n",
    "g = x^2*y^2\n",
    "res = bezout(f, g)\n",
    "show('Для f = ', f)\n",
    "show(' и g = ', g)\n",
    "show(\"НОД = \", res)"
   ]
  }
 ],
 "metadata": {
  "kernelspec": {
   "display_name": "SageMath 9.2",
   "language": "sage",
   "name": "sagemath"
  },
  "language_info": {
   "codemirror_mode": {
    "name": "ipython",
    "version": 3
   },
   "file_extension": ".py",
   "mimetype": "text/x-python",
   "name": "python",
   "nbconvert_exporter": "python",
   "pygments_lexer": "ipython3",
   "version": "3.7.7"
  }
 },
 "nbformat": 4,
 "nbformat_minor": 2
}
