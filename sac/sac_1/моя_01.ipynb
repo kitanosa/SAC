{
 "cells": [
  {
   "cell_type": "markdown",
   "metadata": {},
   "source": [
    "Результат скидывать на почту tt48@mail.ru в виде файла *.ipynb<br>\n",
    "В теме письма указывать, что это второй курс и что это \"системы аналитических вычислений\" или \"пакеты\". + номер ДЗ туда же.<br>\n",
    "В содержании письма указывать ФИО и группу."
   ]
  },
  {
   "cell_type": "markdown",
   "metadata": {},
   "source": [
    "<h1>Задание 0</h1>\n",
    "<pre>\n",
    "Установить SageMath 9.2 (https://www.sagemath.org/)\n",
    "В случае проблем - писать на почту.\n",
    "\t\n",
    "Как резервный вариант - on-line редакторы\n",
    "\thttps://cocalc.com/doc/jupyter-notebook.html\n",
    "\t\tесть некоторые проблемы по LaTeX возможностям.\n",
    "\thttps://sagecell.sagemath.org/\n",
    "\t\tработает, но предоставляется только одна ячейка\n",
    "\t\n",
    "\t- медленнее работают\n",
    "\t\t, есть ограничения по количеству времени на выполнение запроса\n",
    "\t\t, некоторые ошибки по синтаксису опускаются (LaTeX касается)\n",
    "\t\t, больше места экрана уходит на менюшки и прочего.\n",
    "\t\t\n",
    "\t+ ничего устанавливать не нужно. Можно даже не регистрироваться.\n",
    "</pre>"
   ]
  },
  {
   "cell_type": "markdown",
   "metadata": {},
   "source": [
    "<h1>Задание 1 - часть 1 - Квадратик</h1>\n",
    "Доделать начинания, что были на занятии:<br>\n",
    "при помощи функции отображения графиков отобразить квадратик.<br>\n",
    "Задав квадратик матрицей координат, повернуть и сдвинуть его относительно исходного положения.<br>\n",
    "Вывести исходный квадратик и результат.\n"
   ]
  },
  {
   "cell_type": "code",
   "execution_count": 1,
   "metadata": {},
   "outputs": [
    {
     "data": {
      "image/png": "[encoded data removed]",
      "text/plain": [
       "Graphics object consisting of 2 graphics primitives"
      ]
     },
     "metadata": {},
     "output_type": "display_data"
    }
   ],
   "source": [
    "a = 10 # присваивание\n",
    "b = 10 #свдиг по x\n",
    "c = 10 #сдвиг по y\n",
    "\n",
    "rectangle_src = matrix([\n",
    "[0, 0],\n",
    "[0, a],\n",
    "[a, a],\n",
    "[a, 0],\n",
    "[0, 0]\n",
    "])\n",
    "\n",
    "x_matrix = matrix ([\n",
    "[b, 0],\n",
    "[b, 0],\n",
    "[b, 0],\n",
    "[b, 0],\n",
    "[b, 0]\n",
    "])\n",
    "\n",
    "y_matrix = matrix ([\n",
    "[0, c],\n",
    "[0, c],\n",
    "[0, c],\n",
    "[0, c],\n",
    "[0, c]\n",
    "])\n",
    "\n",
    "alpha = math.radians(10) # Метод преобразует значени в радианы\n",
    "mat_rot = matrix([ # матрица поворота\n",
    "[cos(alpha), sin(alpha)] # поворот происходит путём умножения вектора (описывающего вращаемую точку) на матрицу:\n",
    ", [ -sin(alpha), cos(alpha)]\n",
    "])\n",
    "rectangle_rotated = (rectangle_src* mat_rot) + x_matrix + y_matrix\n",
    "# rectangle_rotated = (rectangle_src* mat_rot) можно не прибавлять. Но в таком случае не будет смещения по x и по y\n",
    "\n",
    "show(\n",
    "line(rectangle_src)+ line(rectangle_rotated) # line() это функция отображающая наш график.\n",
    "    #Но мы можем завернуть его в show для добавления ограничений по x y\n",
    ", xmin=0, xmax=20, ymin=0, ymax=20, aspect_ratio=1)# aspect_ratio=1 делает единичные отрезки равной длины по высоте и длине"
   ]
  },
  {
   "cell_type": "markdown",
   "metadata": {},
   "source": [
    "<h1>Задание 1 - часть 2 - Исследование функции</h1>\n",
    "Для заданной формулой функции найти:\n",
    "<ol>\n",
    "    <li>Область определения функции.</li>\n",
    "    <li>Является ли функция четной или нечетной, является ли периодической.</li>\n",
    "    <li>Точки пересечения графика с осями координат.</li>\n",
    "    <li>Промежутки знакопостоянства.</li>\n",
    "    <li>Промежутки возрастания и убывания.</li>\n",
    "    <li>Точки экстремума и значения в этих точках.</li>\n",
    "    <li>Непрерывность. Наличие точек разрыва и их классификация.</li>\n",
    "    <li>Асимптоты.</li>\n",
    "</ol>\n",
    "Построить график функции, асимптоты, промежутки знакопостоянства. (см. папку с материалами).<br>\n",
    "Необходимо также сделать минимальное, но оформление решения, а не просто набор ответов.\n",
    "\n",
    "<h4>Справочные материалы:</h4>\n",
    "<ol>\n",
    "    <li>Гусак, 1999г. - исследование графиков</li>\n",
    "    <li>Ефимов, Поспелов — т.2, стр. 86</li>\n",
    "    <li>Ильин, Поздняк — т.1, стр. 143 и стр. 300-327</li>\n",
    "    <li>Пискунов — стр. 144-184</li>\n",
    "</ol>"
   ]
  },
  {
   "cell_type": "markdown",
   "metadata": {},
   "source": [
    "<h1>Варианты:</h1>"
   ]
  },
  {
   "cell_type": "code",
   "execution_count": 2,
   "metadata": {},
   "outputs": [
    {
     "data": {
      "text/html": [
       "<html><script type=\"math/tex; mode=display\">\\newcommand{\\Bold}[1]{\\mathbf{#1}}\\frac{{\\left(x^{3} - x^{2} - x + 1\\right)}^{\\frac{1}{3}}}{\\tan\\left(x\\right)}</script></html>"
      ],
      "text/latex": [
       "\\begin{math}\n",
       "\\newcommand{\\Bold}[1]{\\mathbf{#1}}\\frac{{\\left(x^{3} - x^{2} - x + 1\\right)}^{\\frac{1}{3}}}{\\tan\\left(x\\right)}\n",
       "\\end{math}"
      ],
      "text/plain": [
       "(x^3 - x^2 - x + 1)^(1/3)/tan(x)"
      ]
     },
     "metadata": {},
     "output_type": "display_data"
    }
   ],
   "source": [
    "y = (x^3 - x^2 - x + 1)^(1/3) / tan(x)\n",
    "show(y)"
   ]
  },
  {
   "cell_type": "code",
   "execution_count": 3,
   "metadata": {},
   "outputs": [
    {
     "data": {
      "text/html": [
       "<html><script type=\"math/tex; mode=display\">\\newcommand{\\Bold}[1]{\\mathbf{#1}}\\verb|область|\\phantom{\\verb!x!}\\verb|определения|</script></html>"
      ],
      "text/latex": [
       "\\begin{math}\n",
       "\\newcommand{\\Bold}[1]{\\mathbf{#1}}\\verb|область|\\phantom{\\verb!x!}\\verb|определения|\n",
       "\\end{math}"
      ],
      "text/plain": [
       "'область определения'"
      ]
     },
     "metadata": {},
     "output_type": "display_data"
    },
    {
     "data": {
      "text/html": [
       "<html><script type=\"math/tex; mode=display\">\\newcommand{\\Bold}[1]{\\mathbf{#1}}\\left[\\left[x > 0\\right], \\left[x < \\pi\\right]\\right]</script></html>"
      ],
      "text/latex": [
       "\\begin{math}\n",
       "\\newcommand{\\Bold}[1]{\\mathbf{#1}}\\left[\\left[x > 0\\right], \\left[x < \\pi\\right]\\right]\n",
       "\\end{math}"
      ],
      "text/plain": [
       "[[x > 0], [x < pi]]"
      ]
     },
     "metadata": {},
     "output_type": "display_data"
    }
   ],
   "source": [
    "f2 = tan(x) != 0\n",
    "show(\"область определения\")\n",
    "show(solve(f2, x, algorithm='sympy'))\n",
    "# solve возвращает массив решений\n",
    "#find_root возвращает возвращает решение на промежутке\n",
    "\n",
    "# Solve [eqns, vars] — предпринимает попытку решить уравнение или систему уравнений eqns относительно переменных vars;\n",
    "# Solve [eqns, vars, elims] — пытается решать уравнения eqns по переменным vars, исключая переменные elims.\n",
    "# В eqns в качестве знака равенства используется знак «= =».\n",
    "\n",
    "# algorithm='sympy' алгоритм по которому будут производиться вычисления. sympy - библиотека для символьных вычисления. Символьные вычисления — это преобразования и работа с математическими равенствами и формулами как с последовательностью символов.\n",
    "\n",
    "#Численные методы - ответ получаем точный. Например sqrt(2)=1,41...\n",
    "#Аналитические методы - ответ получаем в виде корней и так далее\n",
    "\n",
    "#Nsolve - Для численного решения систем нелинейных уравнений используется функция NSolve:\n",
    "#NSolve [eqns, vars] — пытается численно решить одно уравнение или систему уравнений eqns относительно переменных vars;\n",
    "#NSolve [eqns, vars, elims] — пытается численно решить уравнения eqns относительно vars, исключая переменные elims.\n",
    "\n"
   ]
  },
  {
   "cell_type": "code",
   "execution_count": 2,
   "metadata": {},
   "outputs": [
    {
     "data": {
      "text/html": [
       "<html><script type=\"math/tex; mode=display\">\\newcommand{\\Bold}[1]{\\mathbf{#1}}\\left[x = \\pi z_{1786}\\right]</script></html>"
      ],
      "text/latex": [
       "\\begin{math}\n",
       "\\newcommand{\\Bold}[1]{\\mathbf{#1}}\\left[x = \\pi z_{1786}\\right]\n",
       "\\end{math}"
      ],
      "text/plain": [
       "[x == pi*z1786]"
      ]
     },
     "metadata": {},
     "output_type": "display_data"
    },
    {
     "data": {
      "text/html": [
       "<html><script type=\"math/tex; mode=display\">\\newcommand{\\Bold}[1]{\\mathbf{#1}}\\left[0, \\pi, 2 \\, \\pi, 3 \\, \\pi, 4 \\, \\pi, 5 \\, \\pi, 6 \\, \\pi\\right]</script></html>"
      ],
      "text/latex": [
       "\\begin{math}\n",
       "\\newcommand{\\Bold}[1]{\\mathbf{#1}}\\left[0, \\pi, 2 \\, \\pi, 3 \\, \\pi, 4 \\, \\pi, 5 \\, \\pi, 6 \\, \\pi\\right]\n",
       "\\end{math}"
      ],
      "text/plain": [
       "[0, pi, 2*pi, 3*pi, 4*pi, 5*pi, 6*pi]"
      ]
     },
     "metadata": {},
     "output_type": "display_data"
    },
    {
     "data": {
      "image/png": "[encoded data removed]",
      "text/plain": [
       "Graphics object consisting of 8 graphics primitives"
      ]
     },
     "execution_count": 2,
     "metadata": {},
     "output_type": "execute_result"
    }
   ],
   "source": [
    "sols = solve(tan(x) == 0, x, to_poly_solve='force') # to_poly_solve='force' позволяет показать \"скрытые решения\". Как в нашем случае - это периодичность. Нам выдадут ответ pi*n\n",
    "show(sols)\n",
    "excl_expr = sols[0].rhs() # ближайшее значение к sols[0] (потому что в самом нем разрыв)\n",
    "excl_const = excl_expr.args()[0] # args()[0] вывод аргументов\n",
    "xmax=20\n",
    "excl_list = [excl_expr({excl_const: i}) for i in range(0, ceil(xmax/pi))] # масиив значений исключений\n",
    "# range(0, ceil(xmax/pi) пробегаемся от нуля до ceil(xmax/pi). Перебор аля \n",
    "# ceil - Этот метод возвращает наименьшее целое число, не меньше, чем х.\n",
    "\n",
    "show(excl_list)\n",
    "y(x)=(x**3 - x**2 - x + 1)**(1/3) / tan(x)\n",
    "plot(y, (x, -1, xmax), ymin=-20.0, ymax=20.0, exclude=excl_list)\n",
    "#(x, -1, xmax) приблежает отрисованный график\n",
    "# exclude=excl_list массив точек разрыва"
   ]
  },
  {
   "cell_type": "markdown",
   "metadata": {},
   "source": [
    "$$2.Является\\,ли\\,функция\\,четной\\,или\\,нечетной,\\,является\\,ли\\,периодической.$$"
   ]
  },
  {
   "cell_type": "code",
   "execution_count": 5,
   "metadata": {},
   "outputs": [
    {
     "data": {
      "text/html": [
       "<html><script type=\"math/tex; mode=display\">\\newcommand{\\Bold}[1]{\\mathbf{#1}}\\verb|функция|\\phantom{\\verb!x!}\\verb|ни|\\phantom{\\verb!x!}\\verb|четная|\\phantom{\\verb!x!}\\verb|ни|\\phantom{\\verb!x!}\\verb|нечетная|</script></html>"
      ],
      "text/latex": [
       "\\begin{math}\n",
       "\\newcommand{\\Bold}[1]{\\mathbf{#1}}\\verb|функция|\\phantom{\\verb!x!}\\verb|ни|\\phantom{\\verb!x!}\\verb|четная|\\phantom{\\verb!x!}\\verb|ни|\\phantom{\\verb!x!}\\verb|нечетная|\n",
       "\\end{math}"
      ],
      "text/plain": [
       "'функция ни четная ни нечетная'"
      ]
     },
     "metadata": {},
     "output_type": "display_data"
    }
   ],
   "source": [
    "if y(x) == y(-x):\n",
    "    show(\"функция четная\")\n",
    "if y(-x) == -y(x):\n",
    "    show(\"функция нечетная\")\n",
    "else:\n",
    "    show(\"функция ни четная ни нечетная\")"
   ]
  },
  {
   "cell_type": "markdown",
   "metadata": {},
   "source": [
    "$$3.Точки\\,пересечения\\,графика\\,с\\,oсями\\,координат.$$"
   ]
  },
  {
   "cell_type": "code",
   "execution_count": 6,
   "metadata": {},
   "outputs": [
    {
     "data": {
      "text/html": [
       "<html><script type=\"math/tex; mode=display\">\\newcommand{\\Bold}[1]{\\mathbf{#1}}\\verb|Корней|\\phantom{\\verb!x!}\\verb|бесконечно|\\phantom{\\verb!x!}\\verb|много,|\\phantom{\\verb!x!}\\verb|поэтому|\\phantom{\\verb!x!}\\verb|укажем|\\phantom{\\verb!x!}\\verb|лишь|\\phantom{\\verb!x!}\\verb|некоторые|</script></html>"
      ],
      "text/latex": [
       "\\begin{math}\n",
       "\\newcommand{\\Bold}[1]{\\mathbf{#1}}\\verb|Корней|\\phantom{\\verb!x!}\\verb|бесконечно|\\phantom{\\verb!x!}\\verb|много,|\\phantom{\\verb!x!}\\verb|поэтому|\\phantom{\\verb!x!}\\verb|укажем|\\phantom{\\verb!x!}\\verb|лишь|\\phantom{\\verb!x!}\\verb|некоторые|\n",
       "\\end{math}"
      ],
      "text/plain": [
       "'Корней бесконечно много, поэтому укажем лишь некоторые'"
      ]
     },
     "metadata": {},
     "output_type": "display_data"
    },
    {
     "data": {
      "text/plain": [
       "[x == -1, x == 1]"
      ]
     },
     "execution_count": 6,
     "metadata": {},
     "output_type": "execute_result"
    }
   ],
   "source": [
    "show(\"Корней бесконечно много, поэтому укажем лишь некоторые\")\n",
    "solve(y(x), x)"
   ]
  },
  {
   "cell_type": "markdown",
   "metadata": {},
   "source": [
    "$$4. Промежутки\\,знакопостоянства:$$"
   ]
  },
  {
   "cell_type": "code",
   "execution_count": 39,
   "metadata": {},
   "outputs": [
    {
     "data": {
      "text/html": [
       "<html><script type=\"math/tex; mode=display\">\\newcommand{\\Bold}[1]{\\mathbf{#1}}\\verb|Промежутки|\\phantom{\\verb!x!}\\verb|знакопостоянства|\\phantom{\\verb!x!}\\verb|определяются|\\phantom{\\verb!x!}\\verb|найденными|\\phantom{\\verb!x!}\\verb|корнями,|\\phantom{\\verb!x!}\\verb|на|\\phantom{\\verb!x!}\\verb|промежутке|\\phantom{\\verb!x!}\\verb|(0;7):|</script></html>"
      ],
      "text/latex": [
       "\\begin{math}\n",
       "\\newcommand{\\Bold}[1]{\\mathbf{#1}}\\verb|Промежутки|\\phantom{\\verb!x!}\\verb|знакопостоянства|\\phantom{\\verb!x!}\\verb|определяются|\\phantom{\\verb!x!}\\verb|найденными|\\phantom{\\verb!x!}\\verb|корнями,|\\phantom{\\verb!x!}\\verb|на|\\phantom{\\verb!x!}\\verb|промежутке|\\phantom{\\verb!x!}\\verb|(0;7):|\n",
       "\\end{math}"
      ],
      "text/plain": [
       "'Промежутки знакопостоянства определяются найденными корнями, на промежутке (0;7):'"
      ]
     },
     "metadata": {},
     "output_type": "display_data"
    },
    {
     "data": {
      "text/html": [
       "<html><script type=\"math/tex; mode=display\">\\newcommand{\\Bold}[1]{\\mathbf{#1}}\\verb|Промежутки,|\\phantom{\\verb!x!}\\verb|на|\\phantom{\\verb!x!}\\verb|которых|\\phantom{\\verb!x!}\\verb|функция|\\phantom{\\verb!x!}\\verb|принимает|\\phantom{\\verb!x!}\\verb|положительные|\\phantom{\\verb!x!}\\verb|значения:|</script></html>"
      ],
      "text/latex": [
       "\\begin{math}\n",
       "\\newcommand{\\Bold}[1]{\\mathbf{#1}}\\verb|Промежутки,|\\phantom{\\verb!x!}\\verb|на|\\phantom{\\verb!x!}\\verb|которых|\\phantom{\\verb!x!}\\verb|функция|\\phantom{\\verb!x!}\\verb|принимает|\\phantom{\\verb!x!}\\verb|положительные|\\phantom{\\verb!x!}\\verb|значения:|\n",
       "\\end{math}"
      ],
      "text/plain": [
       "'Промежутки, на которых функция принимает положительные значения:'"
      ]
     },
     "metadata": {},
     "output_type": "display_data"
    },
    {
     "data": {
      "text/html": [
       "<html><script type=\"math/tex; mode=display\">\\newcommand{\\Bold}[1]{\\mathbf{#1}}\\verb|(0| \\verb|;| 1.57 \\verb|)|</script></html>"
      ],
      "text/latex": [
       "\\begin{math}\n",
       "\\newcommand{\\Bold}[1]{\\mathbf{#1}}\\verb|(0| \\verb|;| 1.57 \\verb|)|\n",
       "\\end{math}"
      ],
      "text/plain": [
       "'(0' ';' 1.57 ')'"
      ]
     },
     "metadata": {},
     "output_type": "display_data"
    },
    {
     "data": {
      "text/html": [
       "<html><script type=\"math/tex; mode=display\">\\newcommand{\\Bold}[1]{\\mathbf{#1}}\\verb|(3,14| \\verb|;| 4.71 \\verb|)|</script></html>"
      ],
      "text/latex": [
       "\\begin{math}\n",
       "\\newcommand{\\Bold}[1]{\\mathbf{#1}}\\verb|(3,14| \\verb|;| 4.71 \\verb|)|\n",
       "\\end{math}"
      ],
      "text/plain": [
       "'(3,14' ';' 4.71 ')'"
      ]
     },
     "metadata": {},
     "output_type": "display_data"
    },
    {
     "data": {
      "text/html": [
       "<html><script type=\"math/tex; mode=display\">\\newcommand{\\Bold}[1]{\\mathbf{#1}}\\verb|Промежутки,|\\phantom{\\verb!x!}\\verb|на|\\phantom{\\verb!x!}\\verb|которых|\\phantom{\\verb!x!}\\verb|функция|\\phantom{\\verb!x!}\\verb|принимает|\\phantom{\\verb!x!}\\verb|отрицательные|\\phantom{\\verb!x!}\\verb|значения:|</script></html>"
      ],
      "text/latex": [
       "\\begin{math}\n",
       "\\newcommand{\\Bold}[1]{\\mathbf{#1}}\\verb|Промежутки,|\\phantom{\\verb!x!}\\verb|на|\\phantom{\\verb!x!}\\verb|которых|\\phantom{\\verb!x!}\\verb|функция|\\phantom{\\verb!x!}\\verb|принимает|\\phantom{\\verb!x!}\\verb|отрицательные|\\phantom{\\verb!x!}\\verb|значения:|\n",
       "\\end{math}"
      ],
      "text/plain": [
       "'Промежутки, на которых функция принимает отрицательные значения:'"
      ]
     },
     "metadata": {},
     "output_type": "display_data"
    },
    {
     "data": {
      "text/html": [
       "<html><script type=\"math/tex; mode=display\">\\newcommand{\\Bold}[1]{\\mathbf{#1}}\\verb|(| 1.57 \\verb|;| \\verb|3,14)|</script></html>"
      ],
      "text/latex": [
       "\\begin{math}\n",
       "\\newcommand{\\Bold}[1]{\\mathbf{#1}}\\verb|(| 1.57 \\verb|;| \\verb|3,14)|\n",
       "\\end{math}"
      ],
      "text/plain": [
       "'(' 1.57 ';' '3,14)'"
      ]
     },
     "metadata": {},
     "output_type": "display_data"
    },
    {
     "data": {
      "text/html": [
       "<html><script type=\"math/tex; mode=display\">\\newcommand{\\Bold}[1]{\\mathbf{#1}}\\verb|(| 4.71 \\verb|;| \\verb|6.2)|</script></html>"
      ],
      "text/latex": [
       "\\begin{math}\n",
       "\\newcommand{\\Bold}[1]{\\mathbf{#1}}\\verb|(| 4.71 \\verb|;| \\verb|6.2)|\n",
       "\\end{math}"
      ],
      "text/plain": [
       "'(' 4.71 ';' '6.2)'"
      ]
     },
     "metadata": {},
     "output_type": "display_data"
    }
   ],
   "source": [
    "# FindRoot [Ihs == rhs, {x, x0}] — ищет численное решение уравнения Ihs == rhs, начиная с х = x0;\n",
    "\n",
    "show(\"Промежутки знакопостоянства определяются найденными корнями, на промежутке (0;7):\")\n",
    "show(\"Промежутки, на которых функция принимает положительные значения:\")\n",
    "show(\"(0\", \";\",  round(find_root(y,1.5,2), 2), \")\") # round - округление чилса, find_root(y,1.5,2) поиск корня функции y на промежутке 1,5...2\n",
    "show(\"(3,14\",  \";\",  round(find_root(y, 3, 5),2), \")\")\n",
    "\n",
    "\n",
    "show(\"Промежутки, на которых функция принимает отрицательные значения:\")\n",
    "show(\"(\", round(find_root(y, 1.5,2), 2), \";\",  \"3,14)\") \n",
    "show(\"(\", round(find_root(y, 3, 5),2),  \";\",  \"6.2)\")\n"
   ]
  },
  {
   "cell_type": "code",
   "execution_count": 43,
   "metadata": {},
   "outputs": [],
   "source": [
    "sage: line?\n"
   ]
  },
  {
   "cell_type": "markdown",
   "metadata": {},
   "source": [
    "<h3>5. Промежутки возрастания и убывания:</h3>\n"
   ]
  },
  {
   "cell_type": "code",
   "execution_count": 18,
   "metadata": {},
   "outputs": [
    {
     "data": {
      "text/html": [
       "<html><script type=\"math/tex; mode=display\">\\newcommand{\\Bold}[1]{\\mathbf{#1}}\\verb|Промежутки|\\phantom{\\verb!x!}\\verb|возрастания|\\phantom{\\verb!x!}\\verb|и|\\phantom{\\verb!x!}\\verb|убывания|\\phantom{\\verb!x!}\\verb|определяются|\\phantom{\\verb!x!}\\verb|с|\\phantom{\\verb!x!}\\verb|помощью|\\phantom{\\verb!x!}\\verb|производной|\\phantom{\\verb!x!}\\verb|функции|</script></html>"
      ],
      "text/latex": [
       "\\begin{math}\n",
       "\\newcommand{\\Bold}[1]{\\mathbf{#1}}\\verb|Промежутки|\\phantom{\\verb!x!}\\verb|возрастания|\\phantom{\\verb!x!}\\verb|и|\\phantom{\\verb!x!}\\verb|убывания|\\phantom{\\verb!x!}\\verb|определяются|\\phantom{\\verb!x!}\\verb|с|\\phantom{\\verb!x!}\\verb|помощью|\\phantom{\\verb!x!}\\verb|производной|\\phantom{\\verb!x!}\\verb|функции|\n",
       "\\end{math}"
      ],
      "text/plain": [
       "'Промежутки возрастания и убывания определяются с помощью производной функции'"
      ]
     },
     "metadata": {},
     "output_type": "display_data"
    },
    {
     "data": {
      "text/html": [
       "<html><script type=\"math/tex; mode=display\">\\newcommand{\\Bold}[1]{\\mathbf{#1}}\\left[x = \\frac{1}{2} \\, \\pi, x = \\left(-1\\right), x = 1\\right]</script></html>"
      ],
      "text/latex": [
       "\\begin{math}\n",
       "\\newcommand{\\Bold}[1]{\\mathbf{#1}}\\left[x = \\frac{1}{2} \\, \\pi, x = \\left(-1\\right), x = 1\\right]\n",
       "\\end{math}"
      ],
      "text/plain": [
       "[x == 1/2*pi, x == -1, x == 1]"
      ]
     },
     "metadata": {},
     "output_type": "display_data"
    }
   ],
   "source": [
    "show(\"Промежутки возрастания и убывания определяются с помощью производной функции\")\n",
    "show(solve(diff(y(x), 0).simplify_full() == 0, x)) # simplify_full() возвращает упрощеную версию выражения"
   ]
  },
  {
   "cell_type": "code",
   "execution_count": 9,
   "metadata": {},
   "outputs": [
    {
     "data": {
      "text/html": [
       "<html><script type=\"math/tex; mode=display\">\\newcommand{\\Bold}[1]{\\mathbf{#1}}\\verb|Сверху|\\phantom{\\verb!x!}\\verb|по|\\phantom{\\verb!x!}\\verb|графику|\\phantom{\\verb!x!}\\verb|мы|\\phantom{\\verb!x!}\\verb|видим|\\phantom{\\verb!x!}\\verb|что|\\phantom{\\verb!x!}\\verb|проихводная|\\phantom{\\verb!x!}\\verb|в|\\phantom{\\verb!x!}\\verb|промежутке|\\phantom{\\verb!x!}\\verb|от|\\phantom{\\verb!x!}\\verb|1|\\phantom{\\verb!x!}\\verb|до|\\phantom{\\verb!x!}\\verb|1,57|\\phantom{\\verb!x!}\\verb|положительна.|\\phantom{\\verb!x!}\\verb|В|\\phantom{\\verb!x!}\\verb|остальных|\\phantom{\\verb!x!}\\verb|случаях|\\phantom{\\verb!x!}\\verb|-|\\phantom{\\verb!x!}\\verb|отрицательна|</script></html>"
      ],
      "text/latex": [
       "\\begin{math}\n",
       "\\newcommand{\\Bold}[1]{\\mathbf{#1}}\\verb|Сверху|\\phantom{\\verb!x!}\\verb|по|\\phantom{\\verb!x!}\\verb|графику|\\phantom{\\verb!x!}\\verb|мы|\\phantom{\\verb!x!}\\verb|видим|\\phantom{\\verb!x!}\\verb|что|\\phantom{\\verb!x!}\\verb|проихводная|\\phantom{\\verb!x!}\\verb|в|\\phantom{\\verb!x!}\\verb|промежутке|\\phantom{\\verb!x!}\\verb|от|\\phantom{\\verb!x!}\\verb|1|\\phantom{\\verb!x!}\\verb|до|\\phantom{\\verb!x!}\\verb|1,57|\\phantom{\\verb!x!}\\verb|положительна.|\\phantom{\\verb!x!}\\verb|В|\\phantom{\\verb!x!}\\verb|остальных|\\phantom{\\verb!x!}\\verb|случаях|\\phantom{\\verb!x!}\\verb|-|\\phantom{\\verb!x!}\\verb|отрицательна|\n",
       "\\end{math}"
      ],
      "text/plain": [
       "'Сверху по графику мы видим что проихводная в промежутке от 1 до 1,57 положительна. В остальных случаях - отрицательна'"
      ]
     },
     "metadata": {},
     "output_type": "display_data"
    },
    {
     "name": "stdout",
     "output_type": "stream",
     "text": [
      "verbose 0 (3835: plot.py, generate_plot_points) WARNING: When plotting, failed to evaluate function at 90 points.\n",
      "verbose 0 (3835: plot.py, generate_plot_points) Last error message: 'can't convert complex to float'\n"
     ]
    },
    {
     "data": {
      "image/png": "[encoded data removed]",
      "text/plain": [
       "Graphics object consisting of 3 graphics primitives"
      ]
     },
     "execution_count": 9,
     "metadata": {},
     "output_type": "execute_result"
    }
   ],
   "source": [
    "y_d = diff(y)\n",
    "show(\"Сверху по графику мы видим что проихводная в промежутке от 1 до 1,57 положительна. В остальных случаях - отрицательна\")\n",
    "plot(y_d, xmin = -10, xmax = 10, ymin = -10, ymax = 10, exclude = [0, 1])"
   ]
  },
  {
   "cell_type": "code",
   "execution_count": 7,
   "metadata": {},
   "outputs": [
    {
     "data": {
      "image/png": "[encoded data removed]",
      "text/plain": [
       "Graphics object consisting of 8 graphics primitives"
      ]
     },
     "metadata": {},
     "output_type": "display_data"
    }
   ],
   "source": [
    "intervals = plot(0, xmin = 0, xmax = 2, ymin=-0.5, ymax=0.1)\n",
    "intervals += circle((1.5,0), 0.03, color = 'red')\n",
    "intervals += text(\"$\" + str(numerical_approx(1.57, digits = 3)) + \"$\", (1.5, -0.1), color=\"black\", fontsize=15)# digits округление до 3 знаков после запятой, (1.5, -0.1) координаты\n",
    "intervals += text(\"+\", (1, 0.1), color=\"black\", fontsize=15)\n",
    "intervals += text(\"$\" + str(round(1)) + \"$\", (0.5, -0.1), color=\"black\", fontsize=15)\n",
    "intervals += circle((0.5,0), 0.03, color = 'red')\n",
    "intervals += text(\"-\", (1.8, 0.1), color=\"black\", fontsize=15) \n",
    "intervals += text(\"-\", (0.25, 0.1), color=\"black\", fontsize=15) # fontsize жирность шрифта\n",
    "\n",
    "\n",
    "intervals.show(axes=False)"
   ]
  },
  {
   "cell_type": "markdown",
   "metadata": {},
   "source": []
  },
  {
   "cell_type": "markdown",
   "metadata": {},
   "source": [
    "<h3>6. Точки экстремума и значения в этих точках:</h3>"
   ]
  },
  {
   "cell_type": "code",
   "execution_count": 11,
   "metadata": {},
   "outputs": [
    {
     "data": {
      "text/html": [
       "<html><script type=\"math/tex; mode=display\">\\newcommand{\\Bold}[1]{\\mathbf{#1}}\\verb|Функция|\\phantom{\\verb!x!}\\verb|меняет|\\phantom{\\verb!x!}\\verb|свой|\\phantom{\\verb!x!}\\verb|знак|\\phantom{\\verb!x!}\\verb|в|\\phantom{\\verb!x!}\\verb|точках|\\phantom{\\verb!x!}\\verb|экстремума:|</script></html>"
      ],
      "text/latex": [
       "\\begin{math}\n",
       "\\newcommand{\\Bold}[1]{\\mathbf{#1}}\\verb|Функция|\\phantom{\\verb!x!}\\verb|меняет|\\phantom{\\verb!x!}\\verb|свой|\\phantom{\\verb!x!}\\verb|знак|\\phantom{\\verb!x!}\\verb|в|\\phantom{\\verb!x!}\\verb|точках|\\phantom{\\verb!x!}\\verb|экстремума:|\n",
       "\\end{math}"
      ],
      "text/plain": [
       "'Функция меняет свой знак в точках экстремума:'"
      ]
     },
     "metadata": {},
     "output_type": "display_data"
    },
    {
     "data": {
      "text/html": [
       "<html><script type=\"math/tex; mode=display\">\\newcommand{\\Bold}[1]{\\mathbf{#1}}\\verb|x=| 1.22</script></html>"
      ],
      "text/latex": [
       "\\begin{math}\n",
       "\\newcommand{\\Bold}[1]{\\mathbf{#1}}\\verb|x=| 1.22\n",
       "\\end{math}"
      ],
      "text/plain": [
       "'x= ' 1.22"
      ]
     },
     "metadata": {},
     "output_type": "display_data"
    },
    {
     "data": {
      "text/html": [
       "<html><script type=\"math/tex; mode=display\">\\newcommand{\\Bold}[1]{\\mathbf{#1}}\\verb|x=| 1.0</script></html>"
      ],
      "text/latex": [
       "\\begin{math}\n",
       "\\newcommand{\\Bold}[1]{\\mathbf{#1}}\\verb|x=| 1.0\n",
       "\\end{math}"
      ],
      "text/plain": [
       "'x= ' 1.0"
      ]
     },
     "metadata": {},
     "output_type": "display_data"
    }
   ],
   "source": [
    "show(\"Функция меняет свой знак в точках экстремума:\")\n",
    "show(\"x= \",round(find_root(diff(y, x).simplify_full(), 1, 2), 2))\n",
    "show(\"x= \",round(find_root(diff(y, x).simplify_full(), 0, 1.2), 2))"
   ]
  },
  {
   "cell_type": "markdown",
   "metadata": {},
   "source": [
    "из графика следует, что x = 1 точка минимума x = 1.22 точка максимума"
   ]
  },
  {
   "cell_type": "markdown",
   "metadata": {},
   "source": [
    "<h3>7. Непрерывность. Наличие точек разрыва и их классификация:</h3>"
   ]
  },
  {
   "cell_type": "markdown",
   "metadata": {},
   "source": [
    "В данном графике бесконечно много разрывов. Приведем для примера при x = 0"
   ]
  },
  {
   "cell_type": "code",
   "execution_count": 12,
   "metadata": {},
   "outputs": [
    {
     "data": {
      "text/html": [
       "<html><script type=\"math/tex; mode=display\">\\newcommand{\\Bold}[1]{\\mathbf{#1}}\\verb|x|\\phantom{\\verb!x!}\\verb|=|\\phantom{\\verb!x!}\\verb|0|\\phantom{\\verb!x!}\\verb|разрыв|\\phantom{\\verb!x!}\\verb|второго|\\phantom{\\verb!x!}\\verb|рода|</script></html>"
      ],
      "text/latex": [
       "\\begin{math}\n",
       "\\newcommand{\\Bold}[1]{\\mathbf{#1}}\\verb|x|\\phantom{\\verb!x!}\\verb|=|\\phantom{\\verb!x!}\\verb|0|\\phantom{\\verb!x!}\\verb|разрыв|\\phantom{\\verb!x!}\\verb|второго|\\phantom{\\verb!x!}\\verb|рода|\n",
       "\\end{math}"
      ],
      "text/plain": [
       "'x = 0 разрыв второго рода'"
      ]
     },
     "metadata": {},
     "output_type": "display_data"
    }
   ],
   "source": [
    "root = [0]\n",
    "for a in root:\n",
    "    lim_left = lim(y, x = a, dir = 'left') # dir предел слева\n",
    "    lim_right = lim(y, x = a, dir = 'right')\n",
    "    if (lim_left == lim_right and abs(lim_left) != oo and abs(lim_right) != oo):\n",
    "        show(\"x = \" + str(a) + \" разрыв первого рода\")\n",
    "    else:\n",
    "        show(\"x = \" + str(a) + \" разрыв второго рода\")"
   ]
  },
  {
   "cell_type": "markdown",
   "metadata": {},
   "source": [
    "<h2>Асимптоты.</h2>\n"
   ]
  },
  {
   "cell_type": "code",
   "execution_count": 42,
   "metadata": {},
   "outputs": [
    {
     "data": {
      "text/html": [
       "<html><script type=\"math/tex; mode=display\">\\newcommand{\\Bold}[1]{\\mathbf{#1}}\\left[x = \\pi z_{2862}\\right]</script></html>"
      ],
      "text/latex": [
       "\\begin{math}\n",
       "\\newcommand{\\Bold}[1]{\\mathbf{#1}}\\left[x = \\pi z_{2862}\\right]\n",
       "\\end{math}"
      ],
      "text/plain": [
       "[x == pi*z2862]"
      ]
     },
     "metadata": {},
     "output_type": "display_data"
    },
    {
     "data": {
      "text/html": [
       "<html><script type=\"math/tex; mode=display\">\\newcommand{\\Bold}[1]{\\mathbf{#1}}\\left[0, \\pi, 2 \\, \\pi, 3 \\, \\pi, 4 \\, \\pi, 5 \\, \\pi, 6 \\, \\pi\\right]</script></html>"
      ],
      "text/latex": [
       "\\begin{math}\n",
       "\\newcommand{\\Bold}[1]{\\mathbf{#1}}\\left[0, \\pi, 2 \\, \\pi, 3 \\, \\pi, 4 \\, \\pi, 5 \\, \\pi, 6 \\, \\pi\\right]\n",
       "\\end{math}"
      ],
      "text/plain": [
       "[0, pi, 2*pi, 3*pi, 4*pi, 5*pi, 6*pi]"
      ]
     },
     "metadata": {},
     "output_type": "display_data"
    },
    {
     "data": {
      "image/png": "[encoded data removed]",
      "text/plain": [
       "Graphics object consisting of 11 graphics primitives"
      ]
     },
     "metadata": {},
     "output_type": "display_data"
    }
   ],
   "source": [
    "plot_asympt1 = line([(0,x) for x in srange(-20,20,0.1)], color='red',linestyle=\"--\", thickness=1.5) # (0,x) первое координаты y и бесконечно много x\n",
    "plot_asympt2 = line([(3.14,x) for x in srange(-20,20,0.1)], color='red',linestyle=\"--\", thickness=1.5)\n",
    "plot_asympt3 = line([(6.28,x) for x in srange(-20,20,0.1)], color='red',linestyle=\"--\", thickness=1.5)\n",
    "# дальше просто отстраивание графика\n",
    "sols = solve(tan(x) == 0, x, to_poly_solve='force')\n",
    "show(sols)\n",
    "excl_expr = sols[0].rhs()\n",
    "excl_const = excl_expr.args()[0]\n",
    "xmax=20\n",
    "excl_list = [excl_expr({excl_const: i}) for i in range(0, ceil(xmax/pi))]\n",
    "show(excl_list)\n",
    "y(x)=(x**3 - x**2 - x + 1)**(1/3) / tan(x)\n",
    "show(plot(y, (x, -1, xmax), ymin=-20.0, ymax=20.0, exclude=excl_list) + plot_asympt1 + plot_asympt2 + plot_asympt3)\n",
    "#"
   ]
  },
  {
   "cell_type": "code",
   "execution_count": null,
   "metadata": {},
   "outputs": [],
   "source": []
  }
 ],
 "metadata": {
  "kernelspec": {
   "display_name": "SageMath 9.2",
   "language": "sage",
   "name": "sagemath"
  },
  "language_info": {
   "codemirror_mode": {
    "name": "ipython",
    "version": 3
   },
   "file_extension": ".py",
   "mimetype": "text/x-python",
   "name": "python",
   "nbconvert_exporter": "python",
   "pygments_lexer": "ipython3",
   "version": "3.7.7"
  }
 },
 "nbformat": 4,
 "nbformat_minor": 2
}
