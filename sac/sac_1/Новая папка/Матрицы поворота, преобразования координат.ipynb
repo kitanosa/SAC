{
 "cells": [
  {
   "cell_type": "markdown",
   "metadata": {},
   "source": [
    "В текущем примере хотелось бы сделать небольшое введение в возможности SageMath по работе с формулами.<br>\n",
    "Задание заключается в следующем:<br>\n",
    "Вывести формулу для движения спутника (далее ИСЗ - искусственный спутник Земли) в невращающейся системе координат с центром в центре Земли (далее - геостац. СК или geostat).<br>\n",
    "Орбита эллиптическая, точка отсчета для орбитальной СК находится в фокусе. В этом же фокусе находится и центр Земли.\n",
    "Плоскость орбиты относительно плоскости эклиптики повернута на три угла: psi, theta, phi.<br>\n",
    "Параметры орбиты (эллипса):<br>\n",
    "a - большая полуось<br>\n",
    "e - эксцентриситет.<br>\n",
    "Для e главное не забывать, что есть математическая константа e и их можно перепутать (например, просто забыв объявить переменную e - будет везде использоваться числовое значение мат. константы e и результат не будет достигнут)."
   ]
  },
  {
   "cell_type": "markdown",
   "metadata": {},
   "source": [
    "Первый шаг получения формулы - получить координаты ИСЗ в орбитальной системе координат.<br>\n",
    "Движение идет постоянно в плоскости орбиты, потому z == 0. <br>\n",
    "x и y задаются стандартным параметрическим уравнением эллипса:<br>\n",
    "$x = a * cos(t)$<br>\n",
    "$y = b * sin(t)$\n",
    "<br>\n",
    "b - это малая полуось эллипса. Через эксцентриситет и большую полуось выражается формулой:<br>\n",
    "$a*\\sqrt{1 - e^2}$<br>\n",
    "Сказано, что точка отсчета смещена в фокус. Это даёт смещение по оси X на $a*e$"
   ]
  },
  {
   "cell_type": "markdown",
   "metadata": {},
   "source": [
    "Итого, получим:"
   ]
  },
  {
   "cell_type": "code",
   "execution_count": 1,
   "metadata": {},
   "outputs": [],
   "source": [
    "def satellite_pos_orbital_crd(_orbit_a, _orbit_e, _Xi):\n",
    "    x = _orbit_a*(cos(_Xi) - _orbit_e)\n",
    "    y = _orbit_a*sqrt(1 - _orbit_e**2)*sin(_Xi)\n",
    "    z = 0\n",
    "    \n",
    "    return [x, y, z]"
   ]
  },
  {
   "cell_type": "markdown",
   "metadata": {},
   "source": [
    "Теперь нужно из орбитальной СК перевести в геостац. СК.<br>\n",
    "Для этого воспользуемся матрицами поворота:"
   ]
  },
  {
   "cell_type": "code",
   "execution_count": 2,
   "metadata": {},
   "outputs": [],
   "source": [
    "def rot_mat(axis, angle):\n",
    "    if axis == 'x':\n",
    "        return Matrix([[1, 0, 0], [0, cos(angle), sin(angle)], [0, -sin(angle), cos(angle)]])\n",
    "    if axis == 'y':\n",
    "        return Matrix([[cos(angle), 0, sin(angle)], [0, 1, 0],  [-sin(angle), 0, cos(angle)]])\n",
    "    if axis == 'z':\n",
    "        return Matrix([[cos(angle), sin(angle), 0], [-sin(angle), cos(angle), 0], [0, 0, 1]])\n",
    "    return Matrix([])"
   ]
  },
  {
   "cell_type": "code",
   "execution_count": 4,
   "metadata": {},
   "outputs": [],
   "source": [
    "def from_orbit_to_geostat_crd_mat(_orbit_crd):\n",
    "    crd = Matrix(_orbit_crd)\n",
    "    rot_z_1 =rot_mat('z', psi)\n",
    "    rot_x = rot_mat('x', theta)\n",
    "    rot_z_2 = rot_mat('z', phi)\n",
    "    \n",
    "    crd = crd * (rot_z_1 * rot_x * rot_z_2)\n",
    "    \n",
    "    return crd"
   ]
  },
  {
   "cell_type": "markdown",
   "metadata": {},
   "source": [
    "Посмотрим промежуточный вид конечной формулы:"
   ]
  },
  {
   "cell_type": "code",
   "execution_count": 8,
   "metadata": {},
   "outputs": [
    {
     "name": "stdout",
     "output_type": "stream",
     "text": [
      "Орбитальные координаты в момент времени t:\n"
     ]
    },
    {
     "data": {
      "text/html": [
       "<html><script type=\"math/tex; mode=display\">\\newcommand{\\Bold}[1]{\\mathbf{#1}}-a {\\left(e_{\\mathit{orb}} - \\cos\\left(t\\right)\\right)}</script></html>"
      ],
      "text/plain": [
       "-a*(e_orb - cos(t))"
      ]
     },
     "metadata": {},
     "output_type": "display_data"
    },
    {
     "data": {
      "text/html": [
       "<html><script type=\"math/tex; mode=display\">\\newcommand{\\Bold}[1]{\\mathbf{#1}}\\sqrt{-e_{\\mathit{orb}}^{2} + 1} a \\sin\\left(t\\right)</script></html>"
      ],
      "text/plain": [
       "sqrt(-e_orb^2 + 1)*a*sin(t)"
      ]
     },
     "metadata": {},
     "output_type": "display_data"
    },
    {
     "data": {
      "text/html": [
       "<html><script type=\"math/tex; mode=display\">\\newcommand{\\Bold}[1]{\\mathbf{#1}}0</script></html>"
      ],
      "text/plain": [
       "0"
      ]
     },
     "metadata": {},
     "output_type": "display_data"
    }
   ],
   "source": [
    "var(\"a e_orb t\")  # создание символьных переменных\n",
    "crd_orbital = satellite_pos_orbital_crd(_orbit_a=a, _orbit_e=e_orb, _Xi=t)\n",
    "print(\"Орбитальные координаты в момент времени t:\")\n",
    "show(crd_orbital[0])\n",
    "show(crd_orbital[1])\n",
    "show(crd_orbital[2])"
   ]
  },
  {
   "cell_type": "code",
   "execution_count": 11,
   "metadata": {},
   "outputs": [
    {
     "name": "stdout",
     "output_type": "stream",
     "text": [
      "Геостац. координаты ИСЗ в момент времени t:\n"
     ]
    },
    {
     "data": {
      "text/html": [
       "<html><script type=\"math/tex; mode=display\">\\newcommand{\\Bold}[1]{\\mathbf{#1}}-{\\left(\\cos\\left(\\psi\\right) \\cos\\left(\\theta\\right) \\sin\\left(\\phi\\right) + \\cos\\left(\\phi\\right) \\sin\\left(\\psi\\right)\\right)} \\sqrt{-e_{\\mathit{orb}}^{2} + 1} a \\sin\\left(t\\right) + {\\left(\\cos\\left(\\theta\\right) \\sin\\left(\\phi\\right) \\sin\\left(\\psi\\right) - \\cos\\left(\\phi\\right) \\cos\\left(\\psi\\right)\\right)} a {\\left(e_{\\mathit{orb}} - \\cos\\left(t\\right)\\right)}</script></html>"
      ],
      "text/plain": [
       "-(cos(psi)*cos(theta)*sin(phi) + cos(phi)*sin(psi))*sqrt(-e_orb^2 + 1)*a*sin(t) + (cos(theta)*sin(phi)*sin(psi) - cos(phi)*cos(psi))*a*(e_orb - cos(t))"
      ]
     },
     "metadata": {},
     "output_type": "display_data"
    },
    {
     "data": {
      "text/html": [
       "<html><script type=\"math/tex; mode=display\">\\newcommand{\\Bold}[1]{\\mathbf{#1}}{\\left(\\cos\\left(\\phi\\right) \\cos\\left(\\psi\\right) \\cos\\left(\\theta\\right) - \\sin\\left(\\phi\\right) \\sin\\left(\\psi\\right)\\right)} \\sqrt{-e_{\\mathit{orb}}^{2} + 1} a \\sin\\left(t\\right) - {\\left(\\cos\\left(\\phi\\right) \\cos\\left(\\theta\\right) \\sin\\left(\\psi\\right) + \\cos\\left(\\psi\\right) \\sin\\left(\\phi\\right)\\right)} a {\\left(e_{\\mathit{orb}} - \\cos\\left(t\\right)\\right)}</script></html>"
      ],
      "text/plain": [
       "(cos(phi)*cos(psi)*cos(theta) - sin(phi)*sin(psi))*sqrt(-e_orb^2 + 1)*a*sin(t) - (cos(phi)*cos(theta)*sin(psi) + cos(psi)*sin(phi))*a*(e_orb - cos(t))"
      ]
     },
     "metadata": {},
     "output_type": "display_data"
    },
    {
     "data": {
      "text/html": [
       "<html><script type=\"math/tex; mode=display\">\\newcommand{\\Bold}[1]{\\mathbf{#1}}\\sqrt{-e_{\\mathit{orb}}^{2} + 1} a \\cos\\left(\\psi\\right) \\sin\\left(t\\right) \\sin\\left(\\theta\\right) - a {\\left(e_{\\mathit{orb}} - \\cos\\left(t\\right)\\right)} \\sin\\left(\\psi\\right) \\sin\\left(\\theta\\right)</script></html>"
      ],
      "text/plain": [
       "sqrt(-e_orb^2 + 1)*a*cos(psi)*sin(t)*sin(theta) - a*(e_orb - cos(t))*sin(psi)*sin(theta)"
      ]
     },
     "metadata": {},
     "output_type": "display_data"
    }
   ],
   "source": [
    "var(\"psi theta phi\")\n",
    "crd_geostat = from_orbit_to_geostat_crd_mat(crd_orbital)[0]\n",
    "print(\"Геостац. координаты ИСЗ в момент времени t:\")\n",
    "show(crd_geostat[0])\n",
    "show(crd_geostat[1])\n",
    "show(crd_geostat[2])"
   ]
  },
  {
   "cell_type": "markdown",
   "metadata": {},
   "source": [
    "Формула готова, но её еще нужно упростить и сгруппировать"
   ]
  },
  {
   "cell_type": "code",
   "execution_count": 13,
   "metadata": {},
   "outputs": [
    {
     "name": "stdout",
     "output_type": "stream",
     "text": [
      "Автоматическое упрощение:\n"
     ]
    },
    {
     "data": {
      "text/html": [
       "<html><script type=\"math/tex; mode=display\">\\newcommand{\\Bold}[1]{\\mathbf{#1}}-a e_{\\mathit{orb}} \\cos\\left(\\phi\\right) \\cos\\left(\\psi\\right) + a \\cos\\left(\\phi\\right) \\cos\\left(\\psi\\right) \\cos\\left(t\\right) + {\\left(a e_{\\mathit{orb}} \\sin\\left(\\phi\\right) \\sin\\left(\\psi\\right) - a \\cos\\left(t\\right) \\sin\\left(\\phi\\right) \\sin\\left(\\psi\\right)\\right)} \\cos\\left(\\theta\\right) - {\\left(a \\cos\\left(\\psi\\right) \\cos\\left(\\theta\\right) \\sin\\left(\\phi\\right) \\sin\\left(t\\right) + a \\cos\\left(\\phi\\right) \\sin\\left(\\psi\\right) \\sin\\left(t\\right)\\right)} \\sqrt{-e_{\\mathit{orb}}^{2} + 1}</script></html>"
      ],
      "text/plain": [
       "-a*e_orb*cos(phi)*cos(psi) + a*cos(phi)*cos(psi)*cos(t) + (a*e_orb*sin(phi)*sin(psi) - a*cos(t)*sin(phi)*sin(psi))*cos(theta) - (a*cos(psi)*cos(theta)*sin(phi)*sin(t) + a*cos(phi)*sin(psi)*sin(t))*sqrt(-e_orb^2 + 1)"
      ]
     },
     "metadata": {},
     "output_type": "display_data"
    },
    {
     "data": {
      "text/html": [
       "<html><script type=\"math/tex; mode=display\">\\newcommand{\\Bold}[1]{\\mathbf{#1}}-a e_{\\mathit{orb}} \\cos\\left(\\psi\\right) \\sin\\left(\\phi\\right) + a \\cos\\left(\\psi\\right) \\cos\\left(t\\right) \\sin\\left(\\phi\\right) - {\\left(a e_{\\mathit{orb}} \\cos\\left(\\phi\\right) \\sin\\left(\\psi\\right) - a \\cos\\left(\\phi\\right) \\cos\\left(t\\right) \\sin\\left(\\psi\\right)\\right)} \\cos\\left(\\theta\\right) + {\\left(a \\cos\\left(\\phi\\right) \\cos\\left(\\psi\\right) \\cos\\left(\\theta\\right) \\sin\\left(t\\right) - a \\sin\\left(\\phi\\right) \\sin\\left(\\psi\\right) \\sin\\left(t\\right)\\right)} \\sqrt{-e_{\\mathit{orb}}^{2} + 1}</script></html>"
      ],
      "text/plain": [
       "-a*e_orb*cos(psi)*sin(phi) + a*cos(psi)*cos(t)*sin(phi) - (a*e_orb*cos(phi)*sin(psi) - a*cos(phi)*cos(t)*sin(psi))*cos(theta) + (a*cos(phi)*cos(psi)*cos(theta)*sin(t) - a*sin(phi)*sin(psi)*sin(t))*sqrt(-e_orb^2 + 1)"
      ]
     },
     "metadata": {},
     "output_type": "display_data"
    },
    {
     "data": {
      "text/html": [
       "<html><script type=\"math/tex; mode=display\">\\newcommand{\\Bold}[1]{\\mathbf{#1}}\\sqrt{-e_{\\mathit{orb}}^{2} + 1} a \\cos\\left(\\psi\\right) \\sin\\left(t\\right) \\sin\\left(\\theta\\right) - {\\left(a e_{\\mathit{orb}} \\sin\\left(\\psi\\right) - a \\cos\\left(t\\right) \\sin\\left(\\psi\\right)\\right)} \\sin\\left(\\theta\\right)</script></html>"
      ],
      "text/plain": [
       "sqrt(-e_orb^2 + 1)*a*cos(psi)*sin(t)*sin(theta) - (a*e_orb*sin(psi) - a*cos(t)*sin(psi))*sin(theta)"
      ]
     },
     "metadata": {},
     "output_type": "display_data"
    }
   ],
   "source": [
    "print(\"Автоматическое упрощение:\")\n",
    "show(crd_geostat[0].simplify_trig())\n",
    "show(crd_geostat[1].simplify_trig())\n",
    "show(crd_geostat[2].simplify_trig())"
   ]
  },
  {
   "cell_type": "markdown",
   "metadata": {},
   "source": [
    "Результат не самый оптимальный в текущем случае, потому придется доработать вручную:"
   ]
  },
  {
   "cell_type": "code",
   "execution_count": 14,
   "metadata": {},
   "outputs": [],
   "source": [
    "def from_orbit_to_geostat_crd(_orbit_crd):\n",
    "    crd = Matrix(_orbit_crd)\n",
    "    x = crd[0][0]\n",
    "    y = crd[0][1]\n",
    "    z = crd[0][2]\n",
    "    \n",
    "    X =\\\n",
    "            - x\\\n",
    "                *(\n",
    "                        cos(theta)*sin(phi)*sin(psi) \n",
    "                    -\tcos(phi)*cos(psi)\n",
    "                )\\\n",
    "            - y\\\n",
    "                *(\n",
    "                        cos(psi)*cos(theta)*sin(phi) \n",
    "                    +\tcos(phi)*sin(psi)\n",
    "                )\\\n",
    "            + z*sin(phi)*sin(theta)\n",
    "\n",
    "\n",
    "    Y = \\\n",
    "         \tx\\\n",
    "            *(\n",
    "                    cos(phi)*cos(theta)*sin(psi) \\\n",
    "                +\tcos(psi)*sin(phi)\n",
    "            )\\\n",
    "        +\ty\\\n",
    "            *(\n",
    "                    cos(phi)*cos(psi)*cos(theta) \\\n",
    "                -\tsin(phi)*sin(psi)\n",
    "            )\\\n",
    "        -\tz*cos(phi)*sin(theta) \n",
    "\n",
    "    Z = \t(\\\n",
    "                    x*sin(psi)\\\n",
    "                +\ty*cos(psi)\n",
    "            )*sin(theta)\\\n",
    "        +\tz*cos(theta)\n",
    "        \n",
    "    return [X, Y, Z]"
   ]
  },
  {
   "cell_type": "code",
   "execution_count": 16,
   "metadata": {},
   "outputs": [],
   "source": [
    "def satellite_pos_geostat_crd():    \n",
    "    x = \\\n",
    "        - a\t*sqrt(1 - e_orb**2)*sin(Xi)\\\n",
    "            *(\n",
    "                    cos(psi)*cos(theta)*sin(phi)\\\n",
    "                +\tcos(phi)*sin(psi)\n",
    "             )\\\n",
    "        + a\t*(cos(Xi) - e_orb)\\\n",
    "            *(\n",
    "                -\tcos(theta)*sin(phi)*sin(psi)\\\n",
    "                +\tcos(phi)*cos(psi)\n",
    "            )\n",
    "\n",
    "    y = \\\n",
    "            a\t*sqrt(1 - e_orb**2)*sin(Xi)\\\n",
    "                *(\n",
    "                        cos(phi)*cos(psi)*cos(theta)\\\n",
    "                    - \tsin(phi)*sin(psi)\n",
    "                )\\\n",
    "            + a\t*(cos(Xi) - e_orb)\\\n",
    "                *(\n",
    "                        cos(phi)*cos(theta)*sin(psi)\\\n",
    "                    +\tcos(psi)*sin(phi)\n",
    "                )\n",
    "\n",
    "    z = \\\n",
    "            a\t*sin(theta)\\\n",
    "                *(\\\n",
    "                        sqrt(1 - e_orb**2)*cos(psi)*sin(Xi)\\\n",
    "                    + \t(cos(Xi) - e_orb)*sin(psi)\\\n",
    "                )\n",
    "        \n",
    "    return [x, y, z]"
   ]
  },
  {
   "cell_type": "markdown",
   "metadata": {},
   "source": [
    "Теперь необходимо удостовериться, что при упрощении вручную ничего не потерялось и формула корректна."
   ]
  },
  {
   "cell_type": "code",
   "execution_count": 19,
   "metadata": {},
   "outputs": [
    {
     "data": {
      "text/html": [
       "<html><script type=\"math/tex; mode=display\">\\newcommand{\\Bold}[1]{\\mathbf{#1}}-{\\left(\\cos\\left(\\psi\\right) \\cos\\left(\\theta\\right) \\sin\\left(\\phi\\right) + \\cos\\left(\\phi\\right) \\sin\\left(\\psi\\right)\\right)} \\sqrt{-e_{\\mathit{orb}}^{2} + 1} a \\sin\\left(t\\right) + {\\left(\\cos\\left(\\theta\\right) \\sin\\left(\\phi\\right) \\sin\\left(\\psi\\right) - \\cos\\left(\\phi\\right) \\cos\\left(\\psi\\right)\\right)} a {\\left(e_{\\mathit{orb}} - \\cos\\left(t\\right)\\right)}</script></html>"
      ],
      "text/plain": [
       "-(cos(psi)*cos(theta)*sin(phi) + cos(phi)*sin(psi))*sqrt(-e_orb^2 + 1)*a*sin(t) + (cos(theta)*sin(phi)*sin(psi) - cos(phi)*cos(psi))*a*(e_orb - cos(t))"
      ]
     },
     "metadata": {},
     "output_type": "display_data"
    },
    {
     "data": {
      "text/html": [
       "<html><script type=\"math/tex; mode=display\">\\newcommand{\\Bold}[1]{\\mathbf{#1}}{\\left(\\cos\\left(\\phi\\right) \\cos\\left(\\psi\\right) \\cos\\left(\\theta\\right) - \\sin\\left(\\phi\\right) \\sin\\left(\\psi\\right)\\right)} \\sqrt{-e_{\\mathit{orb}}^{2} + 1} a \\sin\\left(t\\right) - {\\left(\\cos\\left(\\phi\\right) \\cos\\left(\\theta\\right) \\sin\\left(\\psi\\right) + \\cos\\left(\\psi\\right) \\sin\\left(\\phi\\right)\\right)} a {\\left(e_{\\mathit{orb}} - \\cos\\left(t\\right)\\right)}</script></html>"
      ],
      "text/plain": [
       "(cos(phi)*cos(psi)*cos(theta) - sin(phi)*sin(psi))*sqrt(-e_orb^2 + 1)*a*sin(t) - (cos(phi)*cos(theta)*sin(psi) + cos(psi)*sin(phi))*a*(e_orb - cos(t))"
      ]
     },
     "metadata": {},
     "output_type": "display_data"
    },
    {
     "data": {
      "text/html": [
       "<html><script type=\"math/tex; mode=display\">\\newcommand{\\Bold}[1]{\\mathbf{#1}}{\\left(\\sqrt{-e_{\\mathit{orb}}^{2} + 1} \\cos\\left(\\psi\\right) \\sin\\left(t\\right) - {\\left(e_{\\mathit{orb}} - \\cos\\left(t\\right)\\right)} \\sin\\left(\\psi\\right)\\right)} a \\sin\\left(\\theta\\right)</script></html>"
      ],
      "text/plain": [
       "(sqrt(-e_orb^2 + 1)*cos(psi)*sin(t) - (e_orb - cos(t))*sin(psi))*a*sin(theta)"
      ]
     },
     "metadata": {},
     "output_type": "display_data"
    }
   ],
   "source": [
    "# Текущая формула берет символьные переменные из глобальной области видимости\n",
    "# потому придется сделать так:\n",
    "Xi = t\n",
    "# теперь получим координаты:\n",
    "crd_geostat2 = satellite_pos_geostat_crd()\n",
    "for i in range(0, 3):\n",
    "    show(crd_geostat2[i])"
   ]
  },
  {
   "cell_type": "markdown",
   "metadata": {},
   "source": [
    "<h1>Сверим формулы:</h1>"
   ]
  },
  {
   "cell_type": "code",
   "execution_count": 21,
   "metadata": {},
   "outputs": [
    {
     "data": {
      "text/html": [
       "<html><script type=\"math/tex; mode=display\">\\newcommand{\\Bold}[1]{\\mathbf{#1}}0</script></html>"
      ],
      "text/plain": [
       "0"
      ]
     },
     "metadata": {},
     "output_type": "display_data"
    },
    {
     "data": {
      "text/html": [
       "<html><script type=\"math/tex; mode=display\">\\newcommand{\\Bold}[1]{\\mathbf{#1}}0</script></html>"
      ],
      "text/plain": [
       "0"
      ]
     },
     "metadata": {},
     "output_type": "display_data"
    },
    {
     "data": {
      "text/html": [
       "<html><script type=\"math/tex; mode=display\">\\newcommand{\\Bold}[1]{\\mathbf{#1}}0</script></html>"
      ],
      "text/plain": [
       "0"
      ]
     },
     "metadata": {},
     "output_type": "display_data"
    }
   ],
   "source": [
    "for i in range(0, 3):\n",
    "    show((crd_geostat2[i] - crd_geostat[i]).simplify_trig())"
   ]
  },
  {
   "cell_type": "markdown",
   "metadata": {},
   "source": [
    "Следовательно в формуле ошибки нет и можно пользоваться satellite_pos_geostat_crd"
   ]
  },
  {
   "cell_type": "code",
   "execution_count": null,
   "metadata": {},
   "outputs": [],
   "source": []
  }
 ],
 "metadata": {
  "kernelspec": {
   "display_name": "SageMath 9.2",
   "language": "sage",
   "name": "sagemath"
  },
  "language_info": {
   "codemirror_mode": {
    "name": "ipython",
    "version": 3
   },
   "file_extension": ".py",
   "mimetype": "text/x-python",
   "name": "python",
   "nbconvert_exporter": "python",
   "pygments_lexer": "ipython3",
   "version": "3.7.7"
  }
 },
 "nbformat": 4,
 "nbformat_minor": 2
}
