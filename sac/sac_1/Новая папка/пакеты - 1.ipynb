{
 "cells": [
  {
   "cell_type": "code",
   "execution_count": 3,
   "metadata": {},
   "outputs": [],
   "source": [
    "y = (2*x**2 - 1) / x**4"
   ]
  },
  {
   "cell_type": "code",
   "execution_count": 9,
   "metadata": {},
   "outputs": [],
   "source": [
    "z(w, u, k) = w*9 + u*15 - k"
   ]
  },
  {
   "cell_type": "code",
   "execution_count": 10,
   "metadata": {},
   "outputs": [
    {
     "data": {
      "text/plain": [
       "56"
      ]
     },
     "execution_count": 10,
     "metadata": {},
     "output_type": "execute_result"
    }
   ],
   "source": [
    "z(k=1, u=2, w=3)"
   ]
  },
  {
   "cell_type": "code",
   "execution_count": 11,
   "metadata": {},
   "outputs": [
    {
     "data": {
      "text/html": [
       "<html><script type=\"math/tex; mode=display\">\\newcommand{\\Bold}[1]{\\mathbf{#1}}\\frac{2 \\, x^{2} - 1}{x^{4}}</script></html>"
      ],
      "text/plain": [
       "(2*x^2 - 1)/x^4"
      ]
     },
     "metadata": {},
     "output_type": "display_data"
    }
   ],
   "source": [
    "show(y)"
   ]
  },
  {
   "cell_type": "markdown",
   "metadata": {},
   "source": [
    "<pre>\n",
    "Для заданной формулой функции найти:\n",
    "    1.Область определения функции.\n",
    "    2.Является ли функция четной или нечетной, является ли периодической.\n",
    "    3.Точки пересечения графика с осями координат.\n",
    "    4. Промежутки знакопостоянства.\n",
    "    5. Промежутки возрастания и убывания.\n",
    "    6. Точки экстремума и значения в этих точках.\n",
    "    7. Исследовать поведение функции в окрестности «особых» точек и при больших по модулю x;\n",
    "    8. Непрерывность. Наличие точек разрыва и их классификация.\n",
    "    9. Асимптоты.\n",
    "Построить график функции, асимптоты.\n",
    "</pre>"
   ]
  },
  {
   "cell_type": "code",
   "execution_count": 13,
   "metadata": {},
   "outputs": [
    {
     "data": {
      "text/html": [
       "<html><script type=\"math/tex; mode=display\">\\newcommand{\\Bold}[1]{\\mathbf{#1}}\\frac{2 \\, x^{2} - 1}{x^{4}}</script></html>"
      ],
      "text/plain": [
       "(2*x^2 - 1)/x^4"
      ]
     },
     "metadata": {},
     "output_type": "display_data"
    }
   ],
   "source": [
    "show(y)"
   ]
  },
  {
   "cell_type": "markdown",
   "metadata": {},
   "source": [
    "D : x $\\neq$ 0"
   ]
  },
  {
   "cell_type": "code",
   "execution_count": 18,
   "metadata": {},
   "outputs": [
    {
     "data": {
      "image/png": "[encoded data removed]",
      "text/plain": [
       "Graphics object consisting of 1 graphics primitive"
      ]
     },
     "execution_count": 18,
     "metadata": {},
     "output_type": "execute_result"
    }
   ],
   "source": [
    "plot(y, (x, -10, 10), ymin=-0.1, ymax=1.1)"
   ]
  },
  {
   "cell_type": "code",
   "execution_count": 19,
   "metadata": {},
   "outputs": [
    {
     "data": {
      "text/plain": [
       "(2*x^2 - 1)/x^4"
      ]
     },
     "execution_count": 19,
     "metadata": {},
     "output_type": "execute_result"
    }
   ],
   "source": [
    "y(x)"
   ]
  },
  {
   "cell_type": "code",
   "execution_count": 20,
   "metadata": {},
   "outputs": [
    {
     "data": {
      "text/plain": [
       "(2*x^2 - 1)/x^4"
      ]
     },
     "execution_count": 20,
     "metadata": {},
     "output_type": "execute_result"
    }
   ],
   "source": [
    "y(-x)"
   ]
  },
  {
   "cell_type": "code",
   "execution_count": 25,
   "metadata": {},
   "outputs": [
    {
     "data": {
      "text/plain": [
       "(2*x^2 - 1)/x^4 == (2*x^2 - 1)/x^4"
      ]
     },
     "execution_count": 25,
     "metadata": {},
     "output_type": "execute_result"
    }
   ],
   "source": [
    "y(x) == y(-x)"
   ]
  },
  {
   "cell_type": "code",
   "execution_count": 27,
   "metadata": {},
   "outputs": [
    {
     "data": {
      "text/plain": [
       "0"
      ]
     },
     "execution_count": 27,
     "metadata": {},
     "output_type": "execute_result"
    }
   ],
   "source": [
    "(y(x) - y(-x)).expand().simplify()"
   ]
  },
  {
   "cell_type": "code",
   "execution_count": null,
   "metadata": {},
   "outputs": [],
   "source": [
    "import math"
   ]
  },
  {
   "cell_type": "code",
   "execution_count": 13,
   "metadata": {},
   "outputs": [
    {
     "data": {
      "image/png": "[encoded data removed]",
      "text/plain": [
       "Graphics object consisting of 2 graphics primitives"
      ]
     },
     "metadata": {},
     "output_type": "display_data"
    }
   ],
   "source": [
    "a = 10 \n",
    "x = 10 #свдиг по x\n",
    "y = 10 #сдвиг по y\n",
    "\n",
    "rectangle_src = matrix([\n",
    "[0, 0],\n",
    "[0, a],\n",
    "[a, a],\n",
    "[a, 0],\n",
    "[0, 0]\n",
    "])\n",
    "\n",
    "x_matrix = matrix ([\n",
    "[x, 0],\n",
    "[x, 0],\n",
    "[x, 0],\n",
    "[x, 0],\n",
    "[x, 0]\n",
    "])\n",
    "\n",
    "y_matrix = matrix ([\n",
    "[0, y],\n",
    "[0, y],\n",
    "[0, y],\n",
    "[0, y],\n",
    "[0, y]\n",
    "])\n",
    "\n",
    "alpha = math.radians(10)\n",
    "mat_rot = matrix([\n",
    "[cos(alpha), sin(alpha)]\n",
    ", [ -sin(alpha), cos(alpha)]\n",
    "])\n",
    "rectangle_rotated = (rectangle_src* mat_rot) + x_matrix + y_matrix\n",
    "\n",
    "\n",
    "show(\n",
    "line(rectangle_src)\n",
    "+ line(rectangle_rotated)\n",
    ", xmin=0, xmax=20, ymin=0, ymax=20, aspect_ratio=1)\n"
   ]
  },
  {
   "cell_type": "code",
   "execution_count": null,
   "metadata": {},
   "outputs": [],
   "source": []
  },
  {
   "cell_type": "code",
   "execution_count": 5,
   "metadata": {},
   "outputs": [
    {
     "name": "stdout",
     "output_type": "stream",
     "text": [
      "Help on function show in module sage.repl.rich_output.pretty_print:\n",
      "\n",
      "show(*args, **kwds)\n",
      "    Alias for ``pretty_print``\n",
      "    \n",
      "    This function is an alias for :meth:`pretty_print`.\n",
      "    \n",
      "    INPUT/OUTPUT:\n",
      "    \n",
      "    See :meth:`pretty_print`. Except if the argument is a graph, in\n",
      "    which case it is plotted instead.\n",
      "    \n",
      "    EXAMPLES::\n",
      "    \n",
      "        sage: show(1)\n",
      "        <html><script type=\"math/tex\">\\newcommand{\\Bold}[1]{\\mathbf{#1}}1</script></html>\n",
      "\n"
     ]
    }
   ],
   "source": [
    "help(show)"
   ]
  },
  {
   "cell_type": "code",
   "execution_count": 6,
   "metadata": {},
   "outputs": [
    {
     "name": "stderr",
     "output_type": "stream",
     "text": [
      "/opt/sagemath-9.2/local/lib/python3.7/site-packages/requests/models.py:847: DeprecationWarning: invalid escape sequence \\*\n",
      "  \"\"\"\n",
      "/opt/sagemath-9.2/local/lib/python3.7/site-packages/requests/api.py:67: DeprecationWarning: invalid escape sequence \\*\n",
      "  \"\"\"\n",
      "/opt/sagemath-9.2/local/lib/python3.7/site-packages/requests/api.py:80: DeprecationWarning: invalid escape sequence \\*\n",
      "  \"\"\"\n",
      "/opt/sagemath-9.2/local/lib/python3.7/site-packages/requests/api.py:93: DeprecationWarning: invalid escape sequence \\*\n",
      "  \"\"\"\n",
      "/opt/sagemath-9.2/local/lib/python3.7/site-packages/requests/api.py:108: DeprecationWarning: invalid escape sequence \\*\n",
      "  \"\"\"\n",
      "/opt/sagemath-9.2/local/lib/python3.7/site-packages/requests/api.py:122: DeprecationWarning: invalid escape sequence \\*\n",
      "  \"\"\"\n",
      "/opt/sagemath-9.2/local/lib/python3.7/site-packages/requests/api.py:136: DeprecationWarning: invalid escape sequence \\*\n",
      "  \"\"\"\n",
      "/opt/sagemath-9.2/local/lib/python3.7/site-packages/requests/api.py:148: DeprecationWarning: invalid escape sequence \\*\n",
      "  \"\"\"\n",
      "/opt/sagemath-9.2/local/lib/python3.7/site-packages/requests/sessions.py:498: DeprecationWarning: invalid escape sequence \\*\n",
      "  \"\"\"\n",
      "/opt/sagemath-9.2/local/lib/python3.7/site-packages/requests/sessions.py:509: DeprecationWarning: invalid escape sequence \\*\n",
      "  \"\"\"\n",
      "/opt/sagemath-9.2/local/lib/python3.7/site-packages/requests/sessions.py:520: DeprecationWarning: invalid escape sequence \\*\n",
      "  \"\"\"\n",
      "/opt/sagemath-9.2/local/lib/python3.7/site-packages/requests/sessions.py:533: DeprecationWarning: invalid escape sequence \\*\n",
      "  \"\"\"\n",
      "/opt/sagemath-9.2/local/lib/python3.7/site-packages/requests/sessions.py:544: DeprecationWarning: invalid escape sequence \\*\n",
      "  \"\"\"\n",
      "/opt/sagemath-9.2/local/lib/python3.7/site-packages/requests/sessions.py:555: DeprecationWarning: invalid escape sequence \\*\n",
      "  \"\"\"\n",
      "/opt/sagemath-9.2/local/lib/python3.7/site-packages/requests/sessions.py:565: DeprecationWarning: invalid escape sequence \\*\n",
      "  \"\"\"\n",
      "/opt/sagemath-9.2/local/lib/python3.7/site-packages/docutils/writers/latex2e/__init__.py:2978: DeprecationWarning: invalid escape sequence \\l\n",
      "  self.out.append('}] \\leavevmode ')\n"
     ]
    }
   ],
   "source": [
    "show?"
   ]
  },
  {
   "cell_type": "code",
   "execution_count": null,
   "metadata": {},
   "outputs": [],
   "source": []
  }
 ],
 "metadata": {
  "kernelspec": {
   "display_name": "SageMath 9.2",
   "language": "sage",
   "name": "sagemath"
  },
  "language_info": {
   "codemirror_mode": {
    "name": "ipython",
    "version": 3
   },
   "file_extension": ".py",
   "mimetype": "text/x-python",
   "name": "python",
   "nbconvert_exporter": "python",
   "pygments_lexer": "ipython3",
   "version": "3.7.7"
  }
 },
 "nbformat": 4,
 "nbformat_minor": 2
}
