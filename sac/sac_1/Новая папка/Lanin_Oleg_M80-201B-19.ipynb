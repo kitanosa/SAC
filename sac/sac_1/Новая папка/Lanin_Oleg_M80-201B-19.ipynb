{
 "cells": [
  {
   "cell_type": "markdown",
   "metadata": {},
   "source": [
    "<h1>Лабораторная работа №1</h1>\n",
    "<h2>По курсу \"Системы аналитических вычислений\"</h2>\n",
    "<h4>Студент группы М8О-201Б: Ланин Олег</h4> <br>\n",
    "<br>\n",
    "<h2>Задание 1.1 - Квадратик</h2>"
   ]
  },
  {
   "cell_type": "code",
   "execution_count": 1,
   "metadata": {},
   "outputs": [],
   "source": [
    "import math"
   ]
  },
  {
   "cell_type": "code",
   "execution_count": 2,
   "metadata": {},
   "outputs": [
    {
     "data": {
      "image/png": "[encoded data removed]",
      "text/plain": [
       "Graphics object consisting of 2 graphics primitives"
      ]
     },
     "metadata": {},
     "output_type": "display_data"
    }
   ],
   "source": [
    "a = 10\n",
    "rectangle_src = matrix([[1, 1], [1, a], [a, a], [a, 1], [1, 1]])\n",
    "alpha = math.radians(30)\n",
    "mat_rot = matrix([\n",
    "    [cos(alpha), sin(alpha)]\n",
    "    , [ -sin(alpha), cos(alpha)]\n",
    "])\n",
    "rectangle_rotated =  rectangle_src * mat_rot\n",
    "\n",
    "\n",
    "show(\n",
    "    line(rectangle_src)\n",
    "    + line(rectangle_rotated)\n",
    "    , xmin=0, xmax=20, ymin=0, ymax=20, aspect_ratio=1)"
   ]
  },
  {
   "cell_type": "code",
   "execution_count": 3,
   "metadata": {},
   "outputs": [
    {
     "data": {
      "image/png": "[encoded data removed]",
      "text/plain": [
       "Graphics object consisting of 3 graphics primitives"
      ]
     },
     "metadata": {},
     "output_type": "display_data"
    }
   ],
   "source": [
    "cx = 10\n",
    "cy = 4\n",
    "mat_inv =  matrix([[cx, cy], [cx, cy], [cx, cy], [cx, cy], [cx, cy]])\n",
    "rectangle_inv = rectangle_rotated + mat_inv\n",
    "\n",
    "show(\n",
    "    line(rectangle_src)\n",
    "    +    line(rectangle_inv)\n",
    "    + line(rectangle_rotated)\n",
    "    , xmin=0, xmax=20, ymin=0, ymax=20, aspect_ratio=1)"
   ]
  },
  {
   "cell_type": "markdown",
   "metadata": {},
   "source": [
    "<h2>Задание 1.2 - Исследование функции</h2>"
   ]
  },
  {
   "cell_type": "markdown",
   "metadata": {},
   "source": [
    "<pre>\n",
    "Для заданной формулой функции найти:\n",
    "    1.Область определения функции.\n",
    "    2.Является ли функция четной или нечетной, является ли периодической.\n",
    "    3.Точки пересечения графика с осями координат.\n",
    "    4.Промежутки знакопостоянства.\n",
    "    5.Промежутки возрастания и убывания.\n",
    "    6.Точки экстремума и значения в этих точках.\n",
    "    7.Исследовать поведение функции в окрестности «особых» точек и при больших по модулю x;\n",
    "    8.Непрерывность. Наличие точек разрыва и их классификация.\n",
    "    9.Асимптоты.\n",
    "Построить график функции, асимптоты.\n",
    "</pre>"
   ]
  },
  {
   "cell_type": "code",
   "execution_count": 1,
   "metadata": {},
   "outputs": [],
   "source": [
    "y = 1/2 * ln(sqrt(x^2 + 1) / sqrt(x^2 - 1)) "
   ]
  },
  {
   "cell_type": "code",
   "execution_count": 2,
   "metadata": {},
   "outputs": [
    {
     "data": {
      "text/html": [
       "<html><script type=\"math/tex; mode=display\">\\newcommand{\\Bold}[1]{\\mathbf{#1}}\\frac{1}{2} \\, \\log\\left(\\frac{\\sqrt{x^{2} + 1}}{\\sqrt{x^{2} - 1}}\\right)</script></html>"
      ],
      "text/latex": [
       "\\begin{math}\n",
       "\\newcommand{\\Bold}[1]{\\mathbf{#1}}\\frac{1}{2} \\, \\log\\left(\\frac{\\sqrt{x^{2} + 1}}{\\sqrt{x^{2} - 1}}\\right)\n",
       "\\end{math}"
      ],
      "text/plain": [
       "1/2*log(sqrt(x^2 + 1)/sqrt(x^2 - 1))"
      ]
     },
     "metadata": {},
     "output_type": "display_data"
    }
   ],
   "source": [
    "show(y)"
   ]
  },
  {
   "cell_type": "code",
   "execution_count": 3,
   "metadata": {
    "scrolled": true
   },
   "outputs": [
    {
     "data": {
      "text/html": [
       "<html><script type=\"math/tex; mode=display\">\\newcommand{\\Bold}[1]{\\mathbf{#1}}x \\ {\\mapsto}\\ \\frac{1}{2} \\, \\log\\left(\\frac{\\sqrt{x^{2} + 1}}{\\sqrt{x^{2} - 1}}\\right) \\left(x, -20, 20\\right)</script></html>"
      ],
      "text/latex": [
       "\\begin{math}\n",
       "\\newcommand{\\Bold}[1]{\\mathbf{#1}}x \\ {\\mapsto}\\ \\frac{1}{2} \\, \\log\\left(\\frac{\\sqrt{x^{2} + 1}}{\\sqrt{x^{2} - 1}}\\right) \\left(x, -20, 20\\right)\n",
       "\\end{math}"
      ],
      "text/plain": [
       "x |--> 1/2*log(sqrt(x^2 + 1)/sqrt(x^2 - 1)) (x, -20, 20)"
      ]
     },
     "metadata": {},
     "output_type": "display_data"
    }
   ],
   "source": [
    "y(x)=1/2 * ln(sqrt(x^2 + 1) / sqrt(x^2 - 1))\n",
    "show(y, (x, -20, 20), ymin=-0.01, ymax=1.2)"
   ]
  },
  {
   "cell_type": "code",
   "execution_count": 4,
   "metadata": {
    "scrolled": true
   },
   "outputs": [
    {
     "data": {
      "text/html": [
       "<html><script type=\"math/tex; mode=display\">\\newcommand{\\Bold}[1]{\\mathbf{#1}}\\verb|Функция|\\phantom{\\verb!x!}\\verb|не|\\phantom{\\verb!x!}\\verb|существует|\\phantom{\\verb!x!}\\verb|при| \\left[\\left[x < \\left(-1\\right)\\right], \\left[x > 1\\right], \\left[x \\neq 0\\right]\\right]</script></html>"
      ],
      "text/latex": [
       "\\begin{math}\n",
       "\\newcommand{\\Bold}[1]{\\mathbf{#1}}\\verb|Функция|\\phantom{\\verb!x!}\\verb|не|\\phantom{\\verb!x!}\\verb|существует|\\phantom{\\verb!x!}\\verb|при| \\left[\\left[x < \\left(-1\\right)\\right], \\left[x > 1\\right], \\left[x \\neq 0\\right]\\right]\n",
       "\\end{math}"
      ],
      "text/plain": [
       "'Функция не существует при ' [[x < -1], [x > 1], [x != 0]]"
      ]
     },
     "metadata": {},
     "output_type": "display_data"
    }
   ],
   "source": [
    "\n",
    "f1 = (x**2-1)\n",
    "f2 = x\n",
    "show(\"Функция не существует при \",solve(f1 > 0, x) + solve(f2 != 0, x))"
   ]
  },
  {
   "cell_type": "code",
   "execution_count": 5,
   "metadata": {},
   "outputs": [
    {
     "data": {
      "text/plain": [
       "1/2*log(sqrt(x^2 + 1)/sqrt(x^2 - 1)) == 1/2*log(sqrt(x^2 + 1)/sqrt(x^2 - 1))"
      ]
     },
     "execution_count": 5,
     "metadata": {},
     "output_type": "execute_result"
    }
   ],
   "source": [
    "y(x) == y(-x)"
   ]
  },
  {
   "cell_type": "markdown",
   "metadata": {},
   "source": [
    "Функция y = f(x) называется четной, если для любого x из области определения функции выполняется равенство f(−x) = f(x)\n",
    "\n",
    "Это условие выполняется, значит функция чётная.\n",
    "Следовательно область определения функции:$$[[x<(−1)]\\cup[x>1]\\cup[x\\neq0]]$$"
   ]
  },
  {
   "cell_type": "code",
   "execution_count": 6,
   "metadata": {},
   "outputs": [
    {
     "data": {
      "text/html": [
       "<html><script type=\"math/tex; mode=display\">\\newcommand{\\Bold}[1]{\\mathbf{#1}}\\verb|Функция|\\phantom{\\verb!x!}\\verb|пересекает|\\phantom{\\verb!x!}\\verb|ось|\\phantom{\\verb!x!}\\verb|OY|\\phantom{\\verb!x!}\\verb|в|\\phantom{\\verb!x!}\\verb|точке|\\phantom{\\verb!x!}\\verb|(0;| -\\frac{1}{4} i \\, \\pi \\verb|).|\\phantom{\\verb!x!}\\verb|Функция|\\phantom{\\verb!x!}\\verb|не|\\phantom{\\verb!x!}\\verb|пересекате|\\phantom{\\verb!x!}\\verb|ось|\\phantom{\\verb!x!}\\verb|OX|</script></html>"
      ],
      "text/latex": [
       "\\begin{math}\n",
       "\\newcommand{\\Bold}[1]{\\mathbf{#1}}\\verb|Функция|\\phantom{\\verb!x!}\\verb|пересекает|\\phantom{\\verb!x!}\\verb|ось|\\phantom{\\verb!x!}\\verb|OY|\\phantom{\\verb!x!}\\verb|в|\\phantom{\\verb!x!}\\verb|точке|\\phantom{\\verb!x!}\\verb|(0;| -\\frac{1}{4} i \\, \\pi \\verb|).|\\phantom{\\verb!x!}\\verb|Функция|\\phantom{\\verb!x!}\\verb|не|\\phantom{\\verb!x!}\\verb|пересекате|\\phantom{\\verb!x!}\\verb|ось|\\phantom{\\verb!x!}\\verb|OX|\n",
       "\\end{math}"
      ],
      "text/plain": [
       "'Функция пересекает ось OY в точке (0;' -1/4*I*pi '). Функция не пересекате ось OX'"
      ]
     },
     "metadata": {},
     "output_type": "display_data"
    }
   ],
   "source": [
    "show(\"Функция пересекает ось OY в точке (0;\", y(0), \"). Функция не пересекате ось OX\")"
   ]
  },
  {
   "cell_type": "code",
   "execution_count": 7,
   "metadata": {},
   "outputs": [
    {
     "data": {
      "image/png": "[encoded data removed]",
      "text/plain": [
       "Graphics object consisting of 1 graphics primitive"
      ]
     },
     "execution_count": 7,
     "metadata": {},
     "output_type": "execute_result"
    }
   ],
   "source": [
    "plot(diff(y).simplify_full(), (x, -5,5), ymax=5, ymin=-5)"
   ]
  },
  {
   "cell_type": "code",
   "execution_count": 9,
   "metadata": {},
   "outputs": [
    {
     "data": {
      "text/html": [
       "<html><script type=\"math/tex; mode=display\">\\newcommand{\\Bold}[1]{\\mathbf{#1}}\\verb|Промежутки|\\phantom{\\verb!x!}\\verb|возрастания|\\phantom{\\verb!x!}\\verb|и|\\phantom{\\verb!x!}\\verb|убывания|\\phantom{\\verb!x!}\\verb|определяются|\\phantom{\\verb!x!}\\verb|с|\\phantom{\\verb!x!}\\verb|помощью|\\phantom{\\verb!x!}\\verb|производной|\\phantom{\\verb!x!}\\verb|функции|</script></html>"
      ],
      "text/latex": [
       "\\begin{math}\n",
       "\\newcommand{\\Bold}[1]{\\mathbf{#1}}\\verb|Промежутки|\\phantom{\\verb!x!}\\verb|возрастания|\\phantom{\\verb!x!}\\verb|и|\\phantom{\\verb!x!}\\verb|убывания|\\phantom{\\verb!x!}\\verb|определяются|\\phantom{\\verb!x!}\\verb|с|\\phantom{\\verb!x!}\\verb|помощью|\\phantom{\\verb!x!}\\verb|производной|\\phantom{\\verb!x!}\\verb|функции|\n",
       "\\end{math}"
      ],
      "text/plain": [
       "'Промежутки возрастания и убывания определяются с помощью производной функции'"
      ]
     },
     "metadata": {},
     "output_type": "display_data"
    },
    {
     "data": {
      "text/html": [
       "<html><script type=\"math/tex; mode=display\">\\newcommand{\\Bold}[1]{\\mathbf{#1}}x \\ {\\mapsto}\\ -\\frac{x}{x^{4} - 1}</script></html>"
      ],
      "text/latex": [
       "\\begin{math}\n",
       "\\newcommand{\\Bold}[1]{\\mathbf{#1}}x \\ {\\mapsto}\\ -\\frac{x}{x^{4} - 1}\n",
       "\\end{math}"
      ],
      "text/plain": [
       "x |--> -x/(x^4 - 1)"
      ]
     },
     "metadata": {},
     "output_type": "display_data"
    }
   ],
   "source": [
    "show(\"Промежутки возрастания и убывания определяются с помощью производной функции\")\n",
    "diff(y, x).simplify_full()\n",
    "show(diff(y, x).simplify_full())"
   ]
  },
  {
   "cell_type": "markdown",
   "metadata": {},
   "source": [
    "Функция непрерывна на всей области определения функции, т.е. на\n",
    "$$(-\\infty;-1)\\cup x = 0\\cup (1;+\\infty)$$\n",
    "\n",
    "При x = −1 и x = 1 находятся точки разрыва второго рода (слева и справа от них существуют бесконечные пределы).\n",
    "\n",
    "Так же через x = −1 и x = 1 проходят вертикальные асимптоты"
   ]
  },
  {
   "cell_type": "markdown",
   "metadata": {},
   "source": [
    "Находим нули функции. \n",
    "Для этого приравниваем производную к нулю; x = 0\n",
    "\n",
    "Поэтому функция убывает на промежутке (-∞ ;0), (f'(x) < 0) и возрастает на промежутке (0;∞), (f'(x) > 0)."
   ]
  },
  {
   "cell_type": "code",
   "execution_count": 13,
   "metadata": {},
   "outputs": [
    {
     "data": {
      "text/html": [
       "<html><script type=\"math/tex; mode=display\">\\newcommand{\\Bold}[1]{\\mathbf{#1}}\\verb|D|\\phantom{\\verb!x!}\\verb|этом|\\phantom{\\verb!x!}\\verb|промежутке|\\phantom{\\verb!x!}\\verb|находится|\\phantom{\\verb!x!}\\verb|экстремум|\\phantom{\\verb!x!}\\verb|функции:|</script></html>"
      ],
      "text/latex": [
       "\\begin{math}\n",
       "\\newcommand{\\Bold}[1]{\\mathbf{#1}}\\verb|D|\\phantom{\\verb!x!}\\verb|этом|\\phantom{\\verb!x!}\\verb|промежутке|\\phantom{\\verb!x!}\\verb|находится|\\phantom{\\verb!x!}\\verb|экстремум|\\phantom{\\verb!x!}\\verb|функции:|\n",
       "\\end{math}"
      ],
      "text/plain": [
       "'D этом промежутке находится экстремум функции:'"
      ]
     },
     "metadata": {},
     "output_type": "display_data"
    },
    {
     "data": {
      "text/plain": [
       "[x == 0]"
      ]
     },
     "execution_count": 13,
     "metadata": {},
     "output_type": "execute_result"
    }
   ],
   "source": [
    "der = y.derivative()\n",
    "show(\"D этом промежутке находится экстремум функции:\")\n",
    "solve(der,x,to_poly_solve=True)"
   ]
  },
  {
   "cell_type": "code",
   "execution_count": 14,
   "metadata": {},
   "outputs": [
    {
     "data": {
      "text/html": [
       "<html><script type=\"math/tex; mode=display\">\\newcommand{\\Bold}[1]{\\mathbf{#1}}\\verb|Возьмём|\\phantom{\\verb!x!}\\verb|значение|\\phantom{\\verb!x!}\\verb|x|\\phantom{\\verb!x!}\\verb|=|\\phantom{\\verb!x!}\\verb|0.|\\phantom{\\verb!x!}\\verb|Экстремум|\\phantom{\\verb!x!}\\verb|функции|\\phantom{\\verb!x!}\\verb|находится|\\phantom{\\verb!x!}\\verb|в|\\phantom{\\verb!x!}\\verb|точке|\\phantom{\\verb!x!}\\verb|(0;| -\\frac{1}{4} i \\, \\pi \\verb|)|</script></html>"
      ],
      "text/latex": [
       "\\begin{math}\n",
       "\\newcommand{\\Bold}[1]{\\mathbf{#1}}\\verb|Возьмём|\\phantom{\\verb!x!}\\verb|значение|\\phantom{\\verb!x!}\\verb|x|\\phantom{\\verb!x!}\\verb|=|\\phantom{\\verb!x!}\\verb|0.|\\phantom{\\verb!x!}\\verb|Экстремум|\\phantom{\\verb!x!}\\verb|функции|\\phantom{\\verb!x!}\\verb|находится|\\phantom{\\verb!x!}\\verb|в|\\phantom{\\verb!x!}\\verb|точке|\\phantom{\\verb!x!}\\verb|(0;| -\\frac{1}{4} i \\, \\pi \\verb|)|\n",
       "\\end{math}"
      ],
      "text/plain": [
       "'Возьмём значение x = 0. Экстремум функции находится в точке (0;' -1/4*I*pi ')'"
      ]
     },
     "metadata": {},
     "output_type": "display_data"
    }
   ],
   "source": [
    "show(\"Возьмём значение x = 0. Экстремум функции находится в точке (0;\", y(0), \")\")"
   ]
  },
  {
   "cell_type": "code",
   "execution_count": null,
   "metadata": {},
   "outputs": [],
   "source": []
  }
 ],
 "metadata": {
  "kernelspec": {
   "display_name": "SageMath 9.2",
   "language": "sage",
   "name": "sagemath"
  },
  "language_info": {
   "codemirror_mode": {
    "name": "ipython",
    "version": 3
   },
   "file_extension": ".py",
   "mimetype": "text/x-python",
   "name": "python",
   "nbconvert_exporter": "python",
   "pygments_lexer": "ipython3",
   "version": "3.7.7"
  }
 },
 "nbformat": 4,
 "nbformat_minor": 4
}
