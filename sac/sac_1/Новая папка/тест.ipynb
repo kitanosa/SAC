{
 "cells": [
  {
   "cell_type": "markdown",
   "metadata": {},
   "source": [
    "Результат скидывать на почту tt48@mail.ru в виде файла *.ipynb<br>\n",
    "В теме письма указывать, что это второй курс и что это \"системы аналитических вычислений\" или \"пакеты\". + номер ДЗ туда же.<br>\n",
    "В содержании письма указывать ФИО и группу."
   ]
  },
  {
   "cell_type": "markdown",
   "metadata": {},
   "source": [
    "<h1>Задание 0</h1>\n",
    "<pre>\n",
    "Установить SageMath 9.2 (https://www.sagemath.org/)\n",
    "В случае проблем - писать на почту.\n",
    "\t\n",
    "Как резервный вариант - on-line редакторы\n",
    "\thttps://cocalc.com/doc/jupyter-notebook.html\n",
    "\t\tесть некоторые проблемы по LaTeX возможностям.\n",
    "\thttps://sagecell.sagemath.org/\n",
    "\t\tработает, но предоставляется только одна ячейка\n",
    "\t\n",
    "\t- медленнее работают\n",
    "\t\t, есть ограничения по количеству времени на выполнение запроса\n",
    "\t\t, некоторые ошибки по синтаксису опускаются (LaTeX касается)\n",
    "\t\t, больше места экрана уходит на менюшки и прочего.\n",
    "\t\t\n",
    "\t+ ничего устанавливать не нужно. Можно даже не регистрироваться.\n",
    "</pre>"
   ]
  },
  {
   "cell_type": "markdown",
   "metadata": {},
   "source": [
    "<h1>Задание 1 - часть 1 - Квадратик</h1>\n",
    "Доделать начинания, что были на занятии:<br>\n",
    "при помощи функции отображения графиков отобразить квадратик.<br>\n",
    "Задав квадратик матрицей координат, повернуть и сдвинуть его относительно исходного положения.<br>\n",
    "Вывести исходный квадратик и результат.\n"
   ]
  },
  {
   "cell_type": "code",
   "execution_count": 5,
   "metadata": {},
   "outputs": [],
   "source": [
    "import math"
   ]
  },
  {
   "cell_type": "code",
   "execution_count": 1,
   "metadata": {},
   "outputs": [
    {
     "data": {
      "image/png": "[encoded data removed]",
      "text/plain": [
       "Graphics object consisting of 2 graphics primitives"
      ]
     },
     "metadata": {},
     "output_type": "display_data"
    }
   ],
   "source": [
    "a = 10 \n",
    "b = 10 #свдиг по x\n",
    "c = 10 #сдвиг по y\n",
    "\n",
    "rectangle_src = matrix([\n",
    "[0, 0],\n",
    "[0, a],\n",
    "[a, a],\n",
    "[a, 0],\n",
    "[0, 0]\n",
    "])\n",
    "\n",
    "x_matrix = matrix ([\n",
    "[b, 0],\n",
    "[b, 0],\n",
    "[b, 0],\n",
    "[b, 0],\n",
    "[b, 0]\n",
    "])\n",
    "\n",
    "y_matrix = matrix ([\n",
    "[0, c],\n",
    "[0, c],\n",
    "[0, c],\n",
    "[0, c],\n",
    "[0, c]\n",
    "])\n",
    "\n",
    "alpha = math.radians(10)\n",
    "mat_rot = matrix([\n",
    "[cos(alpha), sin(alpha)]\n",
    ", [ -sin(alpha), cos(alpha)]\n",
    "])\n",
    "rectangle_rotated = (rectangle_src* mat_rot) + x_matrix + y_matrix\n",
    "\n",
    "\n",
    "show(\n",
    "line(rectangle_src)\n",
    "+ line(rectangle_rotated)\n",
    ", xmin=0, xmax=20, ymin=0, ymax=20, aspect_ratio=1)"
   ]
  },
  {
   "cell_type": "markdown",
   "metadata": {},
   "source": [
    "<h1>Задание 1 - часть 2 - Исследование функции</h1>\n",
    "Для заданной формулой функции найти:\n",
    "<ol>\n",
    "    <li>Область определения функции.</li>\n",
    "    <li>Является ли функция четной или нечетной, является ли периодической.</li>\n",
    "    <li>Точки пересечения графика с осями координат.</li>\n",
    "    <li>Промежутки знакопостоянства.</li>\n",
    "    <li>Промежутки возрастания и убывания.</li>\n",
    "    <li>Точки экстремума и значения в этих точках.</li>\n",
    "    <li>Непрерывность. Наличие точек разрыва и их классификация.</li>\n",
    "    <li>Асимптоты.</li>\n",
    "</ol>\n",
    "Построить график функции, асимптоты, промежутки знакопостоянства. (см. папку с материалами).<br>\n",
    "Необходимо также сделать минимальное, но оформление решения, а не просто набор ответов.\n",
    "\n",
    "<h4>Справочные материалы:</h4>\n",
    "<ol>\n",
    "    <li>Гусак, 1999г. - исследование графиков</li>\n",
    "    <li>Ефимов, Поспелов — т.2, стр. 86</li>\n",
    "    <li>Ильин, Поздняк — т.1, стр. 143 и стр. 300-327</li>\n",
    "    <li>Пискунов — стр. 144-184</li>\n",
    "</ol>"
   ]
  },
  {
   "cell_type": "markdown",
   "metadata": {},
   "source": [
    "<h1>Варианты:</h1>"
   ]
  },
  {
   "cell_type": "code",
   "execution_count": 2,
   "metadata": {},
   "outputs": [
    {
     "data": {
      "text/html": [
       "<html><script type=\"math/tex; mode=display\">\\newcommand{\\Bold}[1]{\\mathbf{#1}}\\frac{{\\left(x^{3} - x^{2} - x + 1\\right)}^{\\frac{1}{3}}}{\\tan\\left(x\\right)}</script></html>"
      ],
      "text/latex": [
       "\\begin{math}\n",
       "\\newcommand{\\Bold}[1]{\\mathbf{#1}}\\frac{{\\left(x^{3} - x^{2} - x + 1\\right)}^{\\frac{1}{3}}}{\\tan\\left(x\\right)}\n",
       "\\end{math}"
      ],
      "text/plain": [
       "(x^3 - x^2 - x + 1)^(1/3)/tan(x)"
      ]
     },
     "metadata": {},
     "output_type": "display_data"
    }
   ],
   "source": [
    "y = (x^3 - x^2 - x + 1)^(1/3) / tan(x)\n",
    "show(y)"
   ]
  },
  {
   "cell_type": "code",
   "execution_count": 3,
   "metadata": {},
   "outputs": [
    {
     "data": {
      "text/html": [
       "<html><script type=\"math/tex; mode=display\">\\newcommand{\\Bold}[1]{\\mathbf{#1}}\\left[\\left[\\tan\\left(x\\right) \\neq 0\\right]\\right]</script></html>"
      ],
      "text/latex": [
       "\\begin{math}\n",
       "\\newcommand{\\Bold}[1]{\\mathbf{#1}}\\left[\\left[\\tan\\left(x\\right) \\neq 0\\right]\\right]\n",
       "\\end{math}"
      ],
      "text/plain": [
       "[[tan(x) != 0]]"
      ]
     },
     "metadata": {},
     "output_type": "display_data"
    }
   ],
   "source": [
    "f2 = tan(x)\n",
    "show(solve(f2 != 0, x))"
   ]
  },
  {
   "cell_type": "markdown",
   "metadata": {},
   "source": [
    "$$1. Область\\,определения\\,функции\\,будет$$\n",
    "$$x\\in R\\quad x\\neq \\pi*n$$"
   ]
  },
  {
   "cell_type": "code",
   "execution_count": 4,
   "metadata": {},
   "outputs": [
    {
     "data": {
      "image/png": "[encoded data removed]",
      "text/plain": [
       "Graphics object consisting of 1 graphics primitive"
      ]
     },
     "execution_count": 4,
     "metadata": {},
     "output_type": "execute_result"
    }
   ],
   "source": [
    "y(x)=(x**3 - x**2 - x + 1)**(1/3) / tan(x)\n",
    "plot(y, (x, -1, 20), ymin=-20.0, ymax=20.0)"
   ]
  },
  {
   "cell_type": "markdown",
   "metadata": {},
   "source": [
    "$$2.Является\\,ли\\,функция\\,четной\\,или\\,нечетной,\\,является\\,ли\\,периодической.$$"
   ]
  },
  {
   "cell_type": "code",
   "execution_count": 5,
   "metadata": {},
   "outputs": [
    {
     "data": {
      "text/plain": [
       "(x^3 - x^2 - x + 1)^(1/3)/tan(x) == (-x^3 - x^2 + x + 1)^(1/3)/tan(-x)"
      ]
     },
     "execution_count": 5,
     "metadata": {},
     "output_type": "execute_result"
    }
   ],
   "source": [
    "y(x) == y(-x)"
   ]
  },
  {
   "cell_type": "code",
   "execution_count": 6,
   "metadata": {},
   "outputs": [
    {
     "data": {
      "text/plain": [
       "(-x^3 - x^2 + x + 1)^(1/3)/tan(-x) == -(x^3 - x^2 - x + 1)^(1/3)/tan(x)"
      ]
     },
     "execution_count": 6,
     "metadata": {},
     "output_type": "execute_result"
    }
   ],
   "source": [
    "y(-x) == -y(x)"
   ]
  },
  {
   "cell_type": "markdown",
   "metadata": {},
   "source": [
    "2.Равенство f(−x) = f(x) не выполнено, как и f(-x)=f(x). Значит функция ни четная ни нечетная"
   ]
  },
  {
   "cell_type": "markdown",
   "metadata": {},
   "source": [
    "$$3.Точки\\,пересечения\\,графика\\,с\\,oсями\\,координат.$$"
   ]
  },
  {
   "cell_type": "code",
   "execution_count": 7,
   "metadata": {},
   "outputs": [
    {
     "data": {
      "text/html": [
       "<html><script type=\"math/tex; mode=display\">\\newcommand{\\Bold}[1]{\\mathbf{#1}}\\verb|Корней|\\phantom{\\verb!x!}\\verb|бесконечно|\\phantom{\\verb!x!}\\verb|много,|\\phantom{\\verb!x!}\\verb|поэтому|\\phantom{\\verb!x!}\\verb|укажем|\\phantom{\\verb!x!}\\verb|пересечения|\\phantom{\\verb!x!}\\verb|графика|\\phantom{\\verb!x!}\\verb|функции|\\phantom{\\verb!x!}\\verb|с|\\phantom{\\verb!x!}\\verb|осью|\\phantom{\\verb!x!}\\verb|ОХ|\\phantom{\\verb!x!}\\verb|из|\\phantom{\\verb!x!}\\verb|промежутка|\\phantom{\\verb!x!}\\verb|(1;5)|</script></html>"
      ],
      "text/latex": [
       "\\begin{math}\n",
       "\\newcommand{\\Bold}[1]{\\mathbf{#1}}\\verb|Корней|\\phantom{\\verb!x!}\\verb|бесконечно|\\phantom{\\verb!x!}\\verb|много,|\\phantom{\\verb!x!}\\verb|поэтому|\\phantom{\\verb!x!}\\verb|укажем|\\phantom{\\verb!x!}\\verb|пересечения|\\phantom{\\verb!x!}\\verb|графика|\\phantom{\\verb!x!}\\verb|функции|\\phantom{\\verb!x!}\\verb|с|\\phantom{\\verb!x!}\\verb|осью|\\phantom{\\verb!x!}\\verb|ОХ|\\phantom{\\verb!x!}\\verb|из|\\phantom{\\verb!x!}\\verb|промежутка|\\phantom{\\verb!x!}\\verb|(1;5)|\n",
       "\\end{math}"
      ],
      "text/plain": [
       "'Корней бесконечно много, поэтому укажем пересечения графика функции с осью ОХ из промежутка (1;5)'"
      ]
     },
     "metadata": {},
     "output_type": "display_data"
    }
   ],
   "source": [
    "show(\"Корней бесконечно много, поэтому укажем пересечения графика функции с осью ОХ из промежутка (1;5)\")"
   ]
  },
  {
   "cell_type": "markdown",
   "metadata": {},
   "source": [
    "show(round(find_root(y, 1, 1.5), 2))\n",
    "show(round(find_root(y, 1.5, 2), 2))\n",
    "show(round(find_root(y, 4, 5), 2))"
   ]
  },
  {
   "cell_type": "markdown",
   "metadata": {},
   "source": [
    "$$4. Промежутки\\,знакопостоянства:$$"
   ]
  },
  {
   "cell_type": "code",
   "execution_count": 8,
   "metadata": {},
   "outputs": [
    {
     "data": {
      "text/html": [
       "<html><script type=\"math/tex; mode=display\">\\newcommand{\\Bold}[1]{\\mathbf{#1}}\\verb|Промежутки|\\phantom{\\verb!x!}\\verb|знакопостоянства|\\phantom{\\verb!x!}\\verb|определяются|\\phantom{\\verb!x!}\\verb|найденными|\\phantom{\\verb!x!}\\verb|корнями,|\\phantom{\\verb!x!}\\verb|на|\\phantom{\\verb!x!}\\verb|промежутке|\\phantom{\\verb!x!}\\verb|(0;7):|</script></html>"
      ],
      "text/latex": [
       "\\begin{math}\n",
       "\\newcommand{\\Bold}[1]{\\mathbf{#1}}\\verb|Промежутки|\\phantom{\\verb!x!}\\verb|знакопостоянства|\\phantom{\\verb!x!}\\verb|определяются|\\phantom{\\verb!x!}\\verb|найденными|\\phantom{\\verb!x!}\\verb|корнями,|\\phantom{\\verb!x!}\\verb|на|\\phantom{\\verb!x!}\\verb|промежутке|\\phantom{\\verb!x!}\\verb|(0;7):|\n",
       "\\end{math}"
      ],
      "text/plain": [
       "'Промежутки знакопостоянства определяются найденными корнями, на промежутке (0;7):'"
      ]
     },
     "metadata": {},
     "output_type": "display_data"
    },
    {
     "data": {
      "text/html": [
       "<html><script type=\"math/tex; mode=display\">\\newcommand{\\Bold}[1]{\\mathbf{#1}}\\verb|Промежутки,|\\phantom{\\verb!x!}\\verb|на|\\phantom{\\verb!x!}\\verb|которых|\\phantom{\\verb!x!}\\verb|функция|\\phantom{\\verb!x!}\\verb|принимает|\\phantom{\\verb!x!}\\verb|положительные|\\phantom{\\verb!x!}\\verb|значения:|</script></html>"
      ],
      "text/latex": [
       "\\begin{math}\n",
       "\\newcommand{\\Bold}[1]{\\mathbf{#1}}\\verb|Промежутки,|\\phantom{\\verb!x!}\\verb|на|\\phantom{\\verb!x!}\\verb|которых|\\phantom{\\verb!x!}\\verb|функция|\\phantom{\\verb!x!}\\verb|принимает|\\phantom{\\verb!x!}\\verb|положительные|\\phantom{\\verb!x!}\\verb|значения:|\n",
       "\\end{math}"
      ],
      "text/plain": [
       "'Промежутки, на которых функция принимает положительные значения:'"
      ]
     },
     "metadata": {},
     "output_type": "display_data"
    },
    {
     "data": {
      "text/html": [
       "<html><script type=\"math/tex; mode=display\">\\newcommand{\\Bold}[1]{\\mathbf{#1}}\\verb|(0| \\verb|;| 1.57 \\verb|)|</script></html>"
      ],
      "text/latex": [
       "\\begin{math}\n",
       "\\newcommand{\\Bold}[1]{\\mathbf{#1}}\\verb|(0| \\verb|;| 1.57 \\verb|)|\n",
       "\\end{math}"
      ],
      "text/plain": [
       "'(0' ';' 1.57 ')'"
      ]
     },
     "metadata": {},
     "output_type": "display_data"
    },
    {
     "data": {
      "text/html": [
       "<html><script type=\"math/tex; mode=display\">\\newcommand{\\Bold}[1]{\\mathbf{#1}}\\verb|(| 1.57 \\verb|;| 1.0 \\verb|)|</script></html>"
      ],
      "text/latex": [
       "\\begin{math}\n",
       "\\newcommand{\\Bold}[1]{\\mathbf{#1}}\\verb|(| 1.57 \\verb|;| 1.0 \\verb|)|\n",
       "\\end{math}"
      ],
      "text/plain": [
       "'(' 1.57 ';' 1.0 ')'"
      ]
     },
     "metadata": {},
     "output_type": "display_data"
    },
    {
     "data": {
      "text/html": [
       "<html><script type=\"math/tex; mode=display\">\\newcommand{\\Bold}[1]{\\mathbf{#1}}\\verb|(3,14| \\verb|;| 4.71 \\verb|)|</script></html>"
      ],
      "text/latex": [
       "\\begin{math}\n",
       "\\newcommand{\\Bold}[1]{\\mathbf{#1}}\\verb|(3,14| \\verb|;| 4.71 \\verb|)|\n",
       "\\end{math}"
      ],
      "text/plain": [
       "'(3,14' ';' 4.71 ')'"
      ]
     },
     "metadata": {},
     "output_type": "display_data"
    },
    {
     "data": {
      "text/html": [
       "<html><script type=\"math/tex; mode=display\">\\newcommand{\\Bold}[1]{\\mathbf{#1}}\\verb|Промежутки,|\\phantom{\\verb!x!}\\verb|на|\\phantom{\\verb!x!}\\verb|которых|\\phantom{\\verb!x!}\\verb|функция|\\phantom{\\verb!x!}\\verb|принимает|\\phantom{\\verb!x!}\\verb|отрицательные|\\phantom{\\verb!x!}\\verb|значения:|</script></html>"
      ],
      "text/latex": [
       "\\begin{math}\n",
       "\\newcommand{\\Bold}[1]{\\mathbf{#1}}\\verb|Промежутки,|\\phantom{\\verb!x!}\\verb|на|\\phantom{\\verb!x!}\\verb|которых|\\phantom{\\verb!x!}\\verb|функция|\\phantom{\\verb!x!}\\verb|принимает|\\phantom{\\verb!x!}\\verb|отрицательные|\\phantom{\\verb!x!}\\verb|значения:|\n",
       "\\end{math}"
      ],
      "text/plain": [
       "'Промежутки, на которых функция принимает отрицательные значения:'"
      ]
     },
     "metadata": {},
     "output_type": "display_data"
    },
    {
     "data": {
      "text/html": [
       "<html><script type=\"math/tex; mode=display\">\\newcommand{\\Bold}[1]{\\mathbf{#1}}\\verb|(| 1.57 \\verb|;| \\verb|3,14)|</script></html>"
      ],
      "text/latex": [
       "\\begin{math}\n",
       "\\newcommand{\\Bold}[1]{\\mathbf{#1}}\\verb|(| 1.57 \\verb|;| \\verb|3,14)|\n",
       "\\end{math}"
      ],
      "text/plain": [
       "'(' 1.57 ';' '3,14)'"
      ]
     },
     "metadata": {},
     "output_type": "display_data"
    },
    {
     "data": {
      "text/html": [
       "<html><script type=\"math/tex; mode=display\">\\newcommand{\\Bold}[1]{\\mathbf{#1}}\\verb|(| 4.71 \\verb|;| \\verb|6.2)|</script></html>"
      ],
      "text/latex": [
       "\\begin{math}\n",
       "\\newcommand{\\Bold}[1]{\\mathbf{#1}}\\verb|(| 4.71 \\verb|;| \\verb|6.2)|\n",
       "\\end{math}"
      ],
      "text/plain": [
       "'(' 4.71 ';' '6.2)'"
      ]
     },
     "metadata": {},
     "output_type": "display_data"
    }
   ],
   "source": [
    "show(\"Промежутки знакопостоянства определяются найденными корнями, на промежутке (0;7):\")\n",
    "show(\"Промежутки, на которых функция принимает положительные значения:\")\n",
    "show(\"(0\", \";\",  round(find_root(y,1.5,2), 2), \")\")\n",
    "show(\"(\", round(find_root(y, 1.5, 2),2), \";\",  round(find_root(y, 0, 1.5), 2), \")\")\n",
    "show(\"(3,14\",  \";\",  round(find_root(y, 3, 5),2), \")\")\n",
    "\n",
    "\n",
    "show(\"Промежутки, на которых функция принимает отрицательные значения:\")\n",
    "show(\"(\", round(find_root(y, 1.5,2), 2), \";\",  \"3,14)\") \n",
    "show(\"(\", round(find_root(y, 3, 5),2),  \";\",  \"6.2)\")\n",
    "\n"
   ]
  },
  {
   "cell_type": "code",
   "execution_count": 9,
   "metadata": {},
   "outputs": [
    {
     "ename": "SyntaxError",
     "evalue": "keyword can't be an expression (<ipython-input-9-40e0f08c2e8d>, line 4)",
     "output_type": "error",
     "traceback": [
      "\u001b[0;36m  File \u001b[0;32m\"<ipython-input-9-40e0f08c2e8d>\"\u001b[0;36m, line \u001b[0;32m4\u001b[0m\n\u001b[0;31m    show(solve(diff(y, x).simplify_full() = Integer(0), x))\u001b[0m\n\u001b[0m              ^\u001b[0m\n\u001b[0;31mSyntaxError\u001b[0m\u001b[0;31m:\u001b[0m keyword can't be an expression\n"
     ]
    }
   ],
   "source": [
    "show(\"Промежутки возрастания и убывания определяются с помощью производной функции\")\n",
    "diff(y, x).simplify_full()\n",
    "show(diff(y, x).simplify_full())\n",
    "show(solve(diff(y, x).simplify_full() = 0, x))"
   ]
  },
  {
   "cell_type": "code",
   "execution_count": 10,
   "metadata": {},
   "outputs": [
    {
     "data": {
      "text/html": [
       "<html><script type=\"math/tex; mode=display\">\\newcommand{\\Bold}[1]{\\mathbf{#1}}\\verb|D|\\phantom{\\verb!x!}\\verb|этом|\\phantom{\\verb!x!}\\verb|промежутке|\\phantom{\\verb!x!}\\verb|находится|\\phantom{\\verb!x!}\\verb|экстремум|\\phantom{\\verb!x!}\\verb|функции:|</script></html>"
      ],
      "text/latex": [
       "\\begin{math}\n",
       "\\newcommand{\\Bold}[1]{\\mathbf{#1}}\\verb|D|\\phantom{\\verb!x!}\\verb|этом|\\phantom{\\verb!x!}\\verb|промежутке|\\phantom{\\verb!x!}\\verb|находится|\\phantom{\\verb!x!}\\verb|экстремум|\\phantom{\\verb!x!}\\verb|функции:|\n",
       "\\end{math}"
      ],
      "text/plain": [
       "'D этом промежутке находится экстремум функции:'"
      ]
     },
     "metadata": {},
     "output_type": "display_data"
    },
    {
     "ename": "TypeError",
     "evalue": "'sage.symbolic.expression.Expression' object is not subscriptable",
     "output_type": "error",
     "traceback": [
      "\u001b[0;31m---------------------------------------------------------------------------\u001b[0m",
      "\u001b[0;31mTypeError\u001b[0m                                 Traceback (most recent call last)",
      "\u001b[0;32m<ipython-input-10-0e9a8e0e89b6>\u001b[0m in \u001b[0;36m<module>\u001b[0;34m\u001b[0m\n\u001b[1;32m      1\u001b[0m \u001b[0mder\u001b[0m \u001b[0;34m=\u001b[0m \u001b[0my\u001b[0m\u001b[0;34m.\u001b[0m\u001b[0mderivative\u001b[0m\u001b[0;34m(\u001b[0m\u001b[0;34m)\u001b[0m\u001b[0;34m\u001b[0m\u001b[0;34m\u001b[0m\u001b[0m\n\u001b[1;32m      2\u001b[0m \u001b[0mshow\u001b[0m\u001b[0;34m(\u001b[0m\u001b[0;34m\"D этом промежутке находится экстремум функции:\"\u001b[0m\u001b[0;34m)\u001b[0m\u001b[0;34m\u001b[0m\u001b[0;34m\u001b[0m\u001b[0m\n\u001b[0;32m----> 3\u001b[0;31m \u001b[0msolve\u001b[0m\u001b[0;34m(\u001b[0m\u001b[0mder\u001b[0m\u001b[0;34m,\u001b[0m\u001b[0mx\u001b[0m\u001b[0;34m,\u001b[0m\u001b[0mto_poly_solve\u001b[0m\u001b[0;34m=\u001b[0m\u001b[0;32mTrue\u001b[0m\u001b[0;34m)\u001b[0m\u001b[0;34m\u001b[0m\u001b[0;34m\u001b[0m\u001b[0m\n\u001b[0m",
      "\u001b[0;32m/opt/sagemath-9.2/local/lib/python3.7/site-packages/sage/symbolic/relation.py\u001b[0m in \u001b[0;36msolve\u001b[0;34m(f, *args, **kwds)\u001b[0m\n\u001b[1;32m   1042\u001b[0m \u001b[0;34m\u001b[0m\u001b[0m\n\u001b[1;32m   1043\u001b[0m     \u001b[0;32mif\u001b[0m \u001b[0mis_Expression\u001b[0m\u001b[0;34m(\u001b[0m\u001b[0mf\u001b[0m\u001b[0;34m)\u001b[0m\u001b[0;34m:\u001b[0m \u001b[0;31m# f is a single expression\u001b[0m\u001b[0;34m\u001b[0m\u001b[0;34m\u001b[0m\u001b[0m\n\u001b[0;32m-> 1044\u001b[0;31m         \u001b[0;32mreturn\u001b[0m \u001b[0m_solve_expression\u001b[0m\u001b[0;34m(\u001b[0m\u001b[0mf\u001b[0m\u001b[0;34m,\u001b[0m \u001b[0mx\u001b[0m\u001b[0;34m,\u001b[0m \u001b[0mexplicit_solutions\u001b[0m\u001b[0;34m,\u001b[0m \u001b[0mmultiplicities\u001b[0m\u001b[0;34m,\u001b[0m \u001b[0mto_poly_solve\u001b[0m\u001b[0;34m,\u001b[0m \u001b[0msolution_dict\u001b[0m\u001b[0;34m,\u001b[0m \u001b[0malgorithm\u001b[0m\u001b[0;34m,\u001b[0m \u001b[0mdomain\u001b[0m\u001b[0;34m)\u001b[0m\u001b[0;34m\u001b[0m\u001b[0;34m\u001b[0m\u001b[0m\n\u001b[0m\u001b[1;32m   1045\u001b[0m \u001b[0;34m\u001b[0m\u001b[0m\n\u001b[1;32m   1046\u001b[0m     \u001b[0;32mif\u001b[0m \u001b[0;32mnot\u001b[0m \u001b[0misinstance\u001b[0m\u001b[0;34m(\u001b[0m\u001b[0mf\u001b[0m\u001b[0;34m,\u001b[0m \u001b[0;34m(\u001b[0m\u001b[0mlist\u001b[0m\u001b[0;34m,\u001b[0m \u001b[0mtuple\u001b[0m\u001b[0;34m)\u001b[0m\u001b[0;34m)\u001b[0m\u001b[0;34m:\u001b[0m\u001b[0;34m\u001b[0m\u001b[0;34m\u001b[0m\u001b[0m\n",
      "\u001b[0;32m/opt/sagemath-9.2/local/lib/python3.7/site-packages/sage/symbolic/relation.py\u001b[0m in \u001b[0;36m_solve_expression\u001b[0;34m(f, x, explicit_solutions, multiplicities, to_poly_solve, solution_dict, algorithm, domain)\u001b[0m\n\u001b[1;32m   1341\u001b[0m                 \u001b[0ms\u001b[0m \u001b[0;34m=\u001b[0m \u001b[0mm\u001b[0m\u001b[0;34m.\u001b[0m\u001b[0mto_poly_solve\u001b[0m\u001b[0;34m(\u001b[0m\u001b[0mx\u001b[0m\u001b[0;34m,\u001b[0m \u001b[0moptions\u001b[0m\u001b[0;34m=\u001b[0m\u001b[0;34m'algexact:true'\u001b[0m\u001b[0;34m)\u001b[0m\u001b[0;34m\u001b[0m\u001b[0;34m\u001b[0m\u001b[0m\n\u001b[1;32m   1342\u001b[0m                 \u001b[0mT\u001b[0m \u001b[0;34m=\u001b[0m \u001b[0mstring_to_list_of_solutions\u001b[0m\u001b[0;34m(\u001b[0m\u001b[0mrepr\u001b[0m\u001b[0;34m(\u001b[0m\u001b[0ms\u001b[0m\u001b[0;34m)\u001b[0m\u001b[0;34m)\u001b[0m\u001b[0;34m\u001b[0m\u001b[0;34m\u001b[0m\u001b[0m\n\u001b[0;32m-> 1343\u001b[0;31m                 \u001b[0mX\u001b[0m\u001b[0;34m.\u001b[0m\u001b[0mextend\u001b[0m\u001b[0;34m(\u001b[0m\u001b[0;34m[\u001b[0m\u001b[0mt\u001b[0m\u001b[0;34m[\u001b[0m\u001b[0;36m0\u001b[0m\u001b[0;34m]\u001b[0m \u001b[0;32mfor\u001b[0m \u001b[0mt\u001b[0m \u001b[0;32min\u001b[0m \u001b[0mT\u001b[0m\u001b[0;34m]\u001b[0m\u001b[0;34m)\u001b[0m\u001b[0;34m\u001b[0m\u001b[0;34m\u001b[0m\u001b[0m\n\u001b[0m\u001b[1;32m   1344\u001b[0m             \u001b[0;32mexcept\u001b[0m \u001b[0mTypeError\u001b[0m \u001b[0;32mas\u001b[0m \u001b[0mmess\u001b[0m\u001b[0;34m:\u001b[0m\u001b[0;34m\u001b[0m\u001b[0;34m\u001b[0m\u001b[0m\n\u001b[1;32m   1345\u001b[0m                 \u001b[0;32mif\u001b[0m \u001b[0mignore_exceptions\u001b[0m\u001b[0;34m:\u001b[0m\u001b[0;34m\u001b[0m\u001b[0;34m\u001b[0m\u001b[0m\n",
      "\u001b[0;32m/opt/sagemath-9.2/local/lib/python3.7/site-packages/sage/symbolic/relation.py\u001b[0m in \u001b[0;36m<listcomp>\u001b[0;34m(.0)\u001b[0m\n\u001b[1;32m   1341\u001b[0m                 \u001b[0ms\u001b[0m \u001b[0;34m=\u001b[0m \u001b[0mm\u001b[0m\u001b[0;34m.\u001b[0m\u001b[0mto_poly_solve\u001b[0m\u001b[0;34m(\u001b[0m\u001b[0mx\u001b[0m\u001b[0;34m,\u001b[0m \u001b[0moptions\u001b[0m\u001b[0;34m=\u001b[0m\u001b[0;34m'algexact:true'\u001b[0m\u001b[0;34m)\u001b[0m\u001b[0;34m\u001b[0m\u001b[0;34m\u001b[0m\u001b[0m\n\u001b[1;32m   1342\u001b[0m                 \u001b[0mT\u001b[0m \u001b[0;34m=\u001b[0m \u001b[0mstring_to_list_of_solutions\u001b[0m\u001b[0;34m(\u001b[0m\u001b[0mrepr\u001b[0m\u001b[0;34m(\u001b[0m\u001b[0ms\u001b[0m\u001b[0;34m)\u001b[0m\u001b[0;34m)\u001b[0m\u001b[0;34m\u001b[0m\u001b[0;34m\u001b[0m\u001b[0m\n\u001b[0;32m-> 1343\u001b[0;31m                 \u001b[0mX\u001b[0m\u001b[0;34m.\u001b[0m\u001b[0mextend\u001b[0m\u001b[0;34m(\u001b[0m\u001b[0;34m[\u001b[0m\u001b[0mt\u001b[0m\u001b[0;34m[\u001b[0m\u001b[0;36m0\u001b[0m\u001b[0;34m]\u001b[0m \u001b[0;32mfor\u001b[0m \u001b[0mt\u001b[0m \u001b[0;32min\u001b[0m \u001b[0mT\u001b[0m\u001b[0;34m]\u001b[0m\u001b[0;34m)\u001b[0m\u001b[0;34m\u001b[0m\u001b[0;34m\u001b[0m\u001b[0m\n\u001b[0m\u001b[1;32m   1344\u001b[0m             \u001b[0;32mexcept\u001b[0m \u001b[0mTypeError\u001b[0m \u001b[0;32mas\u001b[0m \u001b[0mmess\u001b[0m\u001b[0;34m:\u001b[0m\u001b[0;34m\u001b[0m\u001b[0;34m\u001b[0m\u001b[0m\n\u001b[1;32m   1345\u001b[0m                 \u001b[0;32mif\u001b[0m \u001b[0mignore_exceptions\u001b[0m\u001b[0;34m:\u001b[0m\u001b[0;34m\u001b[0m\u001b[0;34m\u001b[0m\u001b[0m\n",
      "\u001b[0;31mTypeError\u001b[0m: 'sage.symbolic.expression.Expression' object is not subscriptable"
     ]
    }
   ],
   "source": [
    "der = y.derivative()\n",
    "show(\"D этом промежутке находится экстремум функции:\")\n",
    "solve(der,x,to_poly_solve=True)"
   ]
  },
  {
   "cell_type": "markdown",
   "metadata": {},
   "source": [
    "<h3>5. Промежутки возрастания и убывания:</h3>\n"
   ]
  },
  {
   "cell_type": "markdown",
   "metadata": {},
   "source": [
    "Функция убывает на всем промежутке D."
   ]
  },
  {
   "cell_type": "markdown",
   "metadata": {},
   "source": [
    "<h3>6. Точки экстремума и значения в этих точках:</h3>"
   ]
  },
  {
   "cell_type": "code",
   "execution_count": 11,
   "metadata": {},
   "outputs": [
    {
     "data": {
      "text/html": [
       "<html><script type=\"math/tex; mode=display\">\\newcommand{\\Bold}[1]{\\mathbf{#1}}\\verb|Функция|\\phantom{\\verb!x!}\\verb|меняет|\\phantom{\\verb!x!}\\verb|свой|\\phantom{\\verb!x!}\\verb|знак|\\phantom{\\verb!x!}\\verb|в|\\phantom{\\verb!x!}\\verb|точках|\\phantom{\\verb!x!}\\verb|экстремума:|</script></html>"
      ],
      "text/latex": [
       "\\begin{math}\n",
       "\\newcommand{\\Bold}[1]{\\mathbf{#1}}\\verb|Функция|\\phantom{\\verb!x!}\\verb|меняет|\\phantom{\\verb!x!}\\verb|свой|\\phantom{\\verb!x!}\\verb|знак|\\phantom{\\verb!x!}\\verb|в|\\phantom{\\verb!x!}\\verb|точках|\\phantom{\\verb!x!}\\verb|экстремума:|\n",
       "\\end{math}"
      ],
      "text/plain": [
       "'Функция меняет свой знак в точках экстремума:'"
      ]
     },
     "metadata": {},
     "output_type": "display_data"
    },
    {
     "data": {
      "text/html": [
       "<html><script type=\"math/tex; mode=display\">\\newcommand{\\Bold}[1]{\\mathbf{#1}}\\verb|x=| 1.22</script></html>"
      ],
      "text/latex": [
       "\\begin{math}\n",
       "\\newcommand{\\Bold}[1]{\\mathbf{#1}}\\verb|x=| 1.22\n",
       "\\end{math}"
      ],
      "text/plain": [
       "'x= ' 1.22"
      ]
     },
     "metadata": {},
     "output_type": "display_data"
    },
    {
     "data": {
      "text/html": [
       "<html><script type=\"math/tex; mode=display\">\\newcommand{\\Bold}[1]{\\mathbf{#1}}\\verb|x=| 1.0</script></html>"
      ],
      "text/latex": [
       "\\begin{math}\n",
       "\\newcommand{\\Bold}[1]{\\mathbf{#1}}\\verb|x=| 1.0\n",
       "\\end{math}"
      ],
      "text/plain": [
       "'x= ' 1.0"
      ]
     },
     "metadata": {},
     "output_type": "display_data"
    }
   ],
   "source": [
    "show(\"Функция меняет свой знак в точках экстремума:\")\n",
    "show(\"x= \",round(find_root(diff(y, x).simplify_full(), 1, 2), 2))\n",
    "show(\"x= \",round(find_root(diff(y, x).simplify_full(), 0, 1.2), 2))"
   ]
  },
  {
   "cell_type": "markdown",
   "metadata": {},
   "source": [
    "Судя из производной, точки 0 и \\pi *N при N = {0,1,2,3...} являются точками разрыва второго рода и асимптотами"
   ]
  },
  {
   "cell_type": "markdown",
   "metadata": {},
   "source": [
    "<h2>Асимптоты.</h2>\n"
   ]
  },
  {
   "cell_type": "code",
   "execution_count": 12,
   "metadata": {},
   "outputs": [
    {
     "name": "stdout",
     "output_type": "stream",
     "text": [
      "verbose 0 (3835: plot.py, generate_plot_points) WARNING: When plotting, failed to evaluate function at 90 points.\n",
      "verbose 0 (3835: plot.py, generate_plot_points) Last error message: 'can't convert complex to float'\n"
     ]
    },
    {
     "data": {
      "image/png": "[encoded data removed]",
      "text/plain": [
       "Graphics object consisting of 2 graphics primitives"
      ]
     },
     "metadata": {},
     "output_type": "display_data"
    }
   ],
   "source": [
    "plot_asympt1 = line([(0,x) for x in srange(-5,8,0.1)], color='red',linestyle=\"--\", thickness=1.5)\n",
    "plot_asympt = line([(,x) for x in srange(-5,8,0.1)], color='red',linestyle=\"--\", thickness=1.5)\n",
    "\n",
    "show(plot(y, (x, -10, 10), ymin=-5, ymax=8,aspect_ratio=1, legend_label='f(x)') + plot_asympt)"
   ]
  },
  {
   "cell_type": "code",
   "execution_count": null,
   "metadata": {},
   "outputs": [],
   "source": []
  }
 ],
 "metadata": {
  "kernelspec": {
   "display_name": "SageMath 9.2",
   "language": "sage",
   "name": "sagemath"
  },
  "language_info": {
   "codemirror_mode": {
    "name": "ipython",
    "version": 3
   },
   "file_extension": ".py",
   "mimetype": "text/x-python",
   "name": "python",
   "nbconvert_exporter": "python",
   "pygments_lexer": "ipython3",
   "version": "3.7.7"
  }
 },
 "nbformat": 4,
 "nbformat_minor": 2
}
