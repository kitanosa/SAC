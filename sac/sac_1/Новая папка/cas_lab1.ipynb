{
 "cells": [
  {
   "cell_type": "code",
   "execution_count": 1,
   "metadata": {},
   "outputs": [
    {
     "data": {
      "text/html": [
       "<h1 style='color: black'>Часть 1. Перенос фигуры в пространстве. Матрица поворота</h1>"
      ],
      "text/plain": [
       "<h1 style='color: black'>Часть 1. Перенос фигуры в пространстве. Матрица поворота</h1>"
      ]
     },
     "execution_count": 1,
     "metadata": {},
     "output_type": "execute_result"
    }
   ],
   "source": [
    "html(\"<h1 style='color: black'>Часть 1. Перенос фигуры в пространстве. Матрица поворота</h1>\")"
   ]
  },
  {
   "cell_type": "code",
   "execution_count": 3,
   "metadata": {},
   "outputs": [],
   "source": [
    "import math"
   ]
  },
  {
   "cell_type": "code",
   "execution_count": 4,
   "metadata": {},
   "outputs": [
    {
     "data": {
      "image/png": "[encoded data removed]",
      "text/plain": [
       "Graphics object consisting of 2 graphics primitives"
      ]
     },
     "metadata": {},
     "output_type": "display_data"
    }
   ],
   "source": [
    "a = 10 # длина стороны квадрата\n",
    "m = 20 # значение параллельного переноса\n",
    "rec_src = matrix([[0, 0], [0, a], [a, a], [a, 0], [0, 0]])\n",
    "alpha = math.radians(30) # угол поворота в радианах\n",
    "mat_rot = matrix([\n",
    "    [cos(alpha), -sin(alpha)]\n",
    "    , [sin(alpha), cos(alpha)]\n",
    "]) # матрица поворота (по часовой стрелке)\n",
    "mat_move = m * matrix([[1, 1], [1, 1], [1, 1], [1, 1], [1, 1]]) # матрица перемещения\n",
    "rec_rot = (rec_src * mat_rot) + mat_move # повернутый и перенесенный квадрат\n",
    "show(polygon(rec_src, color='green') + polygon(rec_rot, color='orange'), \n",
    "     xmin=0, xmax=40, ymin=0, ymax=40, aspect_ratio = 1, axes=False)"
   ]
  },
  {
   "cell_type": "code",
   "execution_count": 5,
   "metadata": {},
   "outputs": [
    {
     "data": {
      "text/html": [
       "<h1 style='color: black'>Часть 2. Исследование функции</h1>"
      ],
      "text/plain": [
       "<h1 style='color: black'>Часть 2. Исследование функции</h1>"
      ]
     },
     "execution_count": 5,
     "metadata": {},
     "output_type": "execute_result"
    }
   ],
   "source": [
    "html(\"<h1 style='color: black'>Часть 2. Исследование функции</h1>\")"
   ]
  },
  {
   "cell_type": "markdown",
   "metadata": {},
   "source": [
    "<h2>Вариант:</h2>\n",
    "<br />\n",
    "Номер по списку: 20<br>\n",
    "Номер задания: 5<br>"
   ]
  },
  {
   "cell_type": "code",
   "execution_count": 6,
   "metadata": {},
   "outputs": [
    {
     "data": {
      "text/html": [
       "<html><script type=\"math/tex; mode=display\">\\newcommand{\\Bold}[1]{\\mathbf{#1}}\\verb|Функция:\t| 2 \\, \\log\\left(\\frac{x - 1}{x}\\right) + 1</script></html>"
      ],
      "text/latex": [
       "\\begin{math}\n",
       "\\newcommand{\\Bold}[1]{\\mathbf{#1}}\\verb|Функция:\t| 2 \\, \\log\\left(\\frac{x - 1}{x}\\right) + 1\n",
       "\\end{math}"
      ],
      "text/plain": [
       "'Функция:\\t' 2*log((x - 1)/x) + 1"
      ]
     },
     "metadata": {},
     "output_type": "display_data"
    }
   ],
   "source": [
    "show(\"Функция:\t\", 2*log((x - 1) / x) + 1)"
   ]
  },
  {
   "cell_type": "markdown",
   "metadata": {},
   "source": [
    "<h2>Задание:</h2>\n",
    "<br />\n",
    "Для заданной функции найти:\n",
    "<ol>\n",
    "    <li>Область определения функции.</li>\n",
    "    <li>Является ли функция четной или нечетной, является ли периодической.</li>\n",
    "    <li>Точки пересечения графика с осями координат.</li>\n",
    "    <li>Промежутки знакопостоянства.</li>\n",
    "    <li>Промежутки возрастания и убывания.</li>\n",
    "    <li>Точки экстремума и значения в этих точках.</li>\n",
    "    <li>Непрерывность. Наличие точек разрыва и их классификация.</li>\n",
    "    <li>Асимптоты.</li>\n",
    "</ol>"
   ]
  },
  {
   "cell_type": "code",
   "execution_count": 7,
   "metadata": {},
   "outputs": [],
   "source": [
    "x = var('x')\n",
    "f(x)= 2*log((x - 1) / x) + 1"
   ]
  },
  {
   "cell_type": "markdown",
   "metadata": {},
   "source": [
    "<h2>График функции</h2>"
   ]
  },
  {
   "cell_type": "code",
   "execution_count": 8,
   "metadata": {},
   "outputs": [
    {
     "data": {
      "image/png": "[encoded data removed]",
      "text/plain": [
       "Graphics object consisting of 2 graphics primitives"
      ]
     },
     "execution_count": 8,
     "metadata": {},
     "output_type": "execute_result"
    }
   ],
   "source": [
    "plot(f, (x, -10, 10), ymin=-5, ymax=8,aspect_ratio=1)"
   ]
  },
  {
   "cell_type": "markdown",
   "metadata": {},
   "source": [
    "<h2>Область определения</h2>\n",
    "<br />\n",
    "D(f): x ∈ (-$\\infty$; 0) ⋃ (1; +$\\infty$)<br>"
   ]
  },
  {
   "cell_type": "markdown",
   "metadata": {},
   "source": [
    "<h2>Четность функции</h2>\n",
    "<br />\n",
    "По графику функции f(x) мы видим, что она не является симметричной ни относительно оси ординат (т.е. четной), ни относительно центра координат (т.е. нечетной).<br>\n",
    "Следовательно, функция не является ни чётной, ни нечётной.<br> \n",
    "Проверим это и в алгебраической форме:<br>"
   ]
  },
  {
   "cell_type": "code",
   "execution_count": 9,
   "metadata": {},
   "outputs": [
    {
     "data": {
      "text/plain": [
       "-2*log(1/x + 1) + 2*log(-1/x + 1)"
      ]
     },
     "execution_count": 9,
     "metadata": {},
     "output_type": "execute_result"
    }
   ],
   "source": [
    "(f(x) - f(-x)).expand().simplify()"
   ]
  },
  {
   "cell_type": "code",
   "execution_count": 9,
   "metadata": {},
   "outputs": [
    {
     "data": {
      "text/plain": [
       "4*log(-1/x + 1) + 2"
      ]
     },
     "execution_count": 9,
     "metadata": {},
     "output_type": "execute_result"
    }
   ],
   "source": [
    "(f(x)-(-f(x))).expand().simplify()"
   ]
  },
  {
   "cell_type": "markdown",
   "metadata": {},
   "source": [
    "<h2>Периодичность</h2>\n",
    "<br />\n",
    "Проверим функцию на периодичность, решив два уравнения, вытекающих из определения:"
   ]
  },
  {
   "cell_type": "code",
   "execution_count": 10,
   "metadata": {},
   "outputs": [
    {
     "data": {
      "text/plain": [
       "[]"
      ]
     },
     "execution_count": 10,
     "metadata": {},
     "output_type": "execute_result"
    }
   ],
   "source": [
    "T = var('T')\n",
    "eq1 = f(x) - f(x + T)\n",
    "solve(eq1, T != 0)"
   ]
  },
  {
   "cell_type": "code",
   "execution_count": 11,
   "metadata": {},
   "outputs": [
    {
     "data": {
      "text/plain": [
       "[]"
      ]
     },
     "execution_count": 11,
     "metadata": {},
     "output_type": "execute_result"
    }
   ],
   "source": [
    "eq2 = f(x) - f(x - T)\n",
    "solve(eq2, T != 0)"
   ]
  },
  {
   "cell_type": "markdown",
   "metadata": {},
   "source": [
    "Как мы видим, данные уравнения не имеют решения, а значит данная функция не является периодической. "
   ]
  },
  {
   "cell_type": "markdown",
   "metadata": {},
   "source": [
    "<h2>Точки пересечения с осями координат</h2>"
   ]
  },
  {
   "cell_type": "code",
   "execution_count": 12,
   "metadata": {},
   "outputs": [
    {
     "data": {
      "text/plain": [
       "[x == e^(1/2)/(e^(1/2) - 1)]"
      ]
     },
     "execution_count": 12,
     "metadata": {},
     "output_type": "execute_result"
    }
   ],
   "source": [
    "solve(f, x) #Решим уравнение f(x) = 0"
   ]
  },
  {
   "cell_type": "code",
   "execution_count": 13,
   "metadata": {},
   "outputs": [
    {
     "data": {
      "text/plain": [
       "2*log((e^(1/2)/(e^(1/2) - 1) - 1)*(e^(1/2) - 1)*e^(-1/2)) + 1"
      ]
     },
     "execution_count": 13,
     "metadata": {},
     "output_type": "execute_result"
    }
   ],
   "source": [
    "f(e^(1/2)/(e^(1/2) - 1))"
   ]
  },
  {
   "cell_type": "markdown",
   "metadata": {},
   "source": [
    "Так как данное выражение после упращения становиться равным нулю, получаем, что график пересекает ось абсцисс в точке $(\\frac{\\sqrt{e}}{(\\sqrt{e} - 1)}; 0)$.<br> \n",
    "Пересечения с осью ординат отсутствуют из-за области определения функции."
   ]
  },
  {
   "cell_type": "markdown",
   "metadata": {},
   "source": [
    "<h2>Промежутки знакопостоянства</h2>"
   ]
  },
  {
   "cell_type": "markdown",
   "metadata": {},
   "source": [
    "Из графика функции видно, что функция полжительна на интервале x ∈ (-$\\infty$; 0) ⋃ ($\\frac{\\sqrt{e}}{(\\sqrt{e} - 1)}$; +$\\infty$)<br> \n",
    "и отрицательна на интервале  x ∈ (1; $\\frac{\\sqrt{e}}{(\\sqrt{e} - 1)}$)\n"
   ]
  },
  {
   "cell_type": "markdown",
   "metadata": {},
   "source": [
    "<h2>Промежутки возрастания и убывания. Точки экстремума и значения в этих точках</h2>\n",
    "<br />\n",
    "Найдём точки, производная в которых равна нулю."
   ]
  },
  {
   "cell_type": "code",
   "execution_count": 14,
   "metadata": {},
   "outputs": [
    {
     "data": {
      "text/html": [
       "<html><script type=\"math/tex; mode=display\">\\newcommand{\\Bold}[1]{\\mathbf{#1}}x \\ {\\mapsto}\\ -\\frac{2 \\, x {\\left(\\frac{x - 1}{x^{2}} - \\frac{1}{x}\\right)}}{x - 1}</script></html>"
      ],
      "text/latex": [
       "\\begin{math}\n",
       "\\newcommand{\\Bold}[1]{\\mathbf{#1}}x \\ {\\mapsto}\\ -\\frac{2 \\, x {\\left(\\frac{x - 1}{x^{2}} - \\frac{1}{x}\\right)}}{x - 1}\n",
       "\\end{math}"
      ],
      "text/plain": [
       "x |--> -2*x*((x - 1)/x^2 - 1/x)/(x - 1)"
      ]
     },
     "metadata": {},
     "output_type": "display_data"
    }
   ],
   "source": [
    "df = f.derivative()\n",
    "show(df)"
   ]
  },
  {
   "cell_type": "code",
   "execution_count": 15,
   "metadata": {},
   "outputs": [
    {
     "data": {
      "text/plain": [
       "[]"
      ]
     },
     "execution_count": 15,
     "metadata": {},
     "output_type": "execute_result"
    }
   ],
   "source": [
    "solve(df, x)"
   ]
  },
  {
   "cell_type": "markdown",
   "metadata": {},
   "source": [
    "Такие точки отсутствуют, а значит отсутствуют и критические точки (соответственно и точки экстремума).<br>\n",
    "Кроме того, можно заметить, что производная всегда положительна на всей области определения, а значит данная функция возрастает на всей области определения.<br>\n",
    "Это видно и по графику."
   ]
  },
  {
   "cell_type": "markdown",
   "metadata": {},
   "source": [
    "<h2>Непрерывность. Наличие точек разрыва и их классификация.</h2>\n",
    "<br />\n",
    "Нас будут интересовать точки x = 0 и x = 1<br>\n",
    "1) Для точки x = 0 найдем левосторонний и правосторонний пределы."
   ]
  },
  {
   "cell_type": "code",
   "execution_count": 16,
   "metadata": {},
   "outputs": [
    {
     "data": {
      "text/plain": [
       "x |--> 74.68272297580945 + 6.283185307179586*I"
      ]
     },
     "execution_count": 16,
     "metadata": {},
     "output_type": "execute_result"
    }
   ],
   "source": [
    "limit(f, x=0+0.0000000000000001)"
   ]
  },
  {
   "cell_type": "code",
   "execution_count": 17,
   "metadata": {},
   "outputs": [
    {
     "data": {
      "text/plain": [
       "x |--> 74.68272297580947"
      ]
     },
     "execution_count": 17,
     "metadata": {},
     "output_type": "execute_result"
    }
   ],
   "source": [
    "limit(f, x=0-0.0000000000000001)"
   ]
  },
  {
   "cell_type": "markdown",
   "metadata": {},
   "source": [
    "Левосторонний предел существует (бесконечный), а правосторонний не существует, значит это разрыв 2-го рода<br>"
   ]
  },
  {
   "cell_type": "markdown",
   "metadata": {},
   "source": [
    "2) Для точки x = 1 также найдем левосторонний и правосторонний пределы.<br>"
   ]
  },
  {
   "cell_type": "code",
   "execution_count": 18,
   "metadata": {},
   "outputs": [
    {
     "data": {
      "text/plain": [
       "x |--> Infinity"
      ]
     },
     "execution_count": 18,
     "metadata": {},
     "output_type": "execute_result"
    }
   ],
   "source": [
    "limit(f, x=1+0.0000000000000001)"
   ]
  },
  {
   "cell_type": "code",
   "execution_count": 19,
   "metadata": {},
   "outputs": [
    {
     "data": {
      "text/plain": [
       "x |--> -72.4736011393542 + 6.283185307179586*I"
      ]
     },
     "execution_count": 19,
     "metadata": {},
     "output_type": "execute_result"
    }
   ],
   "source": [
    "limit(f, x=1-0.0000000000000001)"
   ]
  },
  {
   "cell_type": "markdown",
   "metadata": {},
   "source": [
    "Левосторонний предел не существует, а правосторонний существует (бесконечный), значит это также разрыв 2-го рода<br>"
   ]
  },
  {
   "cell_type": "markdown",
   "metadata": {},
   "source": [
    "<h2>Асимптоты.</h2>\n",
    "<br />\n",
    "1) Проверим наличие горизонтальной асимптоты:"
   ]
  },
  {
   "cell_type": "code",
   "execution_count": 20,
   "metadata": {},
   "outputs": [
    {
     "data": {
      "text/plain": [
       "x |--> 1"
      ]
     },
     "execution_count": 20,
     "metadata": {},
     "output_type": "execute_result"
    }
   ],
   "source": [
    "limit(f, x=+infinity)"
   ]
  },
  {
   "cell_type": "code",
   "execution_count": 21,
   "metadata": {},
   "outputs": [
    {
     "data": {
      "text/plain": [
       "x |--> 1"
      ]
     },
     "execution_count": 21,
     "metadata": {},
     "output_type": "execute_result"
    }
   ],
   "source": [
    "limit(f, x=-infinity)"
   ]
  },
  {
   "cell_type": "markdown",
   "metadata": {},
   "source": [
    "Так как оба эти предела существуют, то прямая y = 1 является горизонтальной асимптотой<br>"
   ]
  },
  {
   "cell_type": "markdown",
   "metadata": {},
   "source": [
    "2) Проверим наличие вертикальных асимптот:<br>"
   ]
  },
  {
   "cell_type": "code",
   "execution_count": 22,
   "metadata": {},
   "outputs": [
    {
     "data": {
      "text/plain": [
       "x |--> Infinity"
      ]
     },
     "execution_count": 22,
     "metadata": {},
     "output_type": "execute_result"
    }
   ],
   "source": [
    "limit(f, x=1)"
   ]
  },
  {
   "cell_type": "code",
   "execution_count": 23,
   "metadata": {},
   "outputs": [
    {
     "data": {
      "text/plain": [
       "x |--> +Infinity"
      ]
     },
     "execution_count": 23,
     "metadata": {},
     "output_type": "execute_result"
    }
   ],
   "source": [
    "limit(f, x=0)"
   ]
  },
  {
   "cell_type": "markdown",
   "metadata": {},
   "source": [
    "Наличие двух данных асимптот x = 0 и x = 1 вытекает и из определенных нами ранее разрывов.<br>"
   ]
  },
  {
   "cell_type": "markdown",
   "metadata": {},
   "source": [
    "3) Проверим наличие наклонных асимптот:"
   ]
  },
  {
   "cell_type": "code",
   "execution_count": 24,
   "metadata": {},
   "outputs": [
    {
     "data": {
      "text/plain": [
       "0"
      ]
     },
     "execution_count": 24,
     "metadata": {},
     "output_type": "execute_result"
    }
   ],
   "source": [
    "limit(f(x) / x, x=infinity)"
   ]
  },
  {
   "cell_type": "markdown",
   "metadata": {},
   "source": [
    "Полученный предел равен 0, значит наклонных асимптот нет.<br>"
   ]
  },
  {
   "cell_type": "markdown",
   "metadata": {},
   "source": [
    "Теперь построим полученные асимптоты на графике.<br>"
   ]
  },
  {
   "cell_type": "code",
   "execution_count": 13,
   "metadata": {},
   "outputs": [],
   "source": [
    "plot_asympt1 = plot(1, (x, -10, 10), ymin=-5, ymax=8, color='red',linestyle=\"--\", legend_label='асимптоты')\n",
    "plot_asympt2 = line([(1,x) for x in srange(-5,8,0.1)], color='red',linestyle=\"--\")\n",
    "plot_asympt3 = line([(0,x) for x in srange(-5,8,0.1)], color='red',linestyle=\"--\", thickness=1.5)"
   ]
  },
  {
   "cell_type": "code",
   "execution_count": 16,
   "metadata": {},
   "outputs": [
    {
     "data": {
      "image/png": "[encoded data removed]",
      "text/plain": [
       "Graphics object consisting of 3 graphics primitives"
      ]
     },
     "metadata": {},
     "output_type": "display_data"
    }
   ],
   "source": [
    "show(plot(f, (x, -10, 10), ymin=-5, ymax=8,aspect_ratio=1, legend_label='f(x)') + plot_asympt3)"
   ]
  },
  {
   "cell_type": "code",
   "execution_count": null,
   "metadata": {},
   "outputs": [],
   "source": []
  }
 ],
 "metadata": {
  "kernelspec": {
   "display_name": "SageMath 9.2",
   "language": "sage",
   "name": "sagemath"
  },
  "language_info": {
   "codemirror_mode": {
    "name": "ipython",
    "version": 3
   },
   "file_extension": ".py",
   "mimetype": "text/x-python",
   "name": "python",
   "nbconvert_exporter": "python",
   "pygments_lexer": "ipython3",
   "version": "3.7.7"
  }
 },
 "nbformat": 4,
 "nbformat_minor": 4
}
