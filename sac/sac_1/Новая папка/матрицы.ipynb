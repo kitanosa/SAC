{
 "cells": [
  {
   "cell_type": "markdown",
   "metadata": {},
   "source": [
    "https://doc.sagemath.org/html/en/tutorial/tour_linalg.html#matrix-spaces"
   ]
  },
  {
   "cell_type": "markdown",
   "metadata": {},
   "source": [
    "Продолжение темы колец (начало см. в примере по полиномам)"
   ]
  },
  {
   "cell_type": "code",
   "execution_count": 12,
   "metadata": {},
   "outputs": [],
   "source": [
    "AZ = matrix(ZZ, [[2,0], [0,1]])\n",
    "AQ = matrix(QQ, [[2,0], [0,1]])\n",
    "AR = matrix(RR, [[2,0], [0,1]])"
   ]
  },
  {
   "cell_type": "markdown",
   "metadata": {},
   "source": [
    "Попробуем преобразовать в ступенчатый вид:"
   ]
  },
  {
   "cell_type": "code",
   "execution_count": 13,
   "metadata": {},
   "outputs": [
    {
     "data": {
      "text/plain": [
       "[2 0]\n",
       "[0 1]"
      ]
     },
     "execution_count": 13,
     "metadata": {},
     "output_type": "execute_result"
    }
   ],
   "source": [
    "AZ.echelon_form()"
   ]
  },
  {
   "cell_type": "code",
   "execution_count": 14,
   "metadata": {},
   "outputs": [
    {
     "data": {
      "text/plain": [
       "[1 0]\n",
       "[0 1]"
      ]
     },
     "execution_count": 14,
     "metadata": {},
     "output_type": "execute_result"
    }
   ],
   "source": [
    "AQ.echelon_form()"
   ]
  },
  {
   "cell_type": "code",
   "execution_count": 4,
   "metadata": {},
   "outputs": [
    {
     "data": {
      "text/plain": [
       "[ 1.00000000000000 0.000000000000000]\n",
       "[0.000000000000000  1.00000000000000]"
      ]
     },
     "execution_count": 4,
     "metadata": {},
     "output_type": "execute_result"
    }
   ],
   "source": [
    "AR.echelon_form()"
   ]
  },
  {
   "cell_type": "markdown",
   "metadata": {},
   "source": [
    "В зависимости от выбранного кольца - и результаты разные."
   ]
  },
  {
   "cell_type": "code",
   "execution_count": 62,
   "metadata": {},
   "outputs": [],
   "source": [
    "# Можно и не указывать кольцо\n",
    "A = Matrix([[1,2,3],[3,2,1],[1,1,1]])"
   ]
  },
  {
   "cell_type": "code",
   "execution_count": 63,
   "metadata": {},
   "outputs": [
    {
     "data": {
      "text/plain": [
       "Integer Ring"
      ]
     },
     "execution_count": 63,
     "metadata": {},
     "output_type": "execute_result"
    }
   ],
   "source": [
    "# проверим, какое кольцо используется по умолчанию\n",
    "A.base_ring()"
   ]
  },
  {
   "cell_type": "code",
   "execution_count": 64,
   "metadata": {},
   "outputs": [],
   "source": [
    "w = vector([1,1,-4])"
   ]
  },
  {
   "cell_type": "code",
   "execution_count": 65,
   "metadata": {},
   "outputs": [
    {
     "data": {
      "text/plain": [
       "(0, 0, 0)"
      ]
     },
     "execution_count": 65,
     "metadata": {},
     "output_type": "execute_result"
    }
   ],
   "source": [
    "w*A"
   ]
  },
  {
   "cell_type": "code",
   "execution_count": 66,
   "metadata": {},
   "outputs": [
    {
     "data": {
      "text/plain": [
       "(-9, 1, -2)"
      ]
     },
     "execution_count": 66,
     "metadata": {},
     "output_type": "execute_result"
    }
   ],
   "source": [
    "A*w"
   ]
  },
  {
   "cell_type": "code",
   "execution_count": 67,
   "metadata": {},
   "outputs": [
    {
     "data": {
      "text/plain": [
       "Free module of degree 3 and rank 1 over Integer Ring\n",
       "Echelon basis matrix:\n",
       "[ 1  1 -4]"
      ]
     },
     "execution_count": 67,
     "metadata": {},
     "output_type": "execute_result"
    }
   ],
   "source": [
    "kernel(A)"
   ]
  },
  {
   "cell_type": "code",
   "execution_count": 68,
   "metadata": {},
   "outputs": [
    {
     "data": {
      "text/plain": [
       "(-2, 1, 0)"
      ]
     },
     "execution_count": 68,
     "metadata": {},
     "output_type": "execute_result"
    }
   ],
   "source": [
    "Y = vector([0, -4, -1])\n",
    "X = A.solve_right(Y)\n",
    "X"
   ]
  },
  {
   "cell_type": "code",
   "execution_count": 69,
   "metadata": {},
   "outputs": [
    {
     "data": {
      "text/plain": [
       "(0, -4, -1)"
      ]
     },
     "execution_count": 69,
     "metadata": {},
     "output_type": "execute_result"
    }
   ],
   "source": [
    "A * X   # checking our answer..."
   ]
  },
  {
   "cell_type": "code",
   "execution_count": 70,
   "metadata": {},
   "outputs": [
    {
     "data": {
      "text/plain": [
       "True"
      ]
     },
     "execution_count": 70,
     "metadata": {},
     "output_type": "execute_result"
    }
   ],
   "source": [
    "A*X == Y"
   ]
  },
  {
   "cell_type": "code",
   "execution_count": 55,
   "metadata": {},
   "outputs": [
    {
     "data": {
      "text/plain": [
       "(-2, 1, 0)"
      ]
     },
     "execution_count": 55,
     "metadata": {},
     "output_type": "execute_result"
    }
   ],
   "source": [
    "# A backslash \\ can be used in the place of solve_right; use A \\ Y instead of A.solve_right(Y).\n",
    "A \\ Y"
   ]
  },
  {
   "cell_type": "code",
   "execution_count": 56,
   "metadata": {},
   "outputs": [
    {
     "data": {
      "text/plain": [
       "[-2*I, 2*I]"
      ]
     },
     "execution_count": 56,
     "metadata": {},
     "output_type": "execute_result"
    }
   ],
   "source": [
    "A = matrix([[0, 4], [-1, 0]])\n",
    "A.eigenvalues()"
   ]
  },
  {
   "cell_type": "code",
   "execution_count": 57,
   "metadata": {},
   "outputs": [
    {
     "data": {
      "text/plain": [
       "[(-2*I, [(1, 2*I)], 1), (2*I, [(1, -2*I)], 1)]"
      ]
     },
     "execution_count": 57,
     "metadata": {},
     "output_type": "execute_result"
    }
   ],
   "source": [
    "A.eigenvectors_left()"
   ]
  },
  {
   "cell_type": "code",
   "execution_count": 58,
   "metadata": {},
   "outputs": [
    {
     "data": {
      "text/plain": [
       "[1 0]\n",
       "[0 4]"
      ]
     },
     "execution_count": 58,
     "metadata": {},
     "output_type": "execute_result"
    }
   ],
   "source": [
    "# Преобразование к ступенчатому виду\n",
    "A.echelon_form()"
   ]
  },
  {
   "cell_type": "code",
   "execution_count": 59,
   "metadata": {},
   "outputs": [
    {
     "data": {
      "text/plain": [
       "4"
      ]
     },
     "execution_count": 59,
     "metadata": {},
     "output_type": "execute_result"
    }
   ],
   "source": [
    "# Определитель\n",
    "A.det()"
   ]
  },
  {
   "cell_type": "code",
   "execution_count": 60,
   "metadata": {},
   "outputs": [
    {
     "data": {
      "text/plain": [
       "4"
      ]
     },
     "execution_count": 60,
     "metadata": {},
     "output_type": "execute_result"
    }
   ],
   "source": [
    "A.determinant()"
   ]
  },
  {
   "cell_type": "code",
   "execution_count": 38,
   "metadata": {},
   "outputs": [
    {
     "data": {
      "text/plain": [
       "(\n",
       "[ 1/5    1    0   -1]                    \n",
       "[ 3/2 -3/4    0  1/4]                    \n",
       "[   2  1/3  2/5    0]                    \n",
       "[ 3/4   -2 -1/3    3], 4, -314/225, 57/20\n",
       ")"
      ]
     },
     "execution_count": 38,
     "metadata": {},
     "output_type": "execute_result"
    }
   ],
   "source": [
    "A=random_matrix(QQ,4,4,num_bound=4,den_bound=5)\n",
    "\n",
    "A, A.rank(), A.det(), A.trace()"
   ]
  },
  {
   "cell_type": "code",
   "execution_count": 39,
   "metadata": {},
   "outputs": [
    {
     "data": {
      "text/plain": [
       "x^4 - 57/20*x^3 - 107/100*x^2 + 4331/1800*x - 314/225"
      ]
     },
     "execution_count": 39,
     "metadata": {},
     "output_type": "execute_result"
    }
   ],
   "source": [
    "A.characteristic_polynomial()"
   ]
  },
  {
   "cell_type": "code",
   "execution_count": 40,
   "metadata": {},
   "outputs": [
    {
     "data": {
      "text/plain": [
       "[   655/1256     115/314      75/628      45/314]\n",
       "[  2805/2512    -543/628    465/1256     279/628]\n",
       "[-17775/5024  -1395/1256   4005/2512  -1365/1256]\n",
       "[   555/2512    -497/628    495/1256     297/628]"
      ]
     },
     "execution_count": 40,
     "metadata": {},
     "output_type": "execute_result"
    }
   ],
   "source": [
    "A^-1"
   ]
  },
  {
   "cell_type": "code",
   "execution_count": 41,
   "metadata": {},
   "outputs": [],
   "source": [
    "A = A.change_ring(RDF)"
   ]
  },
  {
   "cell_type": "code",
   "execution_count": 42,
   "metadata": {},
   "outputs": [
    {
     "data": {
      "text/plain": [
       "Real Double Field"
      ]
     },
     "execution_count": 42,
     "metadata": {},
     "output_type": "execute_result"
    }
   ],
   "source": [
    "RDF"
   ]
  },
  {
   "cell_type": "code",
   "execution_count": 43,
   "metadata": {},
   "outputs": [
    {
     "data": {
      "text/plain": [
       "[ 0.5214968152866242  0.3662420382165606  0.1194267515923566 0.14331210191082797]\n",
       "[ 1.1166401273885354 -0.8646496815286625  0.3702229299363057 0.44426751592356706]\n",
       "[ -3.538017515923567 -1.1106687898089176   1.594347133757962 -1.0867834394904456]\n",
       "[0.22093949044586006 -0.7914012738853504 0.39410828025477707  0.4729299363057326]"
      ]
     },
     "execution_count": 43,
     "metadata": {},
     "output_type": "execute_result"
    }
   ],
   "source": [
    "A^(-1)"
   ]
  },
  {
   "cell_type": "code",
   "execution_count": 44,
   "metadata": {},
   "outputs": [
    {
     "data": {
      "text/plain": [
       "[ 0.5214968152866242  0.3662420382165606  0.1194267515923566 0.14331210191082797]\n",
       "[ 1.1166401273885354 -0.8646496815286625  0.3702229299363057 0.44426751592356706]\n",
       "[ -3.538017515923567 -1.1106687898089176   1.594347133757962 -1.0867834394904456]\n",
       "[0.22093949044586006 -0.7914012738853504 0.39410828025477707  0.4729299363057326]"
      ]
     },
     "execution_count": 44,
     "metadata": {},
     "output_type": "execute_result"
    }
   ],
   "source": [
    "A.inverse()"
   ]
  },
  {
   "cell_type": "code",
   "execution_count": 45,
   "metadata": {},
   "outputs": [
    {
     "data": {
      "text/plain": [
       "[ 0.5214968152866242  0.3662420382165606  0.1194267515923566 0.14331210191082797]\n",
       "[ 1.1166401273885354 -0.8646496815286625  0.3702229299363057 0.44426751592356706]\n",
       "[ -3.538017515923567 -1.1106687898089176   1.594347133757962 -1.0867834394904456]\n",
       "[0.22093949044586006 -0.7914012738853504 0.39410828025477707  0.4729299363057326]"
      ]
     },
     "execution_count": 45,
     "metadata": {},
     "output_type": "execute_result"
    }
   ],
   "source": [
    "~A"
   ]
  },
  {
   "cell_type": "code",
   "execution_count": 46,
   "metadata": {},
   "outputs": [
    {
     "data": {
      "text/html": [
       "<html><script type=\"math/tex; mode=display\">\\newcommand{\\Bold}[1]{\\mathbf{#1}}t^{4} - 2.85 t^{3} - 1.0699999999999994 t^{2} + 2.4061111111111124 t - 1.3955555555555605</script></html>"
      ],
      "text/plain": [
       "t^4 - 2.85*t^3 - 1.0699999999999994*t^2 + 2.4061111111111124*t - 1.3955555555555605"
      ]
     },
     "metadata": {},
     "output_type": "display_data"
    }
   ],
   "source": [
    "var(\"t\")\n",
    "show(A.charpoly(t))"
   ]
  },
  {
   "cell_type": "code",
   "execution_count": 71,
   "metadata": {},
   "outputs": [
    {
     "data": {
      "text/plain": [
       "[ 5| 0| 0]\n",
       "[--+--+--]\n",
       "[ 0| 0| 0]\n",
       "[--+--+--]\n",
       "[ 0| 0|-1]"
      ]
     },
     "execution_count": 71,
     "metadata": {},
     "output_type": "execute_result"
    }
   ],
   "source": [
    "A.jordan_form()"
   ]
  },
  {
   "cell_type": "code",
   "execution_count": 10,
   "metadata": {},
   "outputs": [
    {
     "data": {
      "text/html": [
       "<html><script type=\"math/tex; mode=display\">\\newcommand{\\Bold}[1]{\\mathbf{#1}}\\verb|A|\\phantom{\\verb!x!}\\verb|=| \\left(\\begin{array}{rrr}\n",
       "1 & -2 & 1 \\\\\n",
       "2 & 3 & -1 \\\\\n",
       "4 & -1 & 1\n",
       "\\end{array}\\right)</script></html>"
      ],
      "text/plain": [
       "'A = ' [ 1 -2  1]\n",
       "[ 2  3 -1]\n",
       "[ 4 -1  1]"
      ]
     },
     "metadata": {},
     "output_type": "display_data"
    },
    {
     "data": {
      "text/html": [
       "<html><script type=\"math/tex; mode=display\">\\newcommand{\\Bold}[1]{\\mathbf{#1}}\\verb|B|\\phantom{\\verb!x!}\\verb|=| \\left(\\begin{array}{r}\n",
       "4 \\\\\n",
       "3 \\\\\n",
       "11\n",
       "\\end{array}\\right)</script></html>"
      ],
      "text/plain": [
       "'B = ' [ 4]\n",
       "[ 3]\n",
       "[11]"
      ]
     },
     "metadata": {},
     "output_type": "display_data"
    },
    {
     "data": {
      "text/html": [
       "<html><script type=\"math/tex; mode=display\">\\newcommand{\\Bold}[1]{\\mathbf{#1}}\\verb|C|\\phantom{\\verb!x!}\\verb|=| \\left(\\begin{array}{rrr|r}\n",
       "1 & -2 & 1 & 4 \\\\\n",
       "2 & 3 & -1 & 3 \\\\\n",
       "4 & -1 & 1 & 11\n",
       "\\end{array}\\right)</script></html>"
      ],
      "text/plain": [
       "'C = ' [ 1 -2  1| 4]\n",
       "[ 2  3 -1| 3]\n",
       "[ 4 -1  1|11]"
      ]
     },
     "metadata": {},
     "output_type": "display_data"
    }
   ],
   "source": [
    "A = matrix([[1, -2, 1],\n",
    "            [2, 3, -1],\n",
    "            [4, -1, 1]])\n",
    "\n",
    "show(\"A = \", A)\n",
    "B = matrix([[4, 3, 11]]).transpose()\n",
    "show(\"B = \", B)\n",
    "\n",
    "C = block_matrix([A, B], nrows=1)\n",
    "show(\"C = \", C)"
   ]
  },
  {
   "cell_type": "code",
   "execution_count": null,
   "metadata": {},
   "outputs": [],
   "source": []
  }
 ],
 "metadata": {
  "kernelspec": {
   "display_name": "SageMath 9.1",
   "language": "sage",
   "name": "sagemath"
  },
  "language_info": {
   "codemirror_mode": {
    "name": "ipython",
    "version": 3
   },
   "file_extension": ".py",
   "mimetype": "text/x-python",
   "name": "python",
   "nbconvert_exporter": "python",
   "pygments_lexer": "ipython3",
   "version": "3.7.3"
  }
 },
 "nbformat": 4,
 "nbformat_minor": 2
}
